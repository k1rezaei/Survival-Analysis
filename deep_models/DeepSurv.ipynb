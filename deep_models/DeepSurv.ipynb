{
 "cells": [
  {
   "cell_type": "code",
   "execution_count": 1,
   "metadata": {},
   "outputs": [],
   "source": [
    "import numpy as np\n",
    "import matplotlib.pyplot as plt\n",
    "import pandas as pd\n",
    "from sklearn.preprocessing import StandardScaler\n",
    "from sklearn_pandas import DataFrameMapper\n",
    "\n",
    "import torch\n",
    "import torchtuples as tt\n",
    "\n",
    "from pycox.datasets import metabric\n",
    "from pycox.models import CoxPH\n",
    "from pycox.evaluation import EvalSurv\n",
    "from pycox.preprocessing.feature_transforms import OrderedCategoricalLong"
   ]
  },
  {
   "cell_type": "code",
   "execution_count": 2,
   "metadata": {},
   "outputs": [],
   "source": [
    "# We also set some seeds to make this reproducable.\n",
    "np.random.seed(42)\n",
    "_ = torch.manual_seed(42)"
   ]
  },
  {
   "cell_type": "markdown",
   "metadata": {},
   "source": [
    "## Dataset\n"
   ]
  },
  {
   "cell_type": "code",
   "execution_count": 3,
   "metadata": {},
   "outputs": [],
   "source": [
    "path_to_file = './../dataset_and_other_models/dataset/'\n",
    "df_train_x = pd.read_csv(path_to_file + 'train_x.csv')\n",
    "df_train_y = pd.read_csv(path_to_file + 'train_y.csv')\n",
    "df_train_y['Status'].replace({True: 1, False: 0}, inplace=True)"
   ]
  },
  {
   "cell_type": "code",
   "execution_count": 4,
   "metadata": {},
   "outputs": [],
   "source": [
    "df_test_x = pd.read_csv(path_to_file + 'test_x.csv')\n",
    "df_test_y = pd.read_csv(path_to_file + 'test_y.csv')\n",
    "df_test_y['Status'].replace({True: 1, False: 0}, inplace=True)"
   ]
  },
  {
   "cell_type": "code",
   "execution_count": 5,
   "metadata": {},
   "outputs": [],
   "source": [
    "df_test = pd.concat([df_test_x, df_test_y], axis=1)\n",
    "df_test = df_test.astype('float32')"
   ]
  },
  {
   "cell_type": "code",
   "execution_count": 6,
   "metadata": {},
   "outputs": [],
   "source": [
    "df_train = pd.concat([df_train_x, df_train_y], axis=1)\n",
    "df_train = df_train.astype('float32')"
   ]
  },
  {
   "cell_type": "code",
   "execution_count": 7,
   "metadata": {},
   "outputs": [],
   "source": [
    "df_val = df_train.sample(frac=0.25)\n",
    "df_train = df_train.drop(df_val.index)"
   ]
  },
  {
   "cell_type": "code",
   "execution_count": 8,
   "metadata": {},
   "outputs": [
    {
     "name": "stdout",
     "output_type": "stream",
     "text": [
      "21\n"
     ]
    }
   ],
   "source": [
    "cols_standardize =  ['BE', 'BC', 'AY', 'Age'] # Numerical columns\n",
    "cols_leave = ['Y', 'AF', 'BG', 'BH', 'BI', 'BL',\n",
    "              'BM', 'BP', 'CY', 'DC',\n",
    "              'DW', 'DX', 'DY', 'metastasis', 'secondprim'] # Binary columns\n",
    "cols_categorical =  ['AQ', 'DE'] # Categorical Columns\n",
    "\n",
    "print(len(cols_standardize) + len(cols_leave) + len(cols_categorical))"
   ]
  },
  {
   "cell_type": "code",
   "execution_count": 9,
   "metadata": {},
   "outputs": [],
   "source": [
    "# Turn them to binary features (0, 1)\n",
    "df_train[cols_leave] -= 1\n",
    "df_val[cols_leave] -= 1\n",
    "df_test[cols_leave] -= 1"
   ]
  },
  {
   "cell_type": "code",
   "execution_count": 10,
   "metadata": {},
   "outputs": [
    {
     "data": {
      "text/plain": "     Y   AF   AQ   AY   BC   BE   BG   BH   BI   BL  ...   DC    DE   DW   DX  \\\n1  1.0  1.0  1.0  4.0  2.5  3.0  0.0  1.0  1.0  0.0  ...  0.0   1.0  0.0  0.0   \n2  1.0  1.0  2.0  2.0  1.5  3.0  0.0  0.0  1.0  0.0  ...  0.0   1.0  0.0  1.0   \n3  1.0  0.0  2.0  2.0  3.0  2.0  0.0  0.0  1.0  0.0  ...  1.0  10.0  1.0  1.0   \n4  1.0  0.0  2.0  3.0  2.0  1.0  0.0  0.0  1.0  0.0  ...  1.0  10.0  1.0  1.0   \n6  1.0  1.0  2.0  2.0  2.7  2.0  1.0  0.0  0.0  0.0  ...  0.0   1.0  1.0  0.0   \n\n    DY   Age  metastasis  secondprim  Status  Survival  \n1  1.0  59.0         1.0         1.0     1.0     219.0  \n2  1.0  66.0         1.0         1.0     0.0     645.0  \n3  1.0  72.0         1.0         1.0     0.0    2006.0  \n4  1.0  51.0         1.0         1.0     0.0    1933.0  \n6  0.0  55.0         1.0         1.0     1.0     435.0  \n\n[5 rows x 23 columns]",
      "text/html": "<div>\n<style scoped>\n    .dataframe tbody tr th:only-of-type {\n        vertical-align: middle;\n    }\n\n    .dataframe tbody tr th {\n        vertical-align: top;\n    }\n\n    .dataframe thead th {\n        text-align: right;\n    }\n</style>\n<table border=\"1\" class=\"dataframe\">\n  <thead>\n    <tr style=\"text-align: right;\">\n      <th></th>\n      <th>Y</th>\n      <th>AF</th>\n      <th>AQ</th>\n      <th>AY</th>\n      <th>BC</th>\n      <th>BE</th>\n      <th>BG</th>\n      <th>BH</th>\n      <th>BI</th>\n      <th>BL</th>\n      <th>...</th>\n      <th>DC</th>\n      <th>DE</th>\n      <th>DW</th>\n      <th>DX</th>\n      <th>DY</th>\n      <th>Age</th>\n      <th>metastasis</th>\n      <th>secondprim</th>\n      <th>Status</th>\n      <th>Survival</th>\n    </tr>\n  </thead>\n  <tbody>\n    <tr>\n      <th>1</th>\n      <td>1.0</td>\n      <td>1.0</td>\n      <td>1.0</td>\n      <td>4.0</td>\n      <td>2.5</td>\n      <td>3.0</td>\n      <td>0.0</td>\n      <td>1.0</td>\n      <td>1.0</td>\n      <td>0.0</td>\n      <td>...</td>\n      <td>0.0</td>\n      <td>1.0</td>\n      <td>0.0</td>\n      <td>0.0</td>\n      <td>1.0</td>\n      <td>59.0</td>\n      <td>1.0</td>\n      <td>1.0</td>\n      <td>1.0</td>\n      <td>219.0</td>\n    </tr>\n    <tr>\n      <th>2</th>\n      <td>1.0</td>\n      <td>1.0</td>\n      <td>2.0</td>\n      <td>2.0</td>\n      <td>1.5</td>\n      <td>3.0</td>\n      <td>0.0</td>\n      <td>0.0</td>\n      <td>1.0</td>\n      <td>0.0</td>\n      <td>...</td>\n      <td>0.0</td>\n      <td>1.0</td>\n      <td>0.0</td>\n      <td>1.0</td>\n      <td>1.0</td>\n      <td>66.0</td>\n      <td>1.0</td>\n      <td>1.0</td>\n      <td>0.0</td>\n      <td>645.0</td>\n    </tr>\n    <tr>\n      <th>3</th>\n      <td>1.0</td>\n      <td>0.0</td>\n      <td>2.0</td>\n      <td>2.0</td>\n      <td>3.0</td>\n      <td>2.0</td>\n      <td>0.0</td>\n      <td>0.0</td>\n      <td>1.0</td>\n      <td>0.0</td>\n      <td>...</td>\n      <td>1.0</td>\n      <td>10.0</td>\n      <td>1.0</td>\n      <td>1.0</td>\n      <td>1.0</td>\n      <td>72.0</td>\n      <td>1.0</td>\n      <td>1.0</td>\n      <td>0.0</td>\n      <td>2006.0</td>\n    </tr>\n    <tr>\n      <th>4</th>\n      <td>1.0</td>\n      <td>0.0</td>\n      <td>2.0</td>\n      <td>3.0</td>\n      <td>2.0</td>\n      <td>1.0</td>\n      <td>0.0</td>\n      <td>0.0</td>\n      <td>1.0</td>\n      <td>0.0</td>\n      <td>...</td>\n      <td>1.0</td>\n      <td>10.0</td>\n      <td>1.0</td>\n      <td>1.0</td>\n      <td>1.0</td>\n      <td>51.0</td>\n      <td>1.0</td>\n      <td>1.0</td>\n      <td>0.0</td>\n      <td>1933.0</td>\n    </tr>\n    <tr>\n      <th>6</th>\n      <td>1.0</td>\n      <td>1.0</td>\n      <td>2.0</td>\n      <td>2.0</td>\n      <td>2.7</td>\n      <td>2.0</td>\n      <td>1.0</td>\n      <td>0.0</td>\n      <td>0.0</td>\n      <td>0.0</td>\n      <td>...</td>\n      <td>0.0</td>\n      <td>1.0</td>\n      <td>1.0</td>\n      <td>0.0</td>\n      <td>0.0</td>\n      <td>55.0</td>\n      <td>1.0</td>\n      <td>1.0</td>\n      <td>1.0</td>\n      <td>435.0</td>\n    </tr>\n  </tbody>\n</table>\n<p>5 rows × 23 columns</p>\n</div>"
     },
     "execution_count": 10,
     "metadata": {},
     "output_type": "execute_result"
    }
   ],
   "source": [
    "df_train.head()"
   ]
  },
  {
   "cell_type": "code",
   "execution_count": 11,
   "metadata": {},
   "outputs": [],
   "source": [
    "# Preprocess different types of features.\n",
    "standardize = [([col], StandardScaler()) for col in cols_standardize]\n",
    "leave = [(col, None) for col in cols_leave]\n",
    "categorical = [(col, OrderedCategoricalLong(min_per_category=5)) for col in cols_categorical]\n",
    "\n",
    "x_mapper_float = DataFrameMapper(standardize + leave)\n",
    "x_mapper_long = DataFrameMapper(categorical)  # we need a separate mapper to ensure the data type 'int64'"
   ]
  },
  {
   "cell_type": "code",
   "execution_count": 12,
   "metadata": {},
   "outputs": [],
   "source": [
    "x_fit_transform = lambda df: tt.tuplefy(x_mapper_float.fit_transform(df), x_mapper_long.fit_transform(df))\n",
    "x_transform = lambda df: tt.tuplefy(x_mapper_float.transform(df), x_mapper_long.transform(df))"
   ]
  },
  {
   "cell_type": "code",
   "execution_count": 13,
   "metadata": {},
   "outputs": [],
   "source": [
    "x_train = x_fit_transform(df_train)\n",
    "x_val = x_transform(df_val)\n",
    "x_test = x_transform(df_test)"
   ]
  },
  {
   "cell_type": "code",
   "execution_count": 14,
   "metadata": {
    "collapsed": false,
    "jupyter": {
     "outputs_hidden": false
    },
    "pycharm": {
     "name": "#%%\n"
    }
   },
   "outputs": [
    {
     "data": {
      "text/plain": "1      1.0\n2      2.0\n3      2.0\n4      2.0\n6      2.0\n7      6.0\n8      2.0\n10     1.0\n11     2.0\n12    10.0\nName: AQ, dtype: float32"
     },
     "execution_count": 14,
     "metadata": {},
     "output_type": "execute_result"
    }
   ],
   "source": [
    "df_train['AQ'].head(10)"
   ]
  },
  {
   "cell_type": "code",
   "execution_count": 15,
   "outputs": [
    {
     "name": "stdout",
     "output_type": "stream",
     "text": [
      "((315, 19), (315, 2)) ((105, 19), (105, 2)) ((106, 19), (106, 2))\n"
     ]
    }
   ],
   "source": [
    "print(x_train.shapes(), x_val.shapes(), x_test.shapes())"
   ],
   "metadata": {
    "collapsed": false,
    "pycharm": {
     "name": "#%%\n"
    }
   }
  },
  {
   "cell_type": "code",
   "execution_count": 16,
   "metadata": {},
   "outputs": [],
   "source": [
    "get_target = lambda df: (df['Survival'].values, df['Status'].values)\n",
    "y_train = get_target(df_train)\n",
    "y_val = get_target(df_val)\n",
    "durations_test, events_test = get_target(df_test)\n",
    "val = x_val, y_val"
   ]
  },
  {
   "cell_type": "markdown",
   "metadata": {},
   "source": [
    "## Neural Network"
   ]
  },
  {
   "cell_type": "code",
   "execution_count": 17,
   "metadata": {},
   "outputs": [
    {
     "data": {
      "text/plain": "array([[1, 1],\n       [2, 1],\n       [2, 9],\n       [2, 9],\n       [2, 1],\n       [5, 7],\n       [2, 2],\n       [1, 3],\n       [2, 1],\n       [0, 8],\n       [2, 1],\n       [2, 9],\n       [2, 1],\n       [2, 1],\n       [2, 9],\n       [5, 1],\n       [2, 9],\n       [2, 9],\n       [3, 9],\n       [4, 9],\n       [2, 2],\n       [2, 2],\n       [2, 1],\n       [5, 9],\n       [4, 9],\n       [1, 1],\n       [1, 1],\n       [2, 9],\n       [2, 9],\n       [2, 9],\n       [0, 1],\n       [1, 9],\n       [2, 5],\n       [2, 2],\n       [2, 1],\n       [2, 1],\n       [2, 8],\n       [2, 9],\n       [2, 8],\n       [1, 8],\n       [4, 1],\n       [2, 9],\n       [5, 9],\n       [5, 2],\n       [4, 9],\n       [2, 2],\n       [2, 9],\n       [1, 9],\n       [4, 1],\n       [1, 9],\n       [0, 9],\n       [2, 9],\n       [5, 2],\n       [4, 9],\n       [2, 9],\n       [1, 1],\n       [2, 3],\n       [0, 1],\n       [1, 9],\n       [2, 6],\n       [5, 8],\n       [4, 1],\n       [1, 9],\n       [1, 3],\n       [2, 9],\n       [2, 7],\n       [5, 1],\n       [3, 9],\n       [2, 1],\n       [2, 9],\n       [2, 8],\n       [2, 6],\n       [2, 1],\n       [1, 9],\n       [2, 1],\n       [2, 9],\n       [5, 9],\n       [4, 1],\n       [2, 9],\n       [3, 1],\n       [1, 9],\n       [2, 1],\n       [2, 9],\n       [2, 5],\n       [2, 8],\n       [1, 1],\n       [2, 3],\n       [2, 9],\n       [2, 9],\n       [2, 9],\n       [2, 3],\n       [2, 9],\n       [5, 8],\n       [2, 1],\n       [2, 1],\n       [2, 9],\n       [2, 9],\n       [2, 9],\n       [2, 4],\n       [5, 1],\n       [1, 9],\n       [2, 1],\n       [2, 1],\n       [0, 9],\n       [1, 9],\n       [2, 9],\n       [0, 2],\n       [4, 1],\n       [2, 1],\n       [4, 1],\n       [3, 1],\n       [5, 9],\n       [2, 1],\n       [2, 3],\n       [2, 9],\n       [2, 5],\n       [2, 1],\n       [2, 9],\n       [1, 2],\n       [1, 8],\n       [2, 9],\n       [2, 9],\n       [2, 1],\n       [2, 9],\n       [1, 9],\n       [2, 9],\n       [4, 8],\n       [2, 9],\n       [2, 1],\n       [1, 9],\n       [2, 9],\n       [4, 6],\n       [5, 4],\n       [3, 1],\n       [1, 1],\n       [3, 9],\n       [1, 9],\n       [2, 1],\n       [2, 1],\n       [3, 9],\n       [1, 1],\n       [1, 9],\n       [2, 2],\n       [2, 9],\n       [3, 9],\n       [5, 1],\n       [1, 1],\n       [2, 9],\n       [5, 5],\n       [1, 9],\n       [4, 9],\n       [2, 2],\n       [1, 1],\n       [2, 9],\n       [1, 1],\n       [1, 9],\n       [1, 9],\n       [2, 9],\n       [2, 9],\n       [2, 8],\n       [4, 3],\n       [1, 3],\n       [2, 1],\n       [4, 4],\n       [2, 0],\n       [1, 9],\n       [2, 7],\n       [2, 9],\n       [1, 9],\n       [2, 5],\n       [1, 8],\n       [0, 1],\n       [2, 1],\n       [2, 1],\n       [1, 9],\n       [4, 1],\n       [2, 1],\n       [1, 1],\n       [1, 9],\n       [2, 1],\n       [2, 9],\n       [0, 5],\n       [2, 7],\n       [2, 9],\n       [2, 3],\n       [2, 9],\n       [2, 1],\n       [2, 9],\n       [5, 1],\n       [2, 3],\n       [2, 1],\n       [2, 3],\n       [2, 9],\n       [1, 1],\n       [1, 9],\n       [2, 9],\n       [2, 2],\n       [2, 9],\n       [2, 9],\n       [3, 9],\n       [3, 9],\n       [2, 1],\n       [2, 9],\n       [2, 7],\n       [1, 9],\n       [2, 1],\n       [2, 4],\n       [2, 1],\n       [2, 3],\n       [5, 8],\n       [0, 0],\n       [2, 9],\n       [5, 9],\n       [2, 8],\n       [2, 9],\n       [2, 9],\n       [5, 6],\n       [4, 9],\n       [2, 1],\n       [1, 1],\n       [2, 3],\n       [2, 2],\n       [2, 1],\n       [2, 1],\n       [2, 9],\n       [5, 1],\n       [2, 1],\n       [5, 6],\n       [1, 9],\n       [4, 2],\n       [2, 9],\n       [2, 9],\n       [1, 9],\n       [5, 9],\n       [0, 3],\n       [2, 1],\n       [1, 9],\n       [2, 8],\n       [1, 9],\n       [0, 1],\n       [2, 9],\n       [2, 7],\n       [2, 9],\n       [2, 7],\n       [1, 1],\n       [2, 3],\n       [2, 1],\n       [5, 4],\n       [1, 9],\n       [2, 9],\n       [1, 1],\n       [2, 1],\n       [2, 1],\n       [2, 9],\n       [1, 7],\n       [2, 1],\n       [4, 9],\n       [1, 5],\n       [2, 9],\n       [0, 2],\n       [2, 1],\n       [2, 1],\n       [2, 1],\n       [2, 1],\n       [4, 4],\n       [2, 9],\n       [2, 9],\n       [2, 9],\n       [5, 1],\n       [2, 9],\n       [5, 2],\n       [2, 9],\n       [2, 6],\n       [2, 1],\n       [2, 9],\n       [2, 9],\n       [1, 1],\n       [2, 9],\n       [1, 9],\n       [2, 9],\n       [1, 9],\n       [2, 1],\n       [1, 9],\n       [5, 9],\n       [2, 3],\n       [5, 7],\n       [1, 9],\n       [2, 9],\n       [1, 9],\n       [2, 8],\n       [1, 1],\n       [3, 9],\n       [2, 9],\n       [1, 9],\n       [1, 8],\n       [2, 9],\n       [3, 9],\n       [1, 8],\n       [2, 3],\n       [2, 9],\n       [2, 9],\n       [1, 9],\n       [2, 1],\n       [2, 9],\n       [1, 9],\n       [2, 1],\n       [2, 9],\n       [2, 9],\n       [2, 1],\n       [2, 1],\n       [2, 1],\n       [4, 1],\n       [1, 9],\n       [1, 9],\n       [2, 1]], dtype=int64)"
     },
     "execution_count": 17,
     "metadata": {},
     "output_type": "execute_result"
    }
   ],
   "source": [
    "np.std(x_train[0][:, 0])\n",
    "x_train[1]"
   ]
  },
  {
   "cell_type": "code",
   "execution_count": 18,
   "metadata": {
    "collapsed": false,
    "jupyter": {
     "outputs_hidden": false
    },
    "pycharm": {
     "name": "#%%\n"
    }
   },
   "outputs": [],
   "source": [
    "num_embeddings = x_train[1].max(0) + 1\n",
    "embedding_dims = num_embeddings // 2"
   ]
  },
  {
   "cell_type": "code",
   "execution_count": 19,
   "metadata": {},
   "outputs": [
    {
     "data": {
      "text/plain": "(array([ 6, 10], dtype=int64), array([3, 5], dtype=int64))"
     },
     "execution_count": 19,
     "metadata": {},
     "output_type": "execute_result"
    }
   ],
   "source": [
    "num_embeddings, embedding_dims"
   ]
  },
  {
   "cell_type": "code",
   "execution_count": 179,
   "metadata": {},
   "outputs": [],
   "source": [
    "# {'num_nodes': [32, 16, 16, 16, 32], 'dropout': 0.7, 'lr': 0.05}\n",
    "# {'Validation Error': -3.275776, 'VE': -1.1813684, 'Train Error': -4.036133}\n",
    "\n",
    "# Opt1: {'num_nodes': [64, 128, 128, 64], 'dropout': 0.7, 'lr': 0.05}\n",
    "# Opt2: {'num_nodes': [32, 16, 16, 16, 32], 'dropout': 0.8, 'lr': 0.05}\n",
    "# Opt3: {'num_nodes': [64, 64, 64], 'dropout': 0.6, 'lr': 0.05}\n",
    "# Opt4: {'num_nodes': [64, 64], 'dropout': 0.6, 'lr': 0.01}\n",
    "# Opt3: {'num_nodes': [64, 128, 64], 'dropout': 0.6, 'lr': 0.05}\n",
    "\n",
    "in_features = x_train[0].shape[1]\n",
    "num_nodes =  [64, 64, 64]\n",
    "out_features = 1\n",
    "batch_norm = True\n",
    "dropout = 0.6\n",
    "output_bias = False\n",
    "\n",
    "net = tt.practical.MixedInputMLP(in_features, num_embeddings, embedding_dims,\n",
    "                                 num_nodes, out_features, batch_norm, dropout)"
   ]
  },
  {
   "cell_type": "code",
   "execution_count": 180,
   "metadata": {},
   "outputs": [
    {
     "data": {
      "text/plain": "19"
     },
     "execution_count": 180,
     "metadata": {},
     "output_type": "execute_result"
    }
   ],
   "source": [
    "in_features"
   ]
  },
  {
   "cell_type": "code",
   "execution_count": 181,
   "metadata": {
    "collapsed": false,
    "jupyter": {
     "outputs_hidden": false
    },
    "pycharm": {
     "name": "#%%\n"
    }
   },
   "outputs": [
    {
     "data": {
      "text/plain": "MixedInputMLP(\n  (embeddings): EntityEmbeddings(\n    (embeddings): ModuleList(\n      (0): Embedding(6, 3)\n      (1): Embedding(10, 5)\n    )\n  )\n  (mlp): MLPVanilla(\n    (net): Sequential(\n      (0): DenseVanillaBlock(\n        (linear): Linear(in_features=27, out_features=64, bias=True)\n        (activation): ReLU()\n        (batch_norm): BatchNorm1d(64, eps=1e-05, momentum=0.1, affine=True, track_running_stats=True)\n        (dropout): Dropout(p=0.6, inplace=False)\n      )\n      (1): DenseVanillaBlock(\n        (linear): Linear(in_features=64, out_features=64, bias=True)\n        (activation): ReLU()\n        (batch_norm): BatchNorm1d(64, eps=1e-05, momentum=0.1, affine=True, track_running_stats=True)\n        (dropout): Dropout(p=0.6, inplace=False)\n      )\n      (2): DenseVanillaBlock(\n        (linear): Linear(in_features=64, out_features=64, bias=True)\n        (activation): ReLU()\n        (batch_norm): BatchNorm1d(64, eps=1e-05, momentum=0.1, affine=True, track_running_stats=True)\n        (dropout): Dropout(p=0.6, inplace=False)\n      )\n      (3): Linear(in_features=64, out_features=1, bias=True)\n    )\n  )\n)"
     },
     "execution_count": 181,
     "metadata": {},
     "output_type": "execute_result"
    }
   ],
   "source": [
    "net"
   ]
  },
  {
   "cell_type": "markdown",
   "metadata": {},
   "source": [
    "## Training the model"
   ]
  },
  {
   "cell_type": "code",
   "execution_count": 182,
   "metadata": {},
   "outputs": [],
   "source": [
    "model = CoxPH(net, tt.optim.Adam)"
   ]
  },
  {
   "cell_type": "code",
   "execution_count": 183,
   "metadata": {},
   "outputs": [
    {
     "data": {
      "text/plain": "<Figure size 432x288 with 1 Axes>",
      "image/png": "[encoded data removed]"
     },
     "metadata": {
      "needs_background": "light"
     },
     "output_type": "display_data"
    }
   ],
   "source": [
    "batch_size = 128\n",
    "lrfinder = model.lr_finder(x_train, y_train, batch_size, tolerance=10)\n",
    "_ = lrfinder.plot()"
   ]
  },
  {
   "cell_type": "code",
   "execution_count": 184,
   "metadata": {},
   "outputs": [
    {
     "data": {
      "text/plain": "0.029150530628251937"
     },
     "execution_count": 184,
     "metadata": {},
     "output_type": "execute_result"
    }
   ],
   "source": [
    "lrfinder.get_best_lr()"
   ]
  },
  {
   "cell_type": "code",
   "execution_count": 185,
   "metadata": {},
   "outputs": [],
   "source": [
    "model.optimizer.set_lr(0.01)\n",
    "# model.optimizer.set_lr(0.05)"
   ]
  },
  {
   "cell_type": "code",
   "execution_count": 186,
   "metadata": {},
   "outputs": [],
   "source": [
    "# epochs = 512\n",
    "epochs = 400\n",
    "# callbacks = [tt.callbacks.EarlyStopping()]\n",
    "callbacks = []\n",
    "verbose = False"
   ]
  },
  {
   "cell_type": "code",
   "execution_count": 187,
   "metadata": {},
   "outputs": [
    {
     "name": "stdout",
     "output_type": "stream",
     "text": [
      "Wall time: 8.2 s\n"
     ]
    }
   ],
   "source": [
    "%%time\n",
    "log = model.fit(x_train, y_train, batch_size, epochs, callbacks, verbose,\n",
    "                val_data=val, val_batch_size=batch_size)\n"
   ]
  },
  {
   "cell_type": "code",
   "execution_count": 188,
   "metadata": {},
   "outputs": [
    {
     "data": {
      "text/plain": "<Figure size 432x288 with 1 Axes>",
      "image/png": "[encoded data removed]"
     },
     "metadata": {
      "needs_background": "light"
     },
     "output_type": "display_data"
    }
   ],
   "source": [
    "_ = log.plot()"
   ]
  },
  {
   "cell_type": "markdown",
   "metadata": {},
   "source": [
    "We can get the partial log-likelihood"
   ]
  },
  {
   "cell_type": "code",
   "execution_count": 189,
   "metadata": {},
   "outputs": [
    {
     "data": {
      "text/plain": "-3.7915719"
     },
     "execution_count": 189,
     "metadata": {},
     "output_type": "execute_result"
    }
   ],
   "source": [
    "model.partial_log_likelihood(*val).mean()"
   ]
  },
  {
   "cell_type": "code",
   "execution_count": 190,
   "metadata": {},
   "outputs": [
    {
     "data": {
      "text/plain": "-3.4709425"
     },
     "execution_count": 190,
     "metadata": {},
     "output_type": "execute_result"
    }
   ],
   "source": [
    "my_train = x_train, y_train\n",
    "model.partial_log_likelihood(*my_train).mean()"
   ]
  },
  {
   "cell_type": "markdown",
   "metadata": {},
   "source": [
    "## Prediction"
   ]
  },
  {
   "cell_type": "code",
   "execution_count": 191,
   "metadata": {},
   "outputs": [],
   "source": [
    "_ = model.compute_baseline_hazards()"
   ]
  },
  {
   "cell_type": "code",
   "execution_count": 192,
   "metadata": {},
   "outputs": [],
   "source": [
    "surv = model.predict_surv_df(x_test)\n",
    "surv_train = model.predict_surv_df(x_train)\n",
    "surv_val = model.predict_surv_df(x_val)"
   ]
  },
  {
   "cell_type": "code",
   "execution_count": 195,
   "metadata": {},
   "outputs": [
    {
     "data": {
      "text/plain": "<Figure size 432x288 with 1 Axes>",
      "image/png": "[encoded data removed]"
     },
     "metadata": {
      "needs_background": "light"
     },
     "output_type": "display_data"
    }
   ],
   "source": [
    "surv.iloc[:, 0:10].plot()\n",
    "plt.ylabel('$S(t|x)$')\n",
    "_ = plt.xlabel('Time')"
   ]
  },
  {
   "cell_type": "markdown",
   "metadata": {},
   "source": [
    "## Evaluation"
   ]
  },
  {
   "cell_type": "code",
   "execution_count": 196,
   "metadata": {},
   "outputs": [
    {
     "data": {
      "text/plain": "0.8227804542326221"
     },
     "execution_count": 196,
     "metadata": {},
     "output_type": "execute_result"
    }
   ],
   "source": [
    "ev = EvalSurv(surv, durations_test, events_test, censor_surv='km')\n",
    "ev.concordance_td()"
   ]
  },
  {
   "cell_type": "code",
   "execution_count": 197,
   "metadata": {},
   "outputs": [
    {
     "data": {
      "text/plain": "0.9374611076540137"
     },
     "execution_count": 197,
     "metadata": {},
     "output_type": "execute_result"
    }
   ],
   "source": [
    "durations_train, events_train = get_target(df_train)\n",
    "ev_train = EvalSurv(surv_train, durations_train, events_train, censor_surv='km')\n",
    "ev_train.concordance_td()"
   ]
  },
  {
   "cell_type": "code",
   "execution_count": 198,
   "metadata": {},
   "outputs": [
    {
     "data": {
      "text/plain": "0.797377830750894"
     },
     "execution_count": 198,
     "metadata": {},
     "output_type": "execute_result"
    }
   ],
   "source": [
    "durations_val, events_val = get_target(df_val)\n",
    "ev_val = EvalSurv(surv_val, durations_val, events_val, censor_surv='km')\n",
    "ev_val.concordance_td()"
   ]
  },
  {
   "cell_type": "code",
   "execution_count": 199,
   "metadata": {},
   "outputs": [
    {
     "data": {
      "text/plain": "<Figure size 432x288 with 1 Axes>",
      "image/png": "[encoded data removed]"
     },
     "metadata": {
      "needs_background": "light"
     },
     "output_type": "display_data"
    }
   ],
   "source": [
    "# time_grid = np.linspace(durations_test.min(), durations_test.max(), 100)\n",
    "time_grid = np.arange(365, 2400, 30)\n",
    "_ = ev.brier_score(time_grid).plot()"
   ]
  },
  {
   "cell_type": "code",
   "execution_count": 200,
   "metadata": {},
   "outputs": [
    {
     "data": {
      "text/plain": "0.10246908514747206"
     },
     "execution_count": 200,
     "metadata": {},
     "output_type": "execute_result"
    }
   ],
   "source": [
    "ev.integrated_brier_score(time_grid)"
   ]
  },
  {
   "cell_type": "code",
   "execution_count": 201,
   "metadata": {},
   "outputs": [
    {
     "data": {
      "text/plain": "0.03839472103854842"
     },
     "execution_count": 201,
     "metadata": {},
     "output_type": "execute_result"
    }
   ],
   "source": [
    "ev_train.integrated_brier_score(time_grid)"
   ]
  },
  {
   "cell_type": "code",
   "execution_count": 202,
   "metadata": {},
   "outputs": [
    {
     "data": {
      "text/plain": "0.10792015866379481"
     },
     "execution_count": 202,
     "metadata": {},
     "output_type": "execute_result"
    }
   ],
   "source": [
    "ev_val.integrated_brier_score(time_grid)"
   ]
  },
  {
   "cell_type": "code",
   "execution_count": 22,
   "metadata": {},
   "outputs": [
    {
     "name": "stdout",
     "output_type": "stream",
     "text": [
      "{'num_nodes': [32, 32, 32, 32], 'dropout': 0.6, 'lr': 0.01}\n",
      "{'Validation Error': -3.709172, 'VE': -1.1304665, 'Train Error': -3.8396063}\n",
      "---------------\n",
      "{'num_nodes': [32, 32, 32, 32], 'dropout': 0.6, 'lr': 0.05}\n",
      "{'Validation Error': -3.6841455, 'VE': -1.7970791, 'Train Error': -3.8960547}\n",
      "---------------\n",
      "{'num_nodes': [32, 32, 32, 32], 'dropout': 0.7, 'lr': 0.01}\n",
      "{'Validation Error': -3.6977487, 'VE': -1.4552667, 'Train Error': -4.0763874}\n",
      "---------------\n",
      "{'num_nodes': [32, 32, 32, 32], 'dropout': 0.7, 'lr': 0.05}\n",
      "{'Validation Error': -3.6727424, 'VE': -1.7387218, 'Train Error': -4.257195}\n",
      "---------------\n",
      "{'num_nodes': [32, 32, 32, 32], 'dropout': 0.8, 'lr': 0.01}\n",
      "{'Validation Error': -3.6947987, 'VE': -1.6030993, 'Train Error': -4.3614697}\n",
      "---------------\n",
      "{'num_nodes': [32, 32, 32, 32], 'dropout': 0.8, 'lr': 0.05}\n",
      "{'Validation Error': -3.6611133, 'VE': -1.6615419, 'Train Error': -4.3762913}\n",
      "---------------\n",
      "{'num_nodes': [32, 32, 32, 32], 'dropout': 0.65, 'lr': 0.01}\n",
      "{'Validation Error': -3.5449913, 'VE': -1.4562099, 'Train Error': -3.9706392}\n",
      "---------------\n",
      "{'num_nodes': [32, 32, 32, 32], 'dropout': 0.65, 'lr': 0.05}\n",
      "{'Validation Error': -9.812091, 'VE': -1.5525513, 'Train Error': -4.043693}\n",
      "---------------\n",
      "{'num_nodes': [64, 128, 128, 64], 'dropout': 0.6, 'lr': 0.01}\n",
      "{'Validation Error': -4.010207, 'VE': -1.0064657, 'Train Error': -3.3570557}\n",
      "---------------\n",
      "{'num_nodes': [64, 128, 128, 64], 'dropout': 0.6, 'lr': 0.05}\n",
      "{'Validation Error': -3.6515489, 'VE': -1.6804113, 'Train Error': -3.7548132}\n",
      "---------------\n",
      "{'num_nodes': [64, 128, 128, 64], 'dropout': 0.7, 'lr': 0.01}\n",
      "{'Validation Error': -3.6044075, 'VE': -1.5281968, 'Train Error': -3.7357004}\n",
      "---------------\n",
      "{'num_nodes': [64, 128, 128, 64], 'dropout': 0.7, 'lr': 0.05}\n",
      "{'Validation Error': -3.6157403, 'VE': -1.0704107, 'Train Error': -3.8382702}\n",
      "---------------\n",
      "{'num_nodes': [64, 128, 128, 64], 'dropout': 0.8, 'lr': 0.01}\n",
      "{'Validation Error': -3.6525455, 'VE': -1.8255523, 'Train Error': -4.1688123}\n",
      "---------------\n",
      "{'num_nodes': [64, 128, 128, 64], 'dropout': 0.8, 'lr': 0.05}\n",
      "{'Validation Error': -3.4833279, 'VE': -1.5482354, 'Train Error': -4.160434}\n",
      "---------------\n",
      "{'num_nodes': [64, 128, 128, 64], 'dropout': 0.65, 'lr': 0.01}\n",
      "{'Validation Error': -3.6755104, 'VE': -0.66562843, 'Train Error': -3.6581674}\n",
      "---------------\n",
      "{'num_nodes': [64, 128, 128, 64], 'dropout': 0.65, 'lr': 0.05}\n",
      "{'Validation Error': -3.5949302, 'VE': -0.9399414, 'Train Error': -3.8727798}\n",
      "---------------\n",
      "{'num_nodes': [64, 64, 64, 64], 'dropout': 0.6, 'lr': 0.01}\n",
      "{'Validation Error': -3.941969, 'VE': -0.84046674, 'Train Error': -3.4178004}\n",
      "---------------\n",
      "{'num_nodes': [64, 64, 64, 64], 'dropout': 0.6, 'lr': 0.05}\n",
      "{'Validation Error': -3.8630738, 'VE': -1.2470989, 'Train Error': -3.6085126}\n",
      "---------------\n",
      "{'num_nodes': [64, 64, 64, 64], 'dropout': 0.7, 'lr': 0.01}\n",
      "{'Validation Error': -3.5736053, 'VE': -1.4413509, 'Train Error': -3.776824}\n",
      "---------------\n",
      "{'num_nodes': [64, 64, 64, 64], 'dropout': 0.7, 'lr': 0.05}\n",
      "{'Validation Error': -4.1691713, 'VE': -1.2689495, 'Train Error': -3.936301}\n",
      "---------------\n",
      "{'num_nodes': [64, 64, 64, 64], 'dropout': 0.8, 'lr': 0.01}\n",
      "{'Validation Error': -3.5763168, 'VE': -1.3642073, 'Train Error': -4.174865}\n",
      "---------------\n",
      "{'num_nodes': [64, 64, 64, 64], 'dropout': 0.8, 'lr': 0.05}\n",
      "{'Validation Error': -3.5476806, 'VE': -1.0939226, 'Train Error': -4.27709}\n",
      "---------------\n",
      "{'num_nodes': [64, 64, 64, 64], 'dropout': 0.65, 'lr': 0.01}\n",
      "{'Validation Error': -3.8202999, 'VE': -0.915195, 'Train Error': -3.6146374}\n",
      "---------------\n",
      "{'num_nodes': [64, 64, 64, 64], 'dropout': 0.65, 'lr': 0.05}\n",
      "{'Validation Error': -3.6511428, 'VE': -1.3978214, 'Train Error': -3.8684955}\n",
      "---------------\n",
      "{'num_nodes': [32, 32, 32], 'dropout': 0.6, 'lr': 0.01}\n",
      "{'Validation Error': -3.6860268, 'VE': -1.0946741, 'Train Error': -3.64951}\n",
      "---------------\n",
      "{'num_nodes': [32, 32, 32], 'dropout': 0.6, 'lr': 0.05}\n",
      "{'Validation Error': -3.6632366, 'VE': -1.1724997, 'Train Error': -3.7443147}\n",
      "---------------\n",
      "{'num_nodes': [32, 32, 32], 'dropout': 0.7, 'lr': 0.01}\n",
      "{'Validation Error': -3.6537666, 'VE': -1.4493723, 'Train Error': -3.9249308}\n",
      "---------------\n",
      "{'num_nodes': [32, 32, 32], 'dropout': 0.7, 'lr': 0.05}\n",
      "{'Validation Error': -3.8069298, 'VE': -1.2594213, 'Train Error': -3.9817708}\n",
      "---------------\n",
      "{'num_nodes': [32, 32, 32], 'dropout': 0.8, 'lr': 0.01}\n",
      "{'Validation Error': -3.6113427, 'VE': -1.4537432, 'Train Error': -4.230907}\n",
      "---------------\n",
      "{'num_nodes': [32, 32, 32], 'dropout': 0.8, 'lr': 0.05}\n",
      "{'Validation Error': -3.6804948, 'VE': -1.6306334, 'Train Error': -4.304543}\n",
      "---------------\n",
      "{'num_nodes': [32, 32, 32], 'dropout': 0.65, 'lr': 0.01}\n",
      "{'Validation Error': -3.640733, 'VE': -1.996073, 'Train Error': -3.8117592}\n",
      "---------------\n",
      "{'num_nodes': [32, 32, 32], 'dropout': 0.65, 'lr': 0.05}\n",
      "{'Validation Error': -3.6004517, 'VE': -1.467227, 'Train Error': -4.0858083}\n",
      "---------------\n",
      "{'num_nodes': [16, 16, 16], 'dropout': 0.6, 'lr': 0.01}\n",
      "{'Validation Error': -3.5889592, 'VE': -1.6066194, 'Train Error': -4.1430583}\n",
      "---------------\n",
      "{'num_nodes': [16, 16, 16], 'dropout': 0.6, 'lr': 0.05}\n",
      "{'Validation Error': -3.6348758, 'VE': -1.6495523, 'Train Error': -4.0563235}\n",
      "---------------\n",
      "{'num_nodes': [16, 16, 16], 'dropout': 0.7, 'lr': 0.01}\n",
      "{'Validation Error': -3.691208, 'VE': -1.6263092, 'Train Error': -4.1652737}\n",
      "---------------\n",
      "{'num_nodes': [16, 16, 16], 'dropout': 0.7, 'lr': 0.05}\n",
      "{'Validation Error': -3.7232995, 'VE': -1.5302343, 'Train Error': -4.293485}\n",
      "---------------\n",
      "{'num_nodes': [16, 16, 16], 'dropout': 0.8, 'lr': 0.01}\n",
      "{'Validation Error': -3.5469787, 'VE': -1.4474896, 'Train Error': -4.332234}\n",
      "---------------\n",
      "{'num_nodes': [16, 16, 16], 'dropout': 0.8, 'lr': 0.05}\n",
      "{'Validation Error': -3.6825516, 'VE': -1.6734791, 'Train Error': -4.4116616}\n",
      "---------------\n",
      "{'num_nodes': [16, 16, 16], 'dropout': 0.65, 'lr': 0.01}\n",
      "{'Validation Error': -3.623078, 'VE': -1.208638, 'Train Error': -4.111406}\n",
      "---------------\n",
      "{'num_nodes': [16, 16, 16], 'dropout': 0.65, 'lr': 0.05}\n",
      "{'Validation Error': -3.5967705, 'VE': -1.6328945, 'Train Error': -4.2367053}\n",
      "---------------\n",
      "{'num_nodes': [64, 64, 64], 'dropout': 0.6, 'lr': 0.01}\n",
      "{'Validation Error': -3.9279854, 'VE': -0.32827854, 'Train Error': -3.2995007}\n",
      "---------------\n",
      "{'num_nodes': [64, 64, 64], 'dropout': 0.6, 'lr': 0.05}\n",
      "{'Validation Error': -3.9389634, 'VE': -0.97402763, 'Train Error': -3.5443802}\n",
      "---------------\n",
      "{'num_nodes': [64, 64, 64], 'dropout': 0.7, 'lr': 0.01}\n",
      "{'Validation Error': -4.522262, 'VE': -0.10752106, 'Train Error': -3.7833786}\n",
      "---------------\n",
      "{'num_nodes': [64, 64, 64], 'dropout': 0.7, 'lr': 0.05}\n",
      "{'Validation Error': -3.592876, 'VE': -1.2390747, 'Train Error': -3.9554164}\n",
      "---------------\n",
      "{'num_nodes': [64, 64, 64], 'dropout': 0.8, 'lr': 0.01}\n",
      "{'Validation Error': -3.5989394, 'VE': -1.2794843, 'Train Error': -3.8779113}\n",
      "---------------\n",
      "{'num_nodes': [64, 64, 64], 'dropout': 0.8, 'lr': 0.05}\n",
      "{'Validation Error': -3.5435967, 'VE': -1.4998212, 'Train Error': -4.2567525}\n",
      "---------------\n",
      "{'num_nodes': [64, 64, 64], 'dropout': 0.65, 'lr': 0.01}\n",
      "{'Validation Error': -3.8011384, 'VE': -0.5608053, 'Train Error': -3.400198}\n",
      "---------------\n",
      "{'num_nodes': [64, 64, 64], 'dropout': 0.65, 'lr': 0.05}\n",
      "{'Validation Error': -3.9679317, 'VE': -1.6779394, 'Train Error': -3.6788073}\n",
      "---------------\n",
      "{'num_nodes': [32, 32], 'dropout': 0.6, 'lr': 0.01}\n",
      "{'Validation Error': -3.928505, 'VE': -1.5490563, 'Train Error': -3.6500237}\n",
      "---------------\n",
      "{'num_nodes': [32, 32], 'dropout': 0.6, 'lr': 0.05}\n",
      "{'Validation Error': -3.937175, 'VE': -1.280776, 'Train Error': -3.6325753}\n",
      "---------------\n",
      "{'num_nodes': [32, 32], 'dropout': 0.7, 'lr': 0.01}\n",
      "{'Validation Error': -3.6520169, 'VE': -1.7886782, 'Train Error': -3.9756014}\n",
      "---------------\n",
      "{'num_nodes': [32, 32], 'dropout': 0.7, 'lr': 0.05}\n",
      "{'Validation Error': -3.701123, 'VE': -1.5023537, 'Train Error': -4.0070777}\n",
      "---------------\n",
      "{'num_nodes': [32, 32], 'dropout': 0.8, 'lr': 0.01}\n",
      "{'Validation Error': -3.6118789, 'VE': -1.6724031, 'Train Error': -4.1213727}\n",
      "---------------\n",
      "{'num_nodes': [32, 32], 'dropout': 0.8, 'lr': 0.05}\n",
      "{'Validation Error': -3.6392143, 'VE': -1.5668297, 'Train Error': -4.284615}\n",
      "---------------\n",
      "{'num_nodes': [32, 32], 'dropout': 0.65, 'lr': 0.01}\n",
      "{'Validation Error': -3.8249078, 'VE': -1.289439, 'Train Error': -3.7470136}\n",
      "---------------\n",
      "{'num_nodes': [32, 32], 'dropout': 0.65, 'lr': 0.05}\n",
      "{'Validation Error': -3.883181, 'VE': -1.0914984, 'Train Error': -3.8394547}\n",
      "---------------\n",
      "{'num_nodes': [16, 16], 'dropout': 0.6, 'lr': 0.01}\n",
      "{'Validation Error': -3.7713547, 'VE': -1.4321642, 'Train Error': -3.8994024}\n",
      "---------------\n",
      "{'num_nodes': [16, 16], 'dropout': 0.6, 'lr': 0.05}\n",
      "{'Validation Error': -3.7672265, 'VE': -1.6496258, 'Train Error': -3.9415946}\n",
      "---------------\n",
      "{'num_nodes': [16, 16], 'dropout': 0.7, 'lr': 0.01}\n",
      "{'Validation Error': -3.6904883, 'VE': -1.6420789, 'Train Error': -4.103118}\n",
      "---------------\n",
      "{'num_nodes': [16, 16], 'dropout': 0.7, 'lr': 0.05}\n",
      "{'Validation Error': -3.6098256, 'VE': -2.011321, 'Train Error': -4.2363734}\n",
      "---------------\n",
      "{'num_nodes': [16, 16], 'dropout': 0.8, 'lr': 0.01}\n",
      "{'Validation Error': -3.5236511, 'VE': -1.7841396, 'Train Error': -4.33667}\n",
      "---------------\n",
      "{'num_nodes': [16, 16], 'dropout': 0.8, 'lr': 0.05}\n",
      "{'Validation Error': -3.6259475, 'VE': -2.1412635, 'Train Error': -4.4086833}\n",
      "---------------\n",
      "{'num_nodes': [16, 16], 'dropout': 0.65, 'lr': 0.01}\n",
      "{'Validation Error': -3.5907035, 'VE': -1.7648976, 'Train Error': -4.078889}\n",
      "---------------\n",
      "{'num_nodes': [16, 16], 'dropout': 0.65, 'lr': 0.05}\n",
      "{'Validation Error': -3.6237817, 'VE': -1.3050995, 'Train Error': -4.0992594}\n",
      "---------------\n",
      "{'num_nodes': [64, 64], 'dropout': 0.6, 'lr': 0.01}\n",
      "{'Validation Error': -5.639529, 'VE': -0.064656734, 'Train Error': -3.2076628}\n",
      "---------------\n",
      "{'num_nodes': [64, 64], 'dropout': 0.6, 'lr': 0.05}\n",
      "{'Validation Error': -6.787065, 'VE': -1.2786231, 'Train Error': -3.5413263}\n",
      "---------------\n",
      "{'num_nodes': [64, 64], 'dropout': 0.7, 'lr': 0.01}\n",
      "{'Validation Error': -4.223027, 'VE': -1.8986268, 'Train Error': -3.5823684}\n",
      "---------------\n",
      "{'num_nodes': [64, 64], 'dropout': 0.7, 'lr': 0.05}\n",
      "{'Validation Error': -3.7427998, 'VE': -1.0132971, 'Train Error': -3.8024347}\n",
      "---------------\n",
      "{'num_nodes': [64, 64], 'dropout': 0.8, 'lr': 0.01}\n",
      "{'Validation Error': -3.8856246, 'VE': -1.4048874, 'Train Error': -3.8465633}\n",
      "---------------\n",
      "{'num_nodes': [64, 64], 'dropout': 0.8, 'lr': 0.05}\n",
      "{'Validation Error': -3.6295953, 'VE': -1.5532494, 'Train Error': -4.1178}\n",
      "---------------\n",
      "{'num_nodes': [64, 64], 'dropout': 0.65, 'lr': 0.01}\n",
      "{'Validation Error': -3.9217675, 'VE': -0.77145505, 'Train Error': -3.4675899}\n",
      "---------------\n",
      "{'num_nodes': [64, 64], 'dropout': 0.65, 'lr': 0.05}\n",
      "{'Validation Error': -3.7924194, 'VE': -1.4973698, 'Train Error': -3.6682374}\n",
      "---------------\n",
      "{'num_nodes': [32, 16, 16, 16, 32], 'dropout': 0.6, 'lr': 0.01}\n",
      "{'Validation Error': -3.622314, 'VE': -1.6351612, 'Train Error': -4.121288}\n",
      "---------------\n",
      "{'num_nodes': [32, 16, 16, 16, 32], 'dropout': 0.6, 'lr': 0.05}\n",
      "{'Validation Error': -3.5775673, 'VE': -1.3636427, 'Train Error': -4.2223907}\n",
      "---------------\n",
      "{'num_nodes': [32, 16, 16, 16, 32], 'dropout': 0.7, 'lr': 0.01}\n",
      "{'Validation Error': -3.6259727, 'VE': -1.3613316, 'Train Error': -4.336114}\n",
      "---------------\n",
      "{'num_nodes': [32, 16, 16, 16, 32], 'dropout': 0.7, 'lr': 0.05}\n",
      "{'Validation Error': -3.6351666, 'VE': -1.065032, 'Train Error': -4.3566976}\n",
      "---------------\n",
      "{'num_nodes': [32, 16, 16, 16, 32], 'dropout': 0.8, 'lr': 0.01}\n",
      "{'Validation Error': -4.1054406, 'VE': -3.2574835, 'Train Error': -5.174747}\n",
      "---------------\n",
      "{'num_nodes': [32, 16, 16, 16, 32], 'dropout': 0.8, 'lr': 0.05}\n",
      "{'Validation Error': -4.103451, 'VE': -3.2535849, 'Train Error': -5.172848}\n",
      "---------------\n",
      "{'num_nodes': [32, 16, 16, 16, 32], 'dropout': 0.65, 'lr': 0.01}\n",
      "{'Validation Error': -3.6123455, 'VE': -1.6829085, 'Train Error': -4.322102}\n",
      "---------------\n",
      "{'num_nodes': [32, 16, 16, 16, 32], 'dropout': 0.65, 'lr': 0.05}\n",
      "{'Validation Error': -3.67566, 'VE': -1.4995399, 'Train Error': -4.2391105}\n",
      "---------------\n"
     ]
    }
   ],
   "source": [
    "in_features = x_train[0].shape[1]\n",
    "out_features = 1\n",
    "\n",
    "my_train = x_train, y_train\n",
    "\n",
    "nets = [[32, 32, 32, 32], [64, 128, 128, 64], [64, 64, 64, 64], [32, 32, 32], [16, 16, 16], [64, 64, 64], [32, 32], [16, 16], [64, 64],\n",
    "       [32, 16, 16, 16, 32]]\n",
    "droputs = [0.6, 0.7, 0.8, 0.65]\n",
    "lrs = [0.01, 0.05]\n",
    "\n",
    "batch_size = 128\n",
    "epochs = 512\n",
    "callbacks = [] #[tt.cb.EarlyStoppingCycle(min_delta=0, patience=10,)]\n",
    "verbose = False\n",
    "\n",
    "cv = []\n",
    "\n",
    "for num_nodes in nets:\n",
    "    for dropout in droputs:\n",
    "        for lr in lrs:       \n",
    "            params = {'num_nodes': num_nodes, 'dropout': dropout, 'lr': lr}\n",
    "            print(params)\n",
    "            batch_norm = True\n",
    "            net = tt.practical.MixedInputMLP(in_features, num_embeddings, embedding_dims,\n",
    "                                 num_nodes, out_features, batch_norm, dropout)\n",
    "            \n",
    "            model = CoxPH(net, tt.optim.Adam)\n",
    "            \n",
    "            model.optimizer.set_lr(lr)\n",
    "            \n",
    "            log = model.fit(x_train, y_train, batch_size, epochs, callbacks, verbose=0, val_data=val, val_batch_size=batch_size)\n",
    "            \n",
    "            score = {'Validation Error': model.partial_log_likelihood(*val).mean(), 'VE': model.partial_log_likelihood(*val).max(), 'Train Error': model.partial_log_likelihood(*my_train).mean()}\n",
    "            print(score)\n",
    "            \n",
    "            cv.append([params, score['Validation Error'], score['VE']])\n",
    "            \n",
    "            print('---------------')\n"
   ]
  },
  {
   "cell_type": "code",
   "execution_count": 44,
   "metadata": {},
   "outputs": [],
   "source": [
    "with open('hyperparameters_DS.npy', 'wb') as f:\n",
    "    np.save(f, np.array(cv))\n",
    "    "
   ]
  },
  {
   "cell_type": "code",
   "execution_count": null,
   "metadata": {},
   "outputs": [],
   "source": [
    "{'num_nodes': [32, 16, 16, 16, 32], 'dropout': 0.7, 'lr': 0.05}\n",
    "{'Validation Error': -3.275776, 'VE': -1.1813684, 'Train Error': -4.036133}, 90\n",
    "\n",
    "{'num_nodes': [32, 16, 16, 16, 32], 'dropout': 0.7, 'lr': 0.01}\n",
    "{'Validation Error': -3.2171524, 'VE': -1.3644053, 'Train Error': -4.0101156}, 0.8022700119474313 OK\n",
    "\n",
    "{'num_nodes': [64, 64], 'dropout': 0.8, 'lr': 0.001}\n",
    "{'Validation Error': -3.165941, 'VE': -1.4364513, 'Train Error': -4.0623207}, 0.7956989247311828\n",
    "\n",
    "{'num_nodes': [64, 64], 'dropout': 0.6, 'lr': 0.001}\n",
    "{'Validation Error': -3.1862323, 'VE': -1.0430977, 'Train Error': -3.4072099}, 0.7915173237753883 OVERFIT\n",
    "\n",
    "{'num_nodes': [64, 64, 64], 'dropout': 0.6, 'lr': 0.001}\n",
    "{'Validation Error': -3.228777, 'VE': -1.1623064, 'Train Error': -3.549018}, 0.75\n",
    "\n",
    "#-----------\n",
    "\n",
    "{'num_nodes': [64, 64, 64], 'dropout': 0.6, 'lr': 0.05}\n",
    "{'Validation Error': -4.53501, 'VE': -1.1080627, 'Train Error': -2.9832726}\n",
    "\n",
    "{'num_nodes': [64, 64], 'dropout': 0.6, 'lr': 0.01}\n",
    "{'Validation Error': -4.6100264, 'VE': -0.5832329, 'Train Error': -2.8363776}\n",
    "\n",
    "{'num_nodes': [64, 64], 'dropout': 0.6, 'lr': 0.05}\n",
    "{'Validation Error': -5.997805, 'VE': -0.66173744, 'Train Error': -2.9584057}\n",
    "\n",
    "{'num_nodes': [32, 16, 16, 16, 32], 'dropout': 0.8, 'lr': 0.01}\n",
    "{'Validation Error': -3.8601236, 'VE': -3.0478382, 'Train Error': -4.972593}\n",
    "\n",
    "#--------\n",
    "{'num_nodes': [32, 16, 16, 16, 32], 'dropout': 0.8, 'lr': 0.05}\n",
    "{'num_nodes': [32, 16, 16, 16, 32], 'dropout': 0.8, 'lr': 0.01}\n",
    "{'num_nodes': [64, 64, 64], 'dropout': 0.6, 'lr': 0.05}\n",
    "{'num_nodes': [64, 128, 128, 64], 'dropout': 0.65, 'lr': 0.05}\n",
    "{'num_nodes': [64, 64], 'dropout': 0.6, 'lr': 0.05}"
   ]
  }
 ],
 "metadata": {
  "kernelspec": {
   "display_name": "Python 3",
   "language": "python",
   "name": "python3"
  },
  "language_info": {
   "codemirror_mode": {
    "name": "ipython",
    "version": 3
   },
   "file_extension": ".py",
   "mimetype": "text/x-python",
   "name": "python",
   "nbconvert_exporter": "python",
   "pygments_lexer": "ipython3",
   "version": "3.7.3"
  }
 },
 "nbformat": 4,
 "nbformat_minor": 4
}