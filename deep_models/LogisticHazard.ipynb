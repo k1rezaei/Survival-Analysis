{
 "cells": [
  {
   "cell_type": "code",
   "execution_count": 1,
   "metadata": {},
   "outputs": [],
   "source": [
    "import numpy as np\n",
    "import matplotlib.pyplot as plt\n",
    "import pandas as pd\n",
    "\n",
    "# For preprocessing\n",
    "from sklearn.preprocessing import StandardScaler\n",
    "from sklearn_pandas import DataFrameMapper\n",
    "\n",
    "import torch # For building the networks\n",
    "import torchtuples as tt # Some useful functions\n",
    "\n",
    "from pycox.models import LogisticHazard\n",
    "from pycox.evaluation import EvalSurv\n",
    "from pycox.preprocessing.feature_transforms import OrderedCategoricalLong"
   ]
  },
  {
   "cell_type": "code",
   "execution_count": 2,
   "metadata": {
    "pycharm": {
     "name": "#%%\n"
    }
   },
   "outputs": [],
   "source": [
    "# We also set some seeds to make this reproducable.\n",
    "np.random.seed(42)\n",
    "_ = torch.manual_seed(42)"
   ]
  },
  {
   "cell_type": "markdown",
   "metadata": {},
   "source": [
    "## Dataset"
   ]
  },
  {
   "cell_type": "code",
   "execution_count": 3,
   "metadata": {
    "pycharm": {
     "name": "#%%\n"
    }
   },
   "outputs": [],
   "source": [
    "path_to_file = './../dataset_and_other_models/dataset/'\n",
    "df_train_x = pd.read_csv(path_to_file + 'train_x.csv')\n",
    "df_train_y = pd.read_csv(path_to_file + 'train_y.csv')\n",
    "df_train_y['Status'].replace({True: 1, False: 0}, inplace=True)"
   ]
  },
  {
   "cell_type": "code",
   "execution_count": 4,
   "metadata": {
    "pycharm": {
     "name": "#%%\n"
    }
   },
   "outputs": [],
   "source": [
    "df_test_x = pd.read_csv(path_to_file + 'test_x.csv')\n",
    "df_test_y = pd.read_csv(path_to_file + 'test_y.csv')\n",
    "df_test_y['Status'].replace({True: 1, False: 0}, inplace=True)"
   ]
  },
  {
   "cell_type": "code",
   "execution_count": 5,
   "metadata": {
    "pycharm": {
     "name": "#%%\n"
    }
   },
   "outputs": [],
   "source": [
    "df_test = pd.concat([df_test_x, df_test_y], axis=1)\n",
    "df_test = df_test.astype('float32')"
   ]
  },
  {
   "cell_type": "code",
   "execution_count": 6,
   "metadata": {
    "pycharm": {
     "name": "#%%\n"
    }
   },
   "outputs": [],
   "source": [
    "df_train = pd.concat([df_train_x, df_train_y], axis=1)\n",
    "df_train = df_train.astype('float32')"
   ]
  },
  {
   "cell_type": "code",
   "execution_count": 7,
   "metadata": {
    "pycharm": {
     "name": "#%%\n"
    }
   },
   "outputs": [],
   "source": [
    "df_val = df_train.sample(frac=0.25)\n",
    "df_train = df_train.drop(df_val.index)"
   ]
  },
  {
   "cell_type": "code",
   "execution_count": 8,
   "metadata": {},
   "outputs": [
    {
     "data": {
      "text/plain": "count    315.000000\nmean       0.384127\nstd        0.487162\nmin        0.000000\n25%        0.000000\n50%        0.000000\n75%        1.000000\nmax        1.000000\nName: Status, dtype: float64"
     },
     "execution_count": 8,
     "metadata": {},
     "output_type": "execute_result"
    }
   ],
   "source": [
    "df_train['Status'].describe()"
   ]
  },
  {
   "cell_type": "code",
   "execution_count": 9,
   "outputs": [
    {
     "data": {
      "text/plain": "Index(['Y', 'AF', 'AQ', 'AY', 'BC', 'BE', 'BG', 'BH', 'BI', 'BL', 'BM', 'BP',\n       'CY', 'DC', 'DE', 'DW', 'DX', 'DY', 'Age', 'metastasis', 'secondprim',\n       'Status', 'Survival'],\n      dtype='object')"
     },
     "execution_count": 9,
     "metadata": {},
     "output_type": "execute_result"
    }
   ],
   "source": [
    "df_train.columns"
   ],
   "metadata": {
    "collapsed": false,
    "pycharm": {
     "name": "#%%\n"
    }
   }
  },
  {
   "cell_type": "code",
   "execution_count": 10,
   "metadata": {
    "pycharm": {
     "name": "#%%\n"
    }
   },
   "outputs": [
    {
     "name": "stdout",
     "output_type": "stream",
     "text": [
      "21\n"
     ]
    }
   ],
   "source": [
    "cols_standardize =  ['BE', 'BC', 'AY', 'Age'] # Numerical columns\n",
    "cols_leave = ['Y', 'AF', 'BG', 'BH', 'BI', 'BL',\n",
    "              'BM', 'BP', 'CY', 'DC',\n",
    "              'DW', 'DX', 'DY', 'metastasis', 'secondprim'] # Binary columns\n",
    "cols_categorical =  ['AQ', 'DE'] # Categorical Columns\n",
    "\n",
    "print(len(cols_standardize) + len(cols_leave) + len(cols_categorical))"
   ]
  },
  {
   "cell_type": "code",
   "execution_count": 11,
   "metadata": {
    "pycharm": {
     "name": "#%%\n"
    }
   },
   "outputs": [],
   "source": [
    "# Turn them to binary features (0, 1)\n",
    "df_train[cols_leave] -= 1\n",
    "df_val[cols_leave] -= 1\n",
    "df_test[cols_leave] -= 1"
   ]
  },
  {
   "cell_type": "code",
   "execution_count": 12,
   "metadata": {
    "pycharm": {
     "name": "#%%\n"
    }
   },
   "outputs": [
    {
     "data": {
      "text/plain": "count    315.000000\nmean       2.542857\nstd        1.802485\nmin        1.000000\n25%        2.000000\n50%        2.000000\n75%        2.000000\nmax       11.000000\nName: AQ, dtype: float64"
     },
     "execution_count": 12,
     "metadata": {},
     "output_type": "execute_result"
    }
   ],
   "source": [
    "df_train['AY'].describe()\n",
    "df_train['AQ'].describe()"
   ]
  },
  {
   "cell_type": "code",
   "execution_count": 13,
   "metadata": {
    "pycharm": {
     "name": "#%%\n"
    }
   },
   "outputs": [],
   "source": [
    "# Preprocess different types of features.\n",
    "standardize = [([col], StandardScaler()) for col in cols_standardize]\n",
    "leave = [(col, None) for col in cols_leave]\n",
    "categorical = [(col, OrderedCategoricalLong(min_per_category=5)) for col in cols_categorical]\n",
    "\n",
    "x_mapper_float = DataFrameMapper(standardize + leave)\n",
    "x_mapper_long = DataFrameMapper(categorical)  # we need a separate mapper to ensure the data type 'int64'"
   ]
  },
  {
   "cell_type": "code",
   "execution_count": 14,
   "metadata": {
    "pycharm": {
     "name": "#%%\n"
    }
   },
   "outputs": [],
   "source": [
    "x_fit_transform = lambda df: tt.tuplefy(x_mapper_float.fit_transform(df), x_mapper_long.fit_transform(df))\n",
    "x_transform = lambda df: tt.tuplefy(x_mapper_float.transform(df), x_mapper_long.transform(df))"
   ]
  },
  {
   "cell_type": "code",
   "execution_count": 15,
   "metadata": {
    "pycharm": {
     "name": "#%%\n"
    }
   },
   "outputs": [],
   "source": [
    "x_train = x_fit_transform(df_train)\n",
    "x_val = x_transform(df_val)\n",
    "x_test = x_transform(df_test)"
   ]
  },
  {
   "cell_type": "markdown",
   "metadata": {},
   "source": [
    "## Discretization"
   ]
  },
  {
   "cell_type": "code",
   "execution_count": 16,
   "metadata": {
    "pycharm": {
     "name": "#%%\n"
    }
   },
   "outputs": [],
   "source": [
    "# Discretization\n",
    "num_durations = 20\n",
    "scheme = 'quantiles'\n",
    "labtrans = LogisticHazard.label_transform(num_durations, scheme)\n",
    "\n",
    "get_target = lambda df: (df['Survival'].values, df['Status'].values)\n",
    "y_train = labtrans.fit_transform(*get_target(df_train))\n",
    "y_val = labtrans.transform(*get_target(df_val))\n",
    "durations_test, events_test = get_target(df_test)"
   ]
  },
  {
   "cell_type": "code",
   "execution_count": 17,
   "metadata": {
    "pycharm": {
     "name": "#%%\n"
    }
   },
   "outputs": [
    {
     "data": {
      "text/plain": "array([    0.,    55.,    90.,   110.,   153.,   201.,   225.,   253.,\n         293.,   364.,   425.,   462.,   608.,   718.,   880.,   982.,\n        1321.,  1579.,  2048., 10000.], dtype=float32)"
     },
     "execution_count": 17,
     "metadata": {},
     "output_type": "execute_result"
    }
   ],
   "source": [
    "labtrans.cuts"
   ]
  },
  {
   "cell_type": "code",
   "execution_count": 18,
   "metadata": {
    "pycharm": {
     "name": "#%%\n"
    }
   },
   "outputs": [
    {
     "data": {
      "text/plain": "<Figure size 432x288 with 1 Axes>",
      "image/png": "[encoded data removed]"
     },
     "metadata": {
      "needs_background": "light"
     },
     "output_type": "display_data"
    }
   ],
   "source": [
    "from pycox.utils import kaplan_meier\n",
    "plt.vlines(labtrans.cuts, 0, 1, colors='gray', linestyles=\"--\", label='Discretization Grid')\n",
    "kaplan_meier(*get_target(df_train)).plot(label='Kaplan-Meier')\n",
    "plt.ylabel('S(t)')\n",
    "plt.legend()\n",
    "_ = plt.xlabel('Time')"
   ]
  },
  {
   "cell_type": "code",
   "execution_count": 19,
   "metadata": {
    "pycharm": {
     "name": "#%%\n"
    }
   },
   "outputs": [],
   "source": [
    "train = tt.tuplefy(x_train, y_train)\n",
    "val = tt.tuplefy(x_val, y_val)"
   ]
  },
  {
   "cell_type": "code",
   "execution_count": 20,
   "metadata": {},
   "outputs": [
    {
     "data": {
      "text/plain": "((315, 19), (315, 2))"
     },
     "execution_count": 20,
     "metadata": {},
     "output_type": "execute_result"
    }
   ],
   "source": [
    "x_train.shapes()"
   ]
  },
  {
   "cell_type": "markdown",
   "metadata": {},
   "source": [
    "## Neural Network"
   ]
  },
  {
   "cell_type": "code",
   "execution_count": 21,
   "metadata": {
    "pycharm": {
     "name": "#%%\n"
    }
   },
   "outputs": [],
   "source": [
    "num_embeddings = x_train[1].max(0) + 1\n",
    "embedding_dims = num_embeddings // 2"
   ]
  },
  {
   "cell_type": "code",
   "execution_count": 22,
   "metadata": {
    "pycharm": {
     "name": "#%%\n"
    }
   },
   "outputs": [
    {
     "data": {
      "text/plain": "array([[1, 1],\n       [2, 1],\n       [2, 9],\n       [2, 9],\n       [2, 1],\n       [5, 7],\n       [2, 2],\n       [1, 3],\n       [2, 1],\n       [0, 8],\n       [2, 1],\n       [2, 9],\n       [2, 1],\n       [2, 1],\n       [2, 9],\n       [5, 1],\n       [2, 9],\n       [2, 9],\n       [3, 9],\n       [4, 9],\n       [2, 2],\n       [2, 2],\n       [2, 1],\n       [5, 9],\n       [4, 9],\n       [1, 1],\n       [1, 1],\n       [2, 9],\n       [2, 9],\n       [2, 9],\n       [0, 1],\n       [1, 9],\n       [2, 5],\n       [2, 2],\n       [2, 1],\n       [2, 1],\n       [2, 8],\n       [2, 9],\n       [2, 8],\n       [1, 8],\n       [4, 1],\n       [2, 9],\n       [5, 9],\n       [5, 2],\n       [4, 9],\n       [2, 2],\n       [2, 9],\n       [1, 9],\n       [4, 1],\n       [1, 9],\n       [0, 9],\n       [2, 9],\n       [5, 2],\n       [4, 9],\n       [2, 9],\n       [1, 1],\n       [2, 3],\n       [0, 1],\n       [1, 9],\n       [2, 6],\n       [5, 8],\n       [4, 1],\n       [1, 9],\n       [1, 3],\n       [2, 9],\n       [2, 7],\n       [5, 1],\n       [3, 9],\n       [2, 1],\n       [2, 9],\n       [2, 8],\n       [2, 6],\n       [2, 1],\n       [1, 9],\n       [2, 1],\n       [2, 9],\n       [5, 9],\n       [4, 1],\n       [2, 9],\n       [3, 1],\n       [1, 9],\n       [2, 1],\n       [2, 9],\n       [2, 5],\n       [2, 8],\n       [1, 1],\n       [2, 3],\n       [2, 9],\n       [2, 9],\n       [2, 9],\n       [2, 3],\n       [2, 9],\n       [5, 8],\n       [2, 1],\n       [2, 1],\n       [2, 9],\n       [2, 9],\n       [2, 9],\n       [2, 4],\n       [5, 1],\n       [1, 9],\n       [2, 1],\n       [2, 1],\n       [0, 9],\n       [1, 9],\n       [2, 9],\n       [0, 2],\n       [4, 1],\n       [2, 1],\n       [4, 1],\n       [3, 1],\n       [5, 9],\n       [2, 1],\n       [2, 3],\n       [2, 9],\n       [2, 5],\n       [2, 1],\n       [2, 9],\n       [1, 2],\n       [1, 8],\n       [2, 9],\n       [2, 9],\n       [2, 1],\n       [2, 9],\n       [1, 9],\n       [2, 9],\n       [4, 8],\n       [2, 9],\n       [2, 1],\n       [1, 9],\n       [2, 9],\n       [4, 6],\n       [5, 4],\n       [3, 1],\n       [1, 1],\n       [3, 9],\n       [1, 9],\n       [2, 1],\n       [2, 1],\n       [3, 9],\n       [1, 1],\n       [1, 9],\n       [2, 2],\n       [2, 9],\n       [3, 9],\n       [5, 1],\n       [1, 1],\n       [2, 9],\n       [5, 5],\n       [1, 9],\n       [4, 9],\n       [2, 2],\n       [1, 1],\n       [2, 9],\n       [1, 1],\n       [1, 9],\n       [1, 9],\n       [2, 9],\n       [2, 9],\n       [2, 8],\n       [4, 3],\n       [1, 3],\n       [2, 1],\n       [4, 4],\n       [2, 0],\n       [1, 9],\n       [2, 7],\n       [2, 9],\n       [1, 9],\n       [2, 5],\n       [1, 8],\n       [0, 1],\n       [2, 1],\n       [2, 1],\n       [1, 9],\n       [4, 1],\n       [2, 1],\n       [1, 1],\n       [1, 9],\n       [2, 1],\n       [2, 9],\n       [0, 5],\n       [2, 7],\n       [2, 9],\n       [2, 3],\n       [2, 9],\n       [2, 1],\n       [2, 9],\n       [5, 1],\n       [2, 3],\n       [2, 1],\n       [2, 3],\n       [2, 9],\n       [1, 1],\n       [1, 9],\n       [2, 9],\n       [2, 2],\n       [2, 9],\n       [2, 9],\n       [3, 9],\n       [3, 9],\n       [2, 1],\n       [2, 9],\n       [2, 7],\n       [1, 9],\n       [2, 1],\n       [2, 4],\n       [2, 1],\n       [2, 3],\n       [5, 8],\n       [0, 0],\n       [2, 9],\n       [5, 9],\n       [2, 8],\n       [2, 9],\n       [2, 9],\n       [5, 6],\n       [4, 9],\n       [2, 1],\n       [1, 1],\n       [2, 3],\n       [2, 2],\n       [2, 1],\n       [2, 1],\n       [2, 9],\n       [5, 1],\n       [2, 1],\n       [5, 6],\n       [1, 9],\n       [4, 2],\n       [2, 9],\n       [2, 9],\n       [1, 9],\n       [5, 9],\n       [0, 3],\n       [2, 1],\n       [1, 9],\n       [2, 8],\n       [1, 9],\n       [0, 1],\n       [2, 9],\n       [2, 7],\n       [2, 9],\n       [2, 7],\n       [1, 1],\n       [2, 3],\n       [2, 1],\n       [5, 4],\n       [1, 9],\n       [2, 9],\n       [1, 1],\n       [2, 1],\n       [2, 1],\n       [2, 9],\n       [1, 7],\n       [2, 1],\n       [4, 9],\n       [1, 5],\n       [2, 9],\n       [0, 2],\n       [2, 1],\n       [2, 1],\n       [2, 1],\n       [2, 1],\n       [4, 4],\n       [2, 9],\n       [2, 9],\n       [2, 9],\n       [5, 1],\n       [2, 9],\n       [5, 2],\n       [2, 9],\n       [2, 6],\n       [2, 1],\n       [2, 9],\n       [2, 9],\n       [1, 1],\n       [2, 9],\n       [1, 9],\n       [2, 9],\n       [1, 9],\n       [2, 1],\n       [1, 9],\n       [5, 9],\n       [2, 3],\n       [5, 7],\n       [1, 9],\n       [2, 9],\n       [1, 9],\n       [2, 8],\n       [1, 1],\n       [3, 9],\n       [2, 9],\n       [1, 9],\n       [1, 8],\n       [2, 9],\n       [3, 9],\n       [1, 8],\n       [2, 3],\n       [2, 9],\n       [2, 9],\n       [1, 9],\n       [2, 1],\n       [2, 9],\n       [1, 9],\n       [2, 1],\n       [2, 9],\n       [2, 9],\n       [2, 1],\n       [2, 1],\n       [2, 1],\n       [4, 1],\n       [1, 9],\n       [1, 9],\n       [2, 1]], dtype=int64)"
     },
     "execution_count": 22,
     "metadata": {},
     "output_type": "execute_result"
    }
   ],
   "source": [
    "x_train[1]"
   ]
  },
  {
   "cell_type": "code",
   "execution_count": 23,
   "outputs": [
    {
     "data": {
      "text/plain": "(array([ 6, 10], dtype=int64), array([3, 5], dtype=int64))"
     },
     "execution_count": 23,
     "metadata": {},
     "output_type": "execute_result"
    }
   ],
   "source": [
    "num_embeddings, embedding_dims"
   ],
   "metadata": {
    "collapsed": false,
    "pycharm": {
     "name": "#%%\n"
    }
   }
  },
  {
   "cell_type": "code",
   "execution_count": 24,
   "metadata": {
    "pycharm": {
     "name": "#%%\n"
    }
   },
   "outputs": [],
   "source": [
    "in_features = x_train[0].shape[1]\n",
    "out_features = labtrans.out_features\n",
    "num_nodes = [64, 128, 128, 64]\n",
    "batch_norm = True\n",
    "dropout = 0.65\n",
    "\n",
    "# Opt1: {'num_nodes': [32, 16, 16, 16, 32], 'dropout': 0.8, 'lr': 0.05}\n",
    "# Opt2: {'num_nodes': [32, 32, 32, 32, 32, 32], 'dropout': 0.65, 'lr': 0.05}\n",
    "# Opt3: {'num_nodes': [32, 16, 16, 16, 32], 'dropout': 0.65, 'lr': 0.05}\n",
    "# Opt4: {'num_nodes': [64, 64, 64, 64], 'dropout': 0.7, 'lr': 0.05}\n",
    "# Opt5: {'num_nodes': [64, 64, 128, 64, 64], 'dropout': 0.75, 'lr': 0.05}\n",
    "# Opt6: {'num_nodes': [64, 128, 128, 64], 'dropout': 0.75, 'lr': 0.05}\n",
    "# Opt7: {'num_nodes': [64, 128, 128, 64], 'dropout': 0.7, 'lr': 0.05}\n",
    "# Opt7: {'num_nodes': [64, 128, 128, 64], 'dropout': 0.65, 'lr': 0.05} BEST\n",
    "# Opt7: {'num_nodes': [64, 128, 128, 128, 64], 'dropout': 0.65, 'lr': 0.05}\n",
    "\n",
    "net = tt.practical.MixedInputMLP(in_features, num_embeddings, embedding_dims,\n",
    "                                 num_nodes, out_features, batch_norm, dropout)"
   ]
  },
  {
   "cell_type": "code",
   "execution_count": 25,
   "metadata": {
    "pycharm": {
     "name": "#%%\n"
    }
   },
   "outputs": [
    {
     "data": {
      "text/plain": "MixedInputMLP(\n  (embeddings): EntityEmbeddings(\n    (embeddings): ModuleList(\n      (0): Embedding(6, 3)\n      (1): Embedding(10, 5)\n    )\n  )\n  (mlp): MLPVanilla(\n    (net): Sequential(\n      (0): DenseVanillaBlock(\n        (linear): Linear(in_features=27, out_features=64, bias=True)\n        (activation): ReLU()\n        (batch_norm): BatchNorm1d(64, eps=1e-05, momentum=0.1, affine=True, track_running_stats=True)\n        (dropout): Dropout(p=0.65, inplace=False)\n      )\n      (1): DenseVanillaBlock(\n        (linear): Linear(in_features=64, out_features=128, bias=True)\n        (activation): ReLU()\n        (batch_norm): BatchNorm1d(128, eps=1e-05, momentum=0.1, affine=True, track_running_stats=True)\n        (dropout): Dropout(p=0.65, inplace=False)\n      )\n      (2): DenseVanillaBlock(\n        (linear): Linear(in_features=128, out_features=128, bias=True)\n        (activation): ReLU()\n        (batch_norm): BatchNorm1d(128, eps=1e-05, momentum=0.1, affine=True, track_running_stats=True)\n        (dropout): Dropout(p=0.65, inplace=False)\n      )\n      (3): DenseVanillaBlock(\n        (linear): Linear(in_features=128, out_features=64, bias=True)\n        (activation): ReLU()\n        (batch_norm): BatchNorm1d(64, eps=1e-05, momentum=0.1, affine=True, track_running_stats=True)\n        (dropout): Dropout(p=0.65, inplace=False)\n      )\n      (4): Linear(in_features=64, out_features=20, bias=True)\n    )\n  )\n)"
     },
     "execution_count": 25,
     "metadata": {},
     "output_type": "execute_result"
    }
   ],
   "source": [
    "net"
   ]
  },
  {
   "cell_type": "markdown",
   "metadata": {},
   "source": [
    "## Training the model"
   ]
  },
  {
   "cell_type": "code",
   "execution_count": 26,
   "metadata": {
    "pycharm": {
     "name": "#%%\n"
    }
   },
   "outputs": [],
   "source": [
    "optimizer = tt.optim.AdamWR(decoupled_weight_decay=0.01, cycle_eta_multiplier=0.8,\n",
    "                            cycle_multiplier=2)\n",
    "model = LogisticHazard(net, optimizer, duration_index=labtrans.cuts)"
   ]
  },
  {
   "cell_type": "code",
   "execution_count": 27,
   "metadata": {
    "pycharm": {
     "name": "#%%\n"
    }
   },
   "outputs": [
    {
     "name": "stderr",
     "output_type": "stream",
     "text": [
      "c:\\users\\keivan\\appdata\\local\\programs\\python\\python37\\lib\\site-packages\\torchtuples\\callbacks.py:607: UserWarning: This overload of add is deprecated:\n",
      "\tadd(Number alpha, Tensor other)\n",
      "Consider using one of the following signatures instead:\n",
      "\tadd(Tensor other, *, Number alpha) (Triggered internally at  ..\\torch\\csrc\\utils\\python_arg_parser.cpp:1025.)\n",
      "  p.data = p.data.add(-weight_decay * eta, p.data)\n"
     ]
    },
    {
     "data": {
      "text/plain": "<Figure size 432x288 with 1 Axes>",
      "image/png": "[encoded data removed]"
     },
     "metadata": {
      "needs_background": "light"
     },
     "output_type": "display_data"
    }
   ],
   "source": [
    "batch_size = 128\n",
    "lrfind = model.lr_finder(x_train, y_train, batch_size, tolerance=50)\n",
    "_ = lrfind.plot()"
   ]
  },
  {
   "cell_type": "code",
   "execution_count": 28,
   "metadata": {
    "pycharm": {
     "name": "#%%\n"
    }
   },
   "outputs": [
    {
     "data": {
      "text/plain": "0.12915496650148922"
     },
     "execution_count": 28,
     "metadata": {},
     "output_type": "execute_result"
    }
   ],
   "source": [
    "model.optimizer.param_groups[0]['lr']"
   ]
  },
  {
   "cell_type": "code",
   "execution_count": 29,
   "metadata": {
    "pycharm": {
     "name": "#%%\n"
    }
   },
   "outputs": [
    {
     "data": {
      "text/plain": "0.12915496650148922"
     },
     "execution_count": 29,
     "metadata": {},
     "output_type": "execute_result"
    }
   ],
   "source": [
    "lrfind.get_best_lr()"
   ]
  },
  {
   "cell_type": "code",
   "execution_count": 30,
   "metadata": {
    "pycharm": {
     "name": "#%%\n"
    }
   },
   "outputs": [],
   "source": [
    "model.optimizer.set_lr(0.05)"
   ]
  },
  {
   "cell_type": "code",
   "execution_count": 31,
   "metadata": {
    "pycharm": {
     "name": "#%%\n"
    }
   },
   "outputs": [],
   "source": [
    "epochs = 200\n",
    "callbacks = [tt.cb.EarlyStoppingCycle(min_delta=0, patience=10,)]"
   ]
  },
  {
   "cell_type": "code",
   "execution_count": 32,
   "metadata": {
    "pycharm": {
     "name": "#%%\n"
    }
   },
   "outputs": [
    {
     "name": "stdout",
     "output_type": "stream",
     "text": [
      "Wall time: 12 s\n"
     ]
    }
   ],
   "source": [
    "%%time\n",
    "log = model.fit(x_train, y_train, batch_size, epochs, callbacks, verbose=0,\n",
    "                val_data=val)"
   ]
  },
  {
   "cell_type": "code",
   "execution_count": 33,
   "metadata": {
    "pycharm": {
     "name": "#%%\n"
    }
   },
   "outputs": [
    {
     "data": {
      "text/plain": "<Figure size 432x288 with 1 Axes>",
      "image/png": "[encoded data removed]"
     },
     "metadata": {
      "needs_background": "light"
     },
     "output_type": "display_data"
    }
   ],
   "source": [
    "_ = log.to_pandas().iloc[1:].plot()"
   ]
  },
  {
   "cell_type": "code",
   "execution_count": 34,
   "metadata": {},
   "outputs": [
    {
     "data": {
      "text/plain": "1.2523897886276245"
     },
     "execution_count": 34,
     "metadata": {},
     "output_type": "execute_result"
    }
   ],
   "source": [
    "log.to_pandas().val_loss.min()"
   ]
  },
  {
   "cell_type": "code",
   "execution_count": 35,
   "metadata": {},
   "outputs": [
    {
     "data": {
      "text/plain": "1.1326252619425456"
     },
     "execution_count": 35,
     "metadata": {},
     "output_type": "execute_result"
    }
   ],
   "source": [
    "log.to_pandas().train_loss.min()"
   ]
  },
  {
   "cell_type": "markdown",
   "metadata": {},
   "source": [
    "## Prediction"
   ]
  },
  {
   "cell_type": "code",
   "execution_count": 36,
   "metadata": {
    "pycharm": {
     "name": "#%%\n"
    }
   },
   "outputs": [],
   "source": [
    "surv_cdi = model.interpolate(100).predict_surv_df(x_test)\n",
    "surv_cdi_train = model.interpolate(100).predict_surv_df(x_train)\n",
    "surv_cdi_val = model.interpolate(100).predict_surv_df(x_val)"
   ]
  },
  {
   "cell_type": "code",
   "execution_count": 46,
   "metadata": {},
   "outputs": [
    {
     "data": {
      "text/plain": "<Figure size 720x288 with 0 Axes>"
     },
     "metadata": {},
     "output_type": "display_data"
    },
    {
     "data": {
      "text/plain": "<Figure size 432x720 with 0 Axes>"
     },
     "metadata": {},
     "output_type": "display_data"
    },
    {
     "data": {
      "text/plain": "<Figure size 432x288 with 1 Axes>",
      "image/png": "[encoded data removed]"
     },
     "metadata": {
      "needs_background": "light"
     },
     "output_type": "display_data"
    }
   ],
   "source": [
    "plt.figure().set_figwidth(10)\n",
    "plt.figure().set_figheight(10)\n",
    "surv_cdi.iloc[:, 0:10].plot(drawstyle='steps-post')\n",
    "plt.ylabel('Survival Probability')\n",
    "_ = plt.xlabel('Time in days')\n",
    "plt.xlim(0, 3000)\n",
    "plt.grid(True)\n",
    "# f = plt.figure()\n",
    "plt.savefig('myplot-LH.jpg', dpi=400)"
   ]
  },
  {
   "cell_type": "code",
   "execution_count": 38,
   "outputs": [],
   "source": [
    "p_df = surv_cdi.iloc[:, 0:10]"
   ],
   "metadata": {
    "collapsed": false,
    "pycharm": {
     "name": "#%%\n"
    }
   }
  },
  {
   "cell_type": "code",
   "execution_count": 39,
   "outputs": [
    {
     "data": {
      "text/plain": "             0         1         2         3         4         5         6  \\\n0.00  0.999985  1.000000  0.999794  0.999528  1.000000  1.000000  1.000000   \n0.55  0.999918  0.999967  0.999555  0.999005  0.999977  0.999980  0.999949   \n1.10  0.999851  0.999934  0.999316  0.998481  0.999955  0.999960  0.999899   \n1.65  0.999784  0.999901  0.999078  0.997958  0.999932  0.999941  0.999849   \n2.20  0.999717  0.999869  0.998839  0.997434  0.999910  0.999921  0.999798   \n\n             7         8         9  \n0.00  0.999898  0.998743  1.000000  \n0.55  0.999605  0.998276  0.999970  \n1.10  0.999312  0.997810  0.999941  \n1.65  0.999019  0.997344  0.999911  \n2.20  0.998726  0.996878  0.999881  ",
      "text/html": "<div>\n<style scoped>\n    .dataframe tbody tr th:only-of-type {\n        vertical-align: middle;\n    }\n\n    .dataframe tbody tr th {\n        vertical-align: top;\n    }\n\n    .dataframe thead th {\n        text-align: right;\n    }\n</style>\n<table border=\"1\" class=\"dataframe\">\n  <thead>\n    <tr style=\"text-align: right;\">\n      <th></th>\n      <th>0</th>\n      <th>1</th>\n      <th>2</th>\n      <th>3</th>\n      <th>4</th>\n      <th>5</th>\n      <th>6</th>\n      <th>7</th>\n      <th>8</th>\n      <th>9</th>\n    </tr>\n  </thead>\n  <tbody>\n    <tr>\n      <th>0.00</th>\n      <td>0.999985</td>\n      <td>1.000000</td>\n      <td>0.999794</td>\n      <td>0.999528</td>\n      <td>1.000000</td>\n      <td>1.000000</td>\n      <td>1.000000</td>\n      <td>0.999898</td>\n      <td>0.998743</td>\n      <td>1.000000</td>\n    </tr>\n    <tr>\n      <th>0.55</th>\n      <td>0.999918</td>\n      <td>0.999967</td>\n      <td>0.999555</td>\n      <td>0.999005</td>\n      <td>0.999977</td>\n      <td>0.999980</td>\n      <td>0.999949</td>\n      <td>0.999605</td>\n      <td>0.998276</td>\n      <td>0.999970</td>\n    </tr>\n    <tr>\n      <th>1.10</th>\n      <td>0.999851</td>\n      <td>0.999934</td>\n      <td>0.999316</td>\n      <td>0.998481</td>\n      <td>0.999955</td>\n      <td>0.999960</td>\n      <td>0.999899</td>\n      <td>0.999312</td>\n      <td>0.997810</td>\n      <td>0.999941</td>\n    </tr>\n    <tr>\n      <th>1.65</th>\n      <td>0.999784</td>\n      <td>0.999901</td>\n      <td>0.999078</td>\n      <td>0.997958</td>\n      <td>0.999932</td>\n      <td>0.999941</td>\n      <td>0.999849</td>\n      <td>0.999019</td>\n      <td>0.997344</td>\n      <td>0.999911</td>\n    </tr>\n    <tr>\n      <th>2.20</th>\n      <td>0.999717</td>\n      <td>0.999869</td>\n      <td>0.998839</td>\n      <td>0.997434</td>\n      <td>0.999910</td>\n      <td>0.999921</td>\n      <td>0.999798</td>\n      <td>0.998726</td>\n      <td>0.996878</td>\n      <td>0.999881</td>\n    </tr>\n  </tbody>\n</table>\n</div>"
     },
     "execution_count": 39,
     "metadata": {},
     "output_type": "execute_result"
    }
   ],
   "source": [
    "p_df.head()"
   ],
   "metadata": {
    "collapsed": false,
    "pycharm": {
     "name": "#%%\n"
    }
   }
  },
  {
   "cell_type": "code",
   "execution_count": 40,
   "outputs": [
    {
     "data": {
      "text/plain": "[0.9999852180480957,\n 0.9999180436134338,\n 0.9998509287834167,\n 0.9997837543487549,\n 0.999716579914093,\n 0.9996494054794312,\n 0.9995822906494141,\n 0.9995151162147522,\n 0.9994479417800903,\n 0.9993808269500732,\n 0.9993136525154114,\n 0.9992464780807495,\n 0.9991793036460876,\n 0.9991121888160706,\n 0.9990450143814087,\n 0.9989778399467468,\n 0.998910665512085,\n 0.9988435506820679,\n 0.998776376247406,\n 0.9987092018127441,\n 0.998642086982727,\n 0.9985749125480652,\n 0.9985077381134033,\n 0.9984405636787415,\n 0.9983734488487244,\n 0.9983062744140625,\n 0.9982390999794006,\n 0.9981719851493835,\n 0.9981048107147217,\n 0.9980376362800598,\n 0.997970461845398,\n 0.9979033470153809,\n 0.997836172580719,\n 0.9977689981460571,\n 0.99770188331604,\n 0.9976347088813782,\n 0.9975675344467163,\n 0.9975003600120544,\n 0.9974332451820374,\n 0.9973660707473755,\n 0.9972988963127136,\n 0.9972317218780518,\n 0.9971646070480347,\n 0.9970974326133728,\n 0.9970302581787109,\n 0.9969631433486938,\n 0.996895968914032,\n 0.9968287944793701,\n 0.9967616200447083,\n 0.9966945052146912,\n 0.9966273307800293,\n 0.9965601563453674,\n 0.9964930415153503,\n 0.9964258670806885,\n 0.9963586926460266,\n 0.9962915182113647,\n 0.9962244033813477,\n 0.9961572289466858,\n 0.9960900545120239,\n 0.9960229396820068,\n 0.995955765247345,\n 0.9958885908126831,\n 0.9958214163780212,\n 0.9957543015480042,\n 0.9956871271133423,\n 0.9956199526786804,\n 0.9955527782440186,\n 0.9954856634140015,\n 0.9954184889793396,\n 0.9953513145446777,\n 0.9952841997146606,\n 0.9952170252799988,\n 0.9951498508453369,\n 0.995082676410675,\n 0.995015561580658,\n 0.9949483871459961,\n 0.9948812127113342,\n 0.9948140978813171,\n 0.9947469234466553,\n 0.9946797490119934,\n 0.9946125745773315,\n 0.9945454597473145,\n 0.9944782853126526,\n 0.9944111108779907,\n 0.9943439960479736,\n 0.9942768216133118,\n 0.9942096471786499,\n 0.994142472743988,\n 0.994075357913971,\n 0.9940081834793091,\n 0.9939410090446472,\n 0.9938738346099854,\n 0.9938067197799683,\n 0.9937395453453064,\n 0.9936723709106445,\n 0.9936052560806274,\n 0.9935380816459656,\n 0.9934709072113037,\n 0.9934037327766418,\n 0.9933366179466248,\n 0.9932694435119629,\n 0.9931959509849548,\n 0.9931225180625916,\n 0.9930490255355835,\n 0.9929755926132202,\n 0.9929021000862122,\n 0.9928286671638489,\n 0.9927551746368408,\n 0.9926816821098328,\n 0.9926082491874695,\n 0.9925347566604614,\n 0.9924613237380981,\n 0.9923878312110901,\n 0.992314338684082,\n 0.9922409057617188,\n 0.9921674132347107,\n 0.9920939803123474,\n 0.9920204877853394,\n 0.9919470548629761,\n 0.991873562335968,\n 0.99180006980896,\n 0.9917266368865967,\n 0.9916531443595886,\n 0.9915797114372253,\n 0.9915062189102173,\n 0.991432785987854,\n 0.991359293460846,\n 0.9912858009338379,\n 0.9912123680114746,\n 0.9911388754844666,\n 0.9910654425621033,\n 0.9909919500350952,\n 0.9909184575080872,\n 0.9908450245857239,\n 0.9907715320587158,\n 0.9906980991363525,\n 0.9906246066093445,\n 0.9905511736869812,\n 0.9904776811599731,\n 0.9904041886329651,\n 0.9903307557106018,\n 0.9902572631835938,\n 0.9901838302612305,\n 0.9901103377342224,\n 0.9900368452072144,\n 0.9899634122848511,\n 0.989889919757843,\n 0.9898164868354797,\n 0.9897429943084717,\n 0.9896695613861084,\n 0.9895960688591003,\n 0.9895225763320923,\n 0.989449143409729,\n 0.989375650882721,\n 0.9893022179603577,\n 0.9892287254333496,\n 0.9891552925109863,\n 0.9890817999839783,\n 0.9890083074569702,\n 0.9889348745346069,\n 0.9888613820075989,\n 0.9887879490852356,\n 0.9887144565582275,\n 0.9886409640312195,\n 0.9885675311088562,\n 0.9884940385818481,\n 0.9884206056594849,\n 0.9883471131324768,\n 0.9882736802101135,\n 0.9882001876831055,\n 0.9881266951560974,\n 0.9880532622337341,\n 0.9879797697067261,\n 0.9879063367843628,\n 0.9878328442573547,\n 0.9877593517303467,\n 0.9876859188079834,\n 0.9876124262809753,\n 0.9875389933586121,\n 0.987465500831604,\n 0.9873920679092407,\n 0.9873185753822327,\n 0.9872450828552246,\n 0.9871716499328613,\n 0.9870981574058533,\n 0.98702472448349,\n 0.9869512319564819,\n 0.9868777990341187,\n 0.9868043065071106,\n 0.9867308139801025,\n 0.9866573810577393,\n 0.9865838885307312,\n 0.9865104556083679,\n 0.9864369630813599,\n 0.9863634705543518,\n 0.9862900376319885,\n 0.9862165451049805,\n 0.9861431121826172,\n 0.9860696196556091,\n 0.9859961867332458,\n 0.9859226942062378,\n 0.9858412146568298,\n 0.9857597351074219,\n 0.9856782555580139,\n 0.985596776008606,\n 0.9855153560638428,\n 0.9854338765144348,\n 0.9853523969650269,\n 0.9852709174156189,\n 0.9851894378662109,\n 0.985107958316803,\n 0.985026478767395,\n 0.9849449992179871,\n 0.9848635792732239,\n 0.9847820997238159,\n 0.984700620174408,\n 0.984619140625,\n 0.984537661075592,\n 0.9844561815261841,\n 0.9843747019767761,\n 0.9842932224273682,\n 0.984211802482605,\n 0.984130322933197,\n 0.9840488433837891,\n 0.9839673638343811,\n 0.9838858842849731,\n 0.9838044047355652,\n 0.9837229251861572,\n 0.9836414456367493,\n 0.9835599660873413,\n 0.9834785461425781,\n 0.9833970665931702,\n 0.9833155870437622,\n 0.9832341074943542,\n 0.9831526279449463,\n 0.9830711483955383,\n 0.9829896688461304,\n 0.9829081892967224,\n 0.9828267693519592,\n 0.9827452898025513,\n 0.9826638102531433,\n 0.9825823307037354,\n 0.9825008511543274,\n 0.9824193716049194,\n 0.9823378920555115,\n 0.9822564125061035,\n 0.9821749925613403,\n 0.9820935130119324,\n 0.9820120334625244,\n 0.9819305539131165,\n 0.9818490743637085,\n 0.9817675948143005,\n 0.9816861152648926,\n 0.9816046357154846,\n 0.9815231561660767,\n 0.9814417362213135,\n 0.9813602566719055,\n 0.9812787771224976,\n 0.9811972975730896,\n 0.9811158180236816,\n 0.9810343384742737,\n 0.9809528589248657,\n 0.9808713793754578,\n 0.9807899594306946,\n 0.9807084798812866,\n 0.9806270003318787,\n 0.9805455207824707,\n 0.9804640412330627,\n 0.9803825616836548,\n 0.9803010821342468,\n 0.9802196025848389,\n 0.9801381826400757,\n 0.9800567030906677,\n 0.9799752235412598,\n 0.9798937439918518,\n 0.9798122644424438,\n 0.9797307848930359,\n 0.9796493053436279,\n 0.97956782579422,\n 0.979486346244812,\n 0.9794049263000488,\n 0.9793234467506409,\n 0.9792419672012329,\n 0.979160487651825,\n 0.979079008102417,\n 0.978997528553009,\n 0.9789160490036011,\n 0.9788345694541931,\n 0.9787531495094299,\n 0.978671669960022,\n 0.978590190410614,\n 0.978508710861206,\n 0.9784272313117981,\n 0.9783457517623901,\n 0.9782642722129822,\n 0.9781827926635742,\n 0.978101372718811,\n 0.9780198931694031,\n 0.9779384136199951,\n 0.9778569340705872,\n 0.9777754545211792,\n 0.9776284098625183,\n 0.9774813652038574,\n 0.9773343205451965,\n 0.9771872162818909,\n 0.97704017162323,\n 0.9768931269645691,\n 0.9767460823059082,\n 0.9765990376472473,\n 0.9764519929885864,\n 0.9763049483299255,\n 0.9761578440666199,\n 0.976010799407959,\n 0.9758637547492981,\n 0.9757167100906372,\n 0.9755696654319763,\n 0.9754226207733154,\n 0.9752755165100098,\n 0.9751284718513489,\n 0.974981427192688,\n 0.9748343825340271,\n 0.9746873378753662,\n 0.9745402932167053,\n 0.9743932485580444,\n 0.9742461442947388,\n 0.9740990996360779,\n 0.973952054977417,\n 0.9738050103187561,\n 0.9736579656600952,\n 0.9735109210014343,\n 0.9733638763427734,\n 0.9732167720794678,\n 0.9730697274208069,\n 0.972922682762146,\n 0.9727756381034851,\n 0.9726285934448242,\n 0.9724815487861633,\n 0.9723344445228577,\n 0.9721873998641968,\n 0.9720403552055359,\n 0.971893310546875,\n 0.9717462658882141,\n 0.9715992212295532,\n 0.9714521765708923,\n 0.9713050723075867,\n 0.9711580276489258,\n 0.9710109829902649,\n 0.970863938331604,\n 0.9707168936729431,\n 0.9705698490142822,\n 0.9704227447509766,\n 0.9702757000923157,\n 0.9701286554336548,\n 0.9699816107749939,\n 0.969834566116333,\n 0.9696875214576721,\n 0.9695404767990112,\n 0.9693933725357056,\n 0.9692463278770447,\n 0.9690992832183838,\n 0.9689522385597229,\n 0.968805193901062,\n 0.9686581492424011,\n 0.9685111045837402,\n 0.9683640003204346,\n 0.9682169556617737,\n 0.9680699110031128,\n 0.9679228663444519,\n 0.967775821685791,\n 0.9676287770271301,\n 0.9674817323684692,\n 0.9673346281051636,\n 0.9671875834465027,\n 0.9670405387878418,\n 0.9668934941291809,\n 0.96674644947052,\n 0.9665994048118591,\n 0.9664523005485535,\n 0.9663052558898926,\n 0.9661582112312317,\n 0.9660111665725708,\n 0.9658641219139099,\n 0.965717077255249,\n 0.9655700325965881,\n 0.9654229283332825,\n 0.9652758836746216,\n 0.9651288390159607,\n 0.9649817943572998,\n 0.9648347496986389,\n 0.964687705039978,\n 0.9645406007766724,\n 0.9643935561180115,\n 0.9642465114593506,\n 0.9640994668006897,\n 0.9639524221420288,\n 0.9638053774833679,\n 0.963658332824707,\n 0.9635112285614014,\n 0.9633641839027405,\n 0.9632171392440796,\n 0.9630700945854187,\n 0.962941586971283,\n 0.962813138961792,\n 0.9626846313476562,\n 0.9625561833381653,\n 0.9624276757240295,\n 0.9622991681098938,\n 0.9621707201004028,\n 0.9620422124862671,\n 0.9619137048721313,\n 0.9617852568626404,\n 0.9616567492485046,\n 0.9615283012390137,\n 0.9613997936248779,\n 0.9612712860107422,\n 0.9611428380012512,\n 0.9610143303871155,\n 0.9608858227729797,\n 0.9607573747634888,\n 0.960628867149353,\n 0.9605004191398621,\n 0.9603719115257263,\n 0.9602434039115906,\n 0.9601149559020996,\n 0.9599864482879639,\n 0.9598579406738281,\n 0.9597294926643372,\n 0.9596009850502014,\n 0.9594725370407104,\n 0.9593440294265747,\n 0.959215521812439,\n 0.959087073802948,\n 0.9589585661888123,\n 0.9588301181793213,\n 0.9587016105651855,\n 0.9585731029510498,\n 0.9584446549415588,\n 0.9583161473274231,\n 0.9581876397132874,\n 0.9580591917037964,\n 0.9579306840896606,\n 0.9578022360801697,\n 0.9576737284660339,\n 0.9575452208518982,\n 0.9574167728424072,\n 0.9572882652282715,\n 0.9571597576141357,\n 0.9570313096046448,\n 0.956902801990509,\n 0.9567743539810181,\n 0.9566458463668823,\n 0.9565173387527466,\n 0.9563888907432556,\n 0.9562603831291199,\n 0.9561319351196289,\n 0.9560034275054932,\n 0.9558749198913574,\n 0.9557464718818665,\n 0.9556179642677307,\n 0.955489456653595,\n 0.955361008644104,\n 0.9552325010299683,\n 0.9551040530204773,\n 0.9549755454063416,\n 0.9548470377922058,\n 0.9547185897827148,\n 0.9545900821685791,\n 0.9544615745544434,\n 0.9543331265449524,\n 0.9542046189308167,\n 0.9540761709213257,\n 0.9539476633071899,\n 0.9538191556930542,\n 0.9536907076835632,\n 0.9535622000694275,\n 0.9534337520599365,\n 0.9533052444458008,\n 0.953176736831665,\n 0.9530482888221741,\n 0.9529197812080383,\n 0.9527912735939026,\n 0.9526628255844116,\n 0.9525343179702759,\n 0.9524058699607849,\n 0.9522773623466492,\n 0.9521488547325134,\n 0.9520204067230225,\n 0.9518918991088867,\n 0.951763391494751,\n 0.95163494348526,\n 0.9515064358711243,\n 0.9513779878616333,\n 0.9512494802474976,\n 0.9511209726333618,\n 0.9509925246238708,\n 0.9508640170097351,\n 0.9507355093955994,\n 0.9506070613861084,\n 0.9504785537719727,\n 0.9503501057624817,\n 0.950221598148346,\n 0.9500564932823181,\n 0.9498913288116455,\n 0.9497262239456177,\n 0.9495610594749451,\n 0.9493959546089172,\n 0.9492308497428894,\n 0.9490656852722168,\n 0.948900580406189,\n 0.9487354755401611,\n 0.9485703110694885,\n 0.9484052062034607,\n 0.9482400417327881,\n 0.9480749368667603,\n 0.9479098320007324,\n 0.9477446675300598,\n 0.947579562664032,\n 0.9474144577980042,\n 0.9472492933273315,\n 0.9470841884613037,\n 0.9469190239906311,\n 0.9467539191246033,\n 0.9465888142585754,\n 0.9464236497879028,\n 0.946258544921875,\n 0.9460934400558472,\n 0.9459282755851746,\n 0.9457631707191467,\n 0.9455980062484741,\n 0.9454329013824463,\n 0.9452677965164185,\n 0.9451026320457458,\n 0.944937527179718,\n 0.9447723627090454,\n 0.9446072578430176,\n 0.9444421529769897,\n 0.9442769885063171,\n 0.9441118836402893,\n 0.9439467787742615,\n 0.9437816143035889,\n 0.943616509437561,\n 0.9434513449668884,\n 0.9432862401008606,\n 0.9431211352348328,\n 0.9429559707641602,\n 0.9427908658981323,\n 0.9426257610321045,\n 0.9424605965614319,\n 0.942295491695404,\n 0.9421303272247314,\n 0.9419652223587036,\n 0.9418001174926758,\n 0.9416349530220032,\n 0.9414698481559753,\n 0.9413046836853027,\n 0.9411395788192749,\n 0.9409744739532471,\n 0.9408093094825745,\n 0.9406442046165466,\n 0.9404790997505188,\n 0.9403139352798462,\n 0.9401488304138184,\n 0.9399836659431458,\n 0.9398185610771179,\n 0.9396534562110901,\n 0.9394882917404175,\n 0.9393231868743896,\n 0.9391580820083618,\n 0.9389929175376892,\n 0.9388278126716614,\n 0.9386626482009888,\n 0.9384975433349609,\n 0.9383324384689331,\n 0.9381672739982605,\n 0.9380021691322327,\n 0.9378370046615601,\n 0.9376718997955322,\n 0.9375067949295044,\n 0.9373416304588318,\n 0.937176525592804,\n 0.9370114207267761,\n 0.9368462562561035,\n 0.9366811513900757,\n 0.9365159869194031,\n 0.9363508820533752,\n 0.9361857771873474,\n 0.9360206127166748,\n 0.935855507850647,\n 0.9356904029846191,\n 0.9355252385139465,\n 0.9353601336479187,\n 0.9351949691772461,\n 0.9350298643112183,\n 0.9348647594451904,\n 0.9346995949745178,\n 0.93453449010849,\n 0.9343693852424622,\n 0.9342042207717896,\n 0.9340391159057617,\n 0.9338739514350891,\n 0.9337088465690613,\n 0.933610737323761,\n 0.9335126876831055,\n 0.9334145784378052,\n 0.9333164691925049,\n 0.9332183599472046,\n 0.9331202507019043,\n 0.9330222010612488,\n 0.9329240918159485,\n 0.9328259825706482,\n 0.9327279329299927,\n 0.9326298236846924,\n 0.9325317144393921,\n 0.9324336051940918,\n 0.9323354959487915,\n 0.932237446308136,\n 0.9321393370628357,\n 0.9320412278175354,\n 0.9319431781768799,\n 0.9318450689315796,\n 0.9317469596862793,\n 0.931648850440979,\n 0.9315507411956787,\n 0.9314526915550232,\n 0.9313545823097229,\n 0.9312564730644226,\n 0.9311584234237671,\n 0.9310603141784668,\n 0.9309622049331665,\n 0.9308640956878662,\n 0.9307660460472107,\n 0.9306679368019104,\n 0.9305698275566101,\n 0.9304717183113098,\n 0.9303736686706543,\n 0.930275559425354,\n 0.9301774501800537,\n 0.9300793409347534,\n 0.9299812316894531,\n 0.9298831820487976,\n 0.9297850728034973,\n 0.929686963558197,\n 0.9295889139175415,\n 0.9294908046722412,\n 0.9293926954269409,\n 0.9292945861816406,\n 0.9291964769363403,\n 0.9290984272956848,\n 0.9290003180503845,\n 0.9289022088050842,\n 0.9288041591644287,\n 0.9287060499191284,\n 0.9286079406738281,\n 0.9285098314285278,\n 0.9284117817878723,\n 0.928313672542572,\n 0.9282155632972717,\n 0.9281174540519714,\n 0.9280194044113159,\n 0.9279212951660156,\n 0.9278231859207153,\n 0.927725076675415,\n 0.9276269674301147,\n 0.9275289177894592,\n 0.9274308085441589,\n 0.9273326992988586,\n 0.9272346496582031,\n 0.9271365404129028,\n 0.9270384311676025,\n 0.9269403219223022,\n 0.926842212677002,\n 0.9267441630363464,\n 0.9266460537910461,\n 0.9265479445457458,\n 0.9264498949050903,\n 0.92635178565979,\n 0.9262536764144897,\n 0.9261555671691895,\n 0.9260574579238892,\n 0.9259594082832336,\n 0.9258612990379333,\n 0.9257631897926331,\n 0.9256651401519775,\n 0.9255670309066772,\n 0.925468921661377,\n 0.9253708124160767,\n 0.9252727031707764,\n 0.9251746535301208,\n 0.9250765442848206,\n 0.9249784350395203,\n 0.9248803853988647,\n 0.9247822761535645,\n 0.9246841669082642,\n 0.9245860576629639,\n 0.9244879484176636,\n 0.9243898987770081,\n 0.9242917895317078,\n 0.9241936802864075,\n 0.924095630645752,\n 0.9239975214004517,\n 0.9238994121551514,\n 0.9238409996032715,\n 0.9237826466560364,\n 0.9237242341041565,\n 0.9236658215522766,\n 0.9236074686050415,\n 0.9235490560531616,\n 0.9234907031059265,\n 0.9234322905540466,\n 0.9233738780021667,\n 0.9233155250549316,\n 0.9232571125030518,\n 0.9231986999511719,\n 0.9231403470039368,\n 0.9230819344520569,\n 0.9230235815048218,\n 0.9229651689529419,\n 0.922906756401062,\n 0.9228484034538269,\n 0.922789990901947,\n 0.9227315783500671,\n 0.922673225402832,\n 0.9226148128509521,\n 0.922556459903717,\n 0.9224980473518372,\n 0.9224396347999573,\n 0.9223812818527222,\n 0.9223228693008423,\n 0.9222644567489624,\n 0.9222061038017273,\n 0.9221476912498474,\n 0.9220892786979675,\n 0.9220309257507324,\n 0.9219725131988525,\n 0.9219141602516174,\n 0.9218557476997375,\n 0.9217973351478577,\n 0.9217389822006226,\n 0.9216805696487427,\n 0.9216221570968628,\n 0.9215638041496277,\n 0.9215053915977478,\n 0.9214470386505127,\n 0.9213886260986328,\n 0.9213302135467529,\n 0.9212718605995178,\n 0.9212134480476379,\n 0.9211550354957581,\n 0.921096682548523,\n 0.9210382699966431,\n 0.9209798574447632,\n 0.9209215044975281,\n 0.9208630919456482,\n 0.9208047389984131,\n 0.9207463264465332,\n 0.9206879138946533,\n 0.9206295609474182,\n 0.9205711483955383,\n 0.9205127358436584,\n 0.9204543828964233,\n 0.9203959703445435,\n 0.9203376173973083,\n 0.9202792048454285,\n 0.9202207922935486,\n 0.9201624393463135,\n 0.9201040267944336,\n 0.9200456142425537,\n 0.9199872612953186,\n 0.9199288487434387,\n 0.9198704957962036,\n 0.9198120832443237,\n 0.9197536706924438,\n 0.9196953177452087,\n 0.9196369051933289,\n 0.919578492641449,\n 0.9195201396942139,\n 0.919461727142334,\n 0.9194033145904541,\n 0.919344961643219,\n 0.9192865490913391,\n 0.919228196144104,\n 0.9191697835922241,\n 0.9191113710403442,\n 0.9190530180931091,\n 0.9189946055412292,\n 0.9189361929893494,\n 0.9188778400421143,\n 0.9188194274902344,\n 0.9187610745429993,\n 0.9187026619911194,\n 0.9186442494392395,\n 0.9185858964920044,\n 0.9185274839401245,\n 0.9184690713882446,\n 0.9184107184410095,\n 0.9183523058891296,\n 0.9182939529418945,\n 0.9182355403900146,\n 0.9181771278381348,\n 0.9181187748908997,\n 0.9180603623390198,\n 0.917870819568634,\n 0.9176813364028931,\n 0.9174917936325073,\n 0.9173023104667664,\n 0.9171127676963806,\n 0.9169232845306396,\n 0.9167337417602539,\n 0.9165441989898682,\n 0.9163547158241272,\n 0.9161651730537415,\n 0.9159756898880005,\n 0.9157861471176147,\n 0.915596604347229,\n 0.915407121181488,\n 0.9152175784111023,\n 0.9150280952453613,\n 0.9148385524749756,\n 0.9146490693092346,\n 0.9144595265388489,\n 0.9142699837684631,\n 0.9140805006027222,\n 0.9138909578323364,\n 0.9137014746665955,\n 0.9135119318962097,\n 0.9133224487304688,\n 0.913132905960083,\n 0.9129433631896973,\n 0.9127538800239563,\n 0.9125643372535706,\n 0.9123748540878296,\n 0.9121853113174438,\n 0.9119957685470581,\n 0.9118062853813171,\n 0.9116167426109314,\n 0.9114272594451904,\n 0.9112377166748047,\n 0.9110482335090637,\n 0.910858690738678,\n 0.9106691479682922,\n 0.9104796648025513,\n 0.9102901220321655,\n 0.9101006388664246,\n 0.9099110960960388,\n 0.9097215533256531,\n 0.9095320701599121,\n 0.9093425273895264,\n 0.9091530442237854,\n 0.9089635014533997,\n 0.9087740182876587,\n 0.908584475517273,\n 0.9083949327468872,\n 0.9082054495811462,\n 0.9080159068107605,\n 0.9078264236450195,\n 0.9076368808746338,\n 0.9074473977088928,\n 0.9072578549385071,\n 0.9070683121681213,\n 0.9068788290023804,\n 0.9066892862319946,\n 0.9064998030662537,\n 0.9063102602958679,\n 0.9061207175254822,\n 0.9059312343597412,\n 0.9057416915893555,\n 0.9055522084236145,\n 0.9053626656532288,\n 0.9051731824874878,\n 0.904983639717102,\n 0.9047940969467163,\n 0.9046046137809753,\n 0.9044150710105896,\n 0.9042255878448486,\n 0.9040360450744629,\n 0.9038465023040771,\n 0.9036570191383362,\n 0.9034674763679504,\n 0.9032779932022095,\n 0.9030884504318237,\n 0.9028989672660828,\n 0.902709424495697,\n 0.9025198817253113,\n 0.9023303985595703,\n 0.9021408557891846,\n 0.9019513726234436,\n 0.9017618298530579,\n 0.9015723466873169,\n 0.9013828039169312,\n 0.9011932611465454,\n 0.9010037779808044,\n 0.9008142352104187,\n 0.9006247520446777,\n 0.900435209274292,\n 0.9002456665039062,\n 0.9000561833381653,\n 0.8998666405677795,\n 0.8996771574020386,\n 0.8994876146316528,\n 0.8992981314659119,\n 0.8991085886955261,\n 0.8989461660385132,\n 0.898783802986145,\n 0.8986213803291321,\n 0.8984590172767639,\n 0.898296594619751,\n 0.898134171962738,\n 0.8979718089103699,\n 0.8978093862533569,\n 0.897646963596344,\n 0.8974846005439758,\n 0.8973221778869629,\n 0.8971598148345947,\n 0.8969973921775818,\n 0.8968349695205688,\n 0.8966726064682007,\n 0.8965101838111877,\n 0.8963477611541748,\n 0.8961853981018066,\n 0.8960229754447937,\n 0.8958606123924255,\n 0.8956981897354126,\n 0.8955357670783997,\n 0.8953734040260315,\n 0.8952109813690186,\n 0.8950486183166504,\n 0.8948861956596375,\n 0.8947237730026245,\n 0.8945614099502563,\n 0.8943989872932434,\n 0.8942365646362305,\n 0.8940742015838623,\n 0.8939117789268494,\n 0.8937494158744812,\n 0.8935869932174683,\n 0.8934245705604553,\n 0.8932622075080872,\n 0.8930997848510742,\n 0.8929373621940613,\n 0.8927749991416931,\n 0.8926125764846802,\n 0.892450213432312,\n 0.8922877907752991,\n 0.8921253681182861,\n 0.891963005065918,\n 0.891800582408905,\n 0.8916381597518921,\n 0.8914757966995239,\n 0.891313374042511,\n 0.8911510109901428,\n 0.8909885883331299,\n 0.8908261656761169,\n 0.8906638026237488,\n 0.8905013799667358,\n 0.8903390169143677,\n 0.8901765942573547,\n 0.8900141716003418,\n 0.8898518085479736,\n 0.8896893858909607,\n 0.8895269632339478,\n 0.8893646001815796,\n 0.8892021775245667,\n 0.8890398144721985,\n 0.8888773918151855,\n 0.8887149691581726,\n 0.8885526061058044,\n 0.8883901834487915,\n 0.8882277607917786,\n 0.8880653977394104,\n 0.8879029750823975,\n 0.8877406120300293,\n 0.8875781893730164,\n 0.8874157667160034,\n 0.8872534036636353,\n 0.8870909810066223,\n 0.8869285583496094,\n 0.8867661952972412,\n 0.8866037726402283,\n 0.8864414095878601,\n 0.8862789869308472,\n 0.8861165642738342,\n 0.8859542012214661,\n 0.8857917785644531,\n 0.885629415512085,\n 0.885466992855072,\n 0.8853045701980591,\n 0.8851422071456909,\n 0.884979784488678,\n 0.884817361831665,\n 0.8846549987792969,\n 0.8844925761222839,\n 0.8843302130699158,\n 0.8841677904129028,\n 0.8840053677558899,\n 0.8838430047035217,\n 0.8836805820465088,\n 0.8835181593894958,\n 0.8833557963371277,\n 0.8831933736801147,\n 0.8830310106277466,\n ...]"
     },
     "execution_count": 40,
     "metadata": {},
     "output_type": "execute_result"
    }
   ],
   "source": [
    "list(p_df[0])"
   ],
   "metadata": {
    "collapsed": false,
    "pycharm": {
     "name": "#%%\n"
    }
   }
  },
  {
   "cell_type": "code",
   "execution_count": 41,
   "outputs": [],
   "source": [
    "import json\n",
    "with open('diagram/x.json', 'w') as f:\n",
    "    f.write(json.dumps(list(p_df.index), indent=4))"
   ],
   "metadata": {
    "collapsed": false,
    "pycharm": {
     "name": "#%%\n"
    }
   }
  },
  {
   "cell_type": "code",
   "execution_count": 42,
   "outputs": [],
   "source": [
    "for i in range(10):\n",
    "    with open(f'diagram/y_{i}.json', 'w') as f:\n",
    "        f.write(json.dumps(list(p_df[i]), indent=4))"
   ],
   "metadata": {
    "collapsed": false,
    "pycharm": {
     "name": "#%%\n"
    }
   }
  },
  {
   "cell_type": "markdown",
   "metadata": {},
   "source": [
    "## Evaluation"
   ]
  },
  {
   "cell_type": "markdown",
   "metadata": {},
   "source": [
    "### Test"
   ]
  },
  {
   "cell_type": "code",
   "execution_count": 43,
   "metadata": {
    "pycharm": {
     "name": "#%%\n"
    }
   },
   "outputs": [
    {
     "data": {
      "text/plain": "0.8754301445285616"
     },
     "execution_count": 43,
     "metadata": {},
     "output_type": "execute_result"
    }
   ],
   "source": [
    "ev_cdi = EvalSurv(surv_cdi, durations_test, events_test, censor_surv='km')\n",
    "ev_cdi.concordance_td()#, ev_chi.concordance_td()"
   ]
  },
  {
   "cell_type": "markdown",
   "metadata": {},
   "source": [
    "### Train"
   ]
  },
  {
   "cell_type": "code",
   "execution_count": 44,
   "metadata": {},
   "outputs": [
    {
     "data": {
      "text/plain": "0.8928793670548493"
     },
     "execution_count": 44,
     "metadata": {},
     "output_type": "execute_result"
    }
   ],
   "source": [
    "durations_train, events_train = get_target(df_train)\n",
    "ev_cdi_train = EvalSurv(surv_cdi_train, durations_train, events_train, censor_surv='km')\n",
    "ev_cdi_train.concordance_td()"
   ]
  },
  {
   "cell_type": "markdown",
   "metadata": {},
   "source": [
    "### Validation"
   ]
  },
  {
   "cell_type": "code",
   "execution_count": 45,
   "metadata": {
    "pycharm": {
     "name": "#%%\n"
    }
   },
   "outputs": [
    {
     "data": {
      "text/plain": "0.8522050059594756"
     },
     "execution_count": 45,
     "metadata": {},
     "output_type": "execute_result"
    }
   ],
   "source": [
    "durations_val, events_val = get_target(df_val)\n",
    "ev_cdi_val = EvalSurv(surv_cdi_val, durations_val, events_val, censor_surv='km')\n",
    "ev_cdi_val.concordance_td()"
   ]
  },
  {
   "cell_type": "code",
   "execution_count": 300,
   "outputs": [
    {
     "data": {
      "text/plain": "0.10507537473863475"
     },
     "execution_count": 300,
     "metadata": {},
     "output_type": "execute_result"
    }
   ],
   "source": [
    "# time_grid = np.linspace(durations_test.min(), durations_test.max(), 100)\n",
    "time_grid = np.arange(365, 1826, 30)#np.arange(365, 2400, 30)\n",
    "ev_cdi.integrated_brier_score(time_grid)#, ev_chi.integrated_brier_score(time_grid)"
   ],
   "metadata": {
    "collapsed": false,
    "pycharm": {
     "name": "#%%\n"
    }
   }
  },
  {
   "cell_type": "code",
   "execution_count": 301,
   "metadata": {},
   "outputs": [
    {
     "data": {
      "text/plain": "0.07669664350258845"
     },
     "execution_count": 301,
     "metadata": {},
     "output_type": "execute_result"
    }
   ],
   "source": [
    "# time_grid = np.linspace(durations_train.min(), durations_train.max(), 100)\n",
    "time_grid = np.arange(365, 1826, 30)#np.arange(365, 2400, 30)\n",
    "ev_cdi_train.integrated_brier_score(time_grid)#, ev_chi.integrated_brier_score(time_grid)"
   ]
  },
  {
   "cell_type": "code",
   "execution_count": 302,
   "metadata": {},
   "outputs": [
    {
     "data": {
      "text/plain": "0.10628416537878045"
     },
     "execution_count": 302,
     "metadata": {},
     "output_type": "execute_result"
    }
   ],
   "source": [
    "# time_grid = np.linspace(durations_train.min(), durations_train.max(), 100)\n",
    "time_grid = np.arange(365, 1826, 30)#np.arange(365, 2400, 30)\n",
    "ev_cdi_val.integrated_brier_score(time_grid)#, ev_chi.integrated_brier_score(time_grid)"
   ]
  },
  {
   "cell_type": "code",
   "execution_count": 254,
   "metadata": {
    "pycharm": {
     "name": "#%%\n"
    }
   },
   "outputs": [
    {
     "data": {
      "text/plain": "<Figure size 432x288 with 1 Axes>",
      "image/png": "[encoded data removed]"
     },
     "metadata": {
      "needs_background": "light"
     },
     "output_type": "display_data"
    }
   ],
   "source": [
    "ev_cdi.brier_score(time_grid).rename('CDI').plot()\n",
    "# ev_chi.brier_score(time_grid).rename('CHI').plot()\n",
    "plt.legend()\n",
    "plt.ylabel('Brier score')\n",
    "_ = plt.xlabel('Time')"
   ]
  },
  {
   "cell_type": "code",
   "execution_count": 42,
   "metadata": {
    "pycharm": {
     "name": "#%%\n"
    }
   },
   "outputs": [
    {
     "name": "stdout",
     "output_type": "stream",
     "text": [
      "{'num_nodes': [32, 32, 32, 32, 32, 32], 'dropout': 0.65, 'lr': 0.02}\n",
      "{'Validation Error': 1.4433788061141968, 'Train Error': 1.2472617228825886}\n",
      "---------------\n",
      "{'num_nodes': [32, 32, 32, 32, 32, 32], 'dropout': 0.65, 'lr': 0.05}\n",
      "{'Validation Error': 1.3813368082046509, 'Train Error': 1.1609439651171367}\n",
      "---------------\n",
      "{'num_nodes': [32, 32, 32, 32, 32, 32], 'dropout': 0.8, 'lr': 0.02}\n",
      "{'Validation Error': 1.6199661493301392, 'Train Error': 1.5316903591156006}\n",
      "---------------\n",
      "{'num_nodes': [32, 32, 32, 32, 32, 32], 'dropout': 0.8, 'lr': 0.05}\n",
      "{'Validation Error': 1.5243312120437622, 'Train Error': 1.391720751921336}\n",
      "---------------\n",
      "{'num_nodes': [16, 16, 16, 16, 16, 16], 'dropout': 0.65, 'lr': 0.02}\n",
      "{'Validation Error': 1.55294930934906, 'Train Error': 1.4435030221939087}\n",
      "---------------\n",
      "{'num_nodes': [16, 16, 16, 16, 16, 16], 'dropout': 0.65, 'lr': 0.05}\n",
      "{'Validation Error': 1.3955285549163818, 'Train Error': 1.2173844973246257}\n",
      "---------------\n",
      "{'num_nodes': [16, 16, 16, 16, 16, 16], 'dropout': 0.8, 'lr': 0.02}\n",
      "{'Validation Error': 1.638424277305603, 'Train Error': 1.5569393634796143}\n",
      "---------------\n",
      "{'num_nodes': [16, 16, 16, 16, 16, 16], 'dropout': 0.8, 'lr': 0.05}\n",
      "{'Validation Error': 1.637363076210022, 'Train Error': 1.5563963254292805}\n",
      "---------------\n",
      "{'num_nodes': [32, 16, 16, 16, 32], 'dropout': 0.65, 'lr': 0.02}\n",
      "{'Validation Error': 1.4155563116073608, 'Train Error': 1.2161702513694763}\n",
      "---------------\n",
      "{'num_nodes': [32, 16, 16, 16, 32], 'dropout': 0.65, 'lr': 0.05}\n",
      "{'Validation Error': 1.359791874885559, 'Train Error': 1.1925460696220398}\n",
      "---------------\n",
      "{'num_nodes': [32, 16, 16, 16, 32], 'dropout': 0.8, 'lr': 0.02}\n",
      "{'Validation Error': 1.6282576322555542, 'Train Error': 1.5274518330891926}\n",
      "---------------\n",
      "{'num_nodes': [32, 16, 16, 16, 32], 'dropout': 0.8, 'lr': 0.05}\n",
      "{'Validation Error': 1.4109827280044556, 'Train Error': 1.3244943221410115}\n",
      "---------------\n"
     ]
    }
   ],
   "source": [
    "in_features = x_train[0].shape[1]\n",
    "out_features = labtrans.out_features\n",
    "\n",
    "nets = [[32, 32, 32, 32, 32, 32], [16, 16, 16, 16, 16, 16], [32, 16, 16, 16, 32]]\n",
    "droputs = [0.65, 0.8]\n",
    "lrs = [0.02, 0.05]\n",
    "\n",
    "\n",
    "epochs = 2048\n",
    "callbacks = [] #[tt.cb.EarlyStoppingCycle()]\n",
    "verbose = False\n",
    "\n",
    "cv = []\n",
    "\n",
    "for num_nodes in nets:\n",
    "    for dropout in droputs:\n",
    "        for lr in lrs:       \n",
    "            params = {'num_nodes': num_nodes, 'dropout': dropout, 'lr': lr}\n",
    "            print(params)\n",
    "            batch_norm = True\n",
    "            net = tt.practical.MixedInputMLP(in_features, num_embeddings, embedding_dims,\n",
    "                                 num_nodes, out_features, batch_norm, dropout)\n",
    "            \n",
    "            optimizer = tt.optim.AdamWR(decoupled_weight_decay=0.01, cycle_eta_multiplier=0.8,\n",
    "                            cycle_multiplier=2)\n",
    "            \n",
    "            model = LogisticHazard(net, optimizer, duration_index=labtrans.cuts)\n",
    "            model.optimizer.set_lr(lr)\n",
    "\n",
    "            log = model.fit(x_train, y_train, batch_size, epochs, callbacks, verbose,\n",
    "                val_data=val)\n",
    "            \n",
    "            score = {'Validation Error': log.to_pandas().val_loss.min(), 'Train Error': log.to_pandas().train_loss.min()}\n",
    "            print(score)\n",
    "            \n",
    "            cv.append([params, score['Validation Error']])\n",
    "            \n",
    "            print('---------------')\n"
   ]
  },
  {
   "cell_type": "code",
   "execution_count": 43,
   "metadata": {},
   "outputs": [],
   "source": [
    "with open('hyperparameters_LH2.npy', 'wb') as f:\n",
    "    np.save(f, np.array(cv))"
   ]
  },
  {
   "cell_type": "code",
   "execution_count": 111,
   "metadata": {},
   "outputs": [],
   "source": [
    "best_params = [{'num_nodes': [32, 16, 16, 16, 32], 'dropout': 0.8, 'lr': 0.05},\n",
    "               {'num_nodes': [32, 16, 16, 16, 32], 'dropout': 0.65, 'lr': 0.05},\n",
    "               {'num_nodes': [32, 32, 32, 32, 32, 32], 'dropout': 0.65, 'lr': 0.05}]"
   ]
  },
  {
   "cell_type": "code",
   "execution_count": 59,
   "outputs": [
    {
     "data": {
      "text/plain": "[[{'num_nodes': [32, 32, 32, 32, 32, 32], 'dropout': 0.65, 'lr': 0.02},\n  1.4433788061141968],\n [{'num_nodes': [32, 32, 32, 32, 32, 32], 'dropout': 0.65, 'lr': 0.05},\n  1.3813368082046509],\n [{'num_nodes': [32, 32, 32, 32, 32, 32], 'dropout': 0.8, 'lr': 0.02},\n  1.6199661493301392],\n [{'num_nodes': [32, 32, 32, 32, 32, 32], 'dropout': 0.8, 'lr': 0.05},\n  1.5243312120437622],\n [{'num_nodes': [16, 16, 16, 16, 16, 16], 'dropout': 0.65, 'lr': 0.02},\n  1.55294930934906],\n [{'num_nodes': [16, 16, 16, 16, 16, 16], 'dropout': 0.65, 'lr': 0.05},\n  1.3955285549163818],\n [{'num_nodes': [16, 16, 16, 16, 16, 16], 'dropout': 0.8, 'lr': 0.02},\n  1.638424277305603],\n [{'num_nodes': [16, 16, 16, 16, 16, 16], 'dropout': 0.8, 'lr': 0.05},\n  1.637363076210022],\n [{'num_nodes': [32, 16, 16, 16, 32], 'dropout': 0.65, 'lr': 0.02},\n  1.4155563116073608],\n [{'num_nodes': [32, 16, 16, 16, 32], 'dropout': 0.65, 'lr': 0.05},\n  1.359791874885559],\n [{'num_nodes': [32, 16, 16, 16, 32], 'dropout': 0.8, 'lr': 0.02},\n  1.6282576322555542],\n [{'num_nodes': [32, 16, 16, 16, 32], 'dropout': 0.8, 'lr': 0.05},\n  1.4109827280044556]]"
     },
     "execution_count": 59,
     "metadata": {},
     "output_type": "execute_result"
    }
   ],
   "source": [
    "cv"
   ],
   "metadata": {
    "collapsed": false,
    "pycharm": {
     "name": "#%%\n"
    }
   }
  },
  {
   "cell_type": "code",
   "execution_count": null,
   "outputs": [],
   "source": [],
   "metadata": {
    "collapsed": false,
    "pycharm": {
     "name": "#%%\n"
    }
   }
  }
 ],
 "metadata": {
  "kernelspec": {
   "display_name": "Python 3",
   "language": "python",
   "name": "python3"
  },
  "language_info": {
   "codemirror_mode": {
    "name": "ipython",
    "version": 3
   },
   "file_extension": ".py",
   "mimetype": "text/x-python",
   "name": "python",
   "nbconvert_exporter": "python",
   "pygments_lexer": "ipython3",
   "version": "3.7.3"
  }
 },
 "nbformat": 4,
 "nbformat_minor": 4
}