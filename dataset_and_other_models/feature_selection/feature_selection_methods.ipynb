{
 "cells": [
  {
   "cell_type": "code",
   "execution_count": 12,
   "metadata": {
    "collapsed": true
   },
   "outputs": [],
   "source": [
    "from mlxtend.feature_selection import SequentialFeatureSelector\n",
    "import numpy as np\n",
    "import pandas as pd\n",
    "from sksurv.ensemble import RandomSurvivalForest\n"
   ]
  },
  {
   "cell_type": "code",
   "execution_count": 15,
   "outputs": [],
   "source": [
    "def prepare_data(path_to_x, path_to_y):\n",
    "    X = pd.read_csv(path_to_x)\n",
    "    y = pd.read_csv(path_to_y)\n",
    "\n",
    "    yt = np.array(list(zip(y['Status'], y['Survival'])),\n",
    "                  dtype=[('Status', '?'), ('Survival_in_days', '<f8')])\n",
    "    Xt = X.to_numpy()\n",
    "\n",
    "    return Xt, yt\n",
    "\n",
    "\n",
    "def get_train_test():\n",
    "    path_to_x_train = '../dataset/train_x.csv'\n",
    "    path_to_y_train = '../dataset/train_y.csv'\n",
    "\n",
    "    path_to_x_test = '../dataset/test_x.csv'\n",
    "    path_to_y_test = '../dataset/test_y.csv'\n",
    "\n",
    "    X_train, y_train = prepare_data(path_to_x_train, path_to_y_train)\n",
    "    X_test, y_test = prepare_data(path_to_x_test, path_to_y_test)\n",
    "\n",
    "    return X_train, y_train, X_test, y_test"
   ],
   "metadata": {
    "collapsed": false,
    "pycharm": {
     "name": "#%%\n"
    }
   }
  },
  {
   "cell_type": "code",
   "execution_count": 16,
   "outputs": [],
   "source": [
    "X_train, y_train, X_test, y_test = get_train_test()\n",
    "\n",
    "# RSF Model with Best Params\n",
    "random_state = 64\n",
    "best_params = {'max_features': 'sqrt', 'min_samples_leaf': 3, 'min_samples_split': 3, 'n_estimators': 500}\n",
    "rsf = RandomSurvivalForest(n_estimators=500,\n",
    "                           min_samples_split=3,\n",
    "                           min_samples_leaf=3,\n",
    "                           max_features=\"sqrt\",\n",
    "                           n_jobs=1,\n",
    "                           random_state=random_state)\n"
   ],
   "metadata": {
    "collapsed": false,
    "pycharm": {
     "name": "#%%\n"
    }
   }
  },
  {
   "cell_type": "code",
   "execution_count": 17,
   "outputs": [
    {
     "ename": "AttributeError",
     "evalue": "'RandomSurvivalForest' object has no attribute '_estimator_type'",
     "output_type": "error",
     "traceback": [
      "\u001B[1;31m---------------------------------------------------------------------------\u001B[0m",
      "\u001B[1;31mAttributeError\u001B[0m                            Traceback (most recent call last)",
      "\u001B[1;32m<ipython-input-17-760df413f0b4>\u001B[0m in \u001B[0;36m<module>\u001B[1;34m\u001B[0m\n\u001B[1;32m----> 1\u001B[1;33m \u001B[0mffs\u001B[0m \u001B[1;33m=\u001B[0m \u001B[0mSequentialFeatureSelector\u001B[0m\u001B[1;33m(\u001B[0m\u001B[0mrsf\u001B[0m\u001B[1;33m,\u001B[0m \u001B[0mk_features\u001B[0m\u001B[1;33m=\u001B[0m\u001B[1;34m'best'\u001B[0m\u001B[1;33m,\u001B[0m \u001B[0mforward\u001B[0m\u001B[1;33m=\u001B[0m\u001B[1;32mTrue\u001B[0m\u001B[1;33m,\u001B[0m \u001B[0mn_jobs\u001B[0m\u001B[1;33m=\u001B[0m\u001B[1;33m-\u001B[0m\u001B[1;36m1\u001B[0m\u001B[1;33m)\u001B[0m\u001B[1;33m\u001B[0m\u001B[1;33m\u001B[0m\u001B[0m\n\u001B[0m\u001B[0;32m      2\u001B[0m \u001B[0mffs\u001B[0m\u001B[1;33m.\u001B[0m\u001B[0mfit\u001B[0m\u001B[1;33m(\u001B[0m\u001B[0mX_train\u001B[0m\u001B[1;33m,\u001B[0m \u001B[0my_train\u001B[0m\u001B[1;33m)\u001B[0m\u001B[1;33m\u001B[0m\u001B[1;33m\u001B[0m\u001B[0m\n\u001B[0;32m      3\u001B[0m \u001B[0mfeatures\u001B[0m \u001B[1;33m=\u001B[0m \u001B[0mlist\u001B[0m\u001B[1;33m(\u001B[0m\u001B[0mffs\u001B[0m\u001B[1;33m.\u001B[0m\u001B[0mk_features\u001B[0m\u001B[1;33m)\u001B[0m\u001B[1;33m\u001B[0m\u001B[1;33m\u001B[0m\u001B[0m\n\u001B[0;32m      4\u001B[0m \u001B[0mfeatures\u001B[0m \u001B[1;33m=\u001B[0m \u001B[0mlist\u001B[0m\u001B[1;33m(\u001B[0m\u001B[0mmap\u001B[0m\u001B[1;33m(\u001B[0m\u001B[0mint\u001B[0m\u001B[1;33m,\u001B[0m \u001B[0mfeatures\u001B[0m\u001B[1;33m)\u001B[0m\u001B[1;33m)\u001B[0m\u001B[1;33m\u001B[0m\u001B[1;33m\u001B[0m\u001B[0m\n",
      "\u001B[1;32mc:\\users\\keivan\\appdata\\local\\programs\\python\\python37\\lib\\site-packages\\mlxtend\\feature_selection\\sequential_feature_selector.py\u001B[0m in \u001B[0;36m__init__\u001B[1;34m(self, estimator, k_features, forward, floating, verbose, scoring, cv, n_jobs, pre_dispatch, clone_estimator, fixed_features)\u001B[0m\n\u001B[0;32m    231\u001B[0m \u001B[1;33m\u001B[0m\u001B[0m\n\u001B[0;32m    232\u001B[0m         \u001B[1;32mif\u001B[0m \u001B[0mscoring\u001B[0m \u001B[1;32mis\u001B[0m \u001B[1;32mNone\u001B[0m\u001B[1;33m:\u001B[0m\u001B[1;33m\u001B[0m\u001B[1;33m\u001B[0m\u001B[0m\n\u001B[1;32m--> 233\u001B[1;33m             \u001B[1;32mif\u001B[0m \u001B[0mself\u001B[0m\u001B[1;33m.\u001B[0m\u001B[0mest_\u001B[0m\u001B[1;33m.\u001B[0m\u001B[0m_estimator_type\u001B[0m \u001B[1;33m==\u001B[0m \u001B[1;34m'classifier'\u001B[0m\u001B[1;33m:\u001B[0m\u001B[1;33m\u001B[0m\u001B[1;33m\u001B[0m\u001B[0m\n\u001B[0m\u001B[0;32m    234\u001B[0m                 \u001B[0mscoring\u001B[0m \u001B[1;33m=\u001B[0m \u001B[1;34m'accuracy'\u001B[0m\u001B[1;33m\u001B[0m\u001B[1;33m\u001B[0m\u001B[0m\n\u001B[0;32m    235\u001B[0m             \u001B[1;32melif\u001B[0m \u001B[0mself\u001B[0m\u001B[1;33m.\u001B[0m\u001B[0mest_\u001B[0m\u001B[1;33m.\u001B[0m\u001B[0m_estimator_type\u001B[0m \u001B[1;33m==\u001B[0m \u001B[1;34m'regressor'\u001B[0m\u001B[1;33m:\u001B[0m\u001B[1;33m\u001B[0m\u001B[1;33m\u001B[0m\u001B[0m\n",
      "\u001B[1;31mAttributeError\u001B[0m: 'RandomSurvivalForest' object has no attribute '_estimator_type'"
     ]
    }
   ],
   "source": [
    "ffs = SequentialFeatureSelector(rsf, k_features='best', forward=True, n_jobs=-1)\n",
    "ffs.fit(X_train, y_train)\n",
    "features = list(ffs.k_features)\n",
    "features = list(map(int, features))"
   ],
   "metadata": {
    "collapsed": false,
    "pycharm": {
     "name": "#%%\n"
    }
   }
  },
  {
   "cell_type": "code",
   "execution_count": null,
   "outputs": [],
   "source": [],
   "metadata": {
    "collapsed": false,
    "pycharm": {
     "name": "#%%\n"
    }
   }
  }
 ],
 "metadata": {
  "kernelspec": {
   "display_name": "Python 3",
   "language": "python",
   "name": "python3"
  },
  "language_info": {
   "codemirror_mode": {
    "name": "ipython",
    "version": 2
   },
   "file_extension": ".py",
   "mimetype": "text/x-python",
   "name": "python",
   "nbconvert_exporter": "python",
   "pygments_lexer": "ipython2",
   "version": "2.7.6"
  }
 },
 "nbformat": 4,
 "nbformat_minor": 0
}