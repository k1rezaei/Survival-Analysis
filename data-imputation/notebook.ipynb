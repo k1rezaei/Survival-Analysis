{
 "cells": [
  {
   "cell_type": "markdown",
   "metadata": {},
   "source": [
    "<div>\n",
    "<font size=4> Description </font> <br>\n",
    "    a code to give value to null data, based on multiple imputation. \n",
    "</div>"
   ]
  },
  {
   "cell_type": "code",
   "execution_count": 1,
   "metadata": {},
   "outputs": [],
   "source": [
    "import numpy as np\n",
    "import pandas as pd\n",
    "import seaborn as sns\n",
    "import matplotlib.pyplot as plt\n",
    "from fancyimpute import KNN\n",
    "from sklearn.experimental import enable_iterative_imputer\n",
    "from sklearn.impute import IterativeImputer"
   ]
  },
  {
   "cell_type": "code",
   "execution_count": 2,
   "metadata": {},
   "outputs": [
    {
     "data": {
      "text/plain": "     Y   AF   AQ   AY    BC   BE   BG   BH   BI   BL  ...    DE   DT   DW  \\\n0  1.0  1.0  4.0  NaN   NaN  NaN  2.0  1.0  1.0  NaN  ...  10.0  2.0  2.0   \n1  1.0  2.0  4.0  2.0   NaN  NaN  2.0  1.0  1.0  NaN  ...   1.0  1.0  2.0   \n2  2.0  2.0  4.0  NaN  45.0  NaN  2.0  1.0  1.0  NaN  ...   1.0  2.0  2.0   \n3  2.0  2.0  2.0  3.0   NaN  NaN  2.0  1.0  1.0  NaN  ...  10.0  2.0  2.0   \n4  1.0  2.0  4.0  NaN   NaN  NaN  2.0  1.0  1.0  NaN  ...  10.0  2.0  2.0   \n5  2.0  2.0  6.0  NaN   NaN  NaN  2.0  1.0  1.0  NaN  ...  10.0  2.0  2.0   \n6  2.0  2.0  2.0  2.0   NaN  NaN  1.0  1.0  2.0  1.0  ...  10.0  2.0  2.0   \n7  2.0  2.0  2.0  2.0  50.0  5.0  1.0  1.0  1.0  1.0  ...  10.0  2.0  2.0   \n8  2.0  2.0  2.0  3.0  30.0  NaN  1.0  1.0  2.0  1.0  ...   1.0  1.0  1.0   \n9  1.0  2.0  NaN  NaN   NaN  NaN  2.0  1.0  1.0  NaN  ...  10.0  2.0  2.0   \n\n    DX   DY     EZ   Age  metastasis  dead  secondprim  \n0  2.0  2.0  103.0  44.0         NaN   1.0         2.0  \n1  1.0  1.0  153.0  51.0         2.0   1.0         2.0  \n2  2.0  2.0  160.0  53.0         2.0   1.0         2.0  \n3  2.0  2.0  115.0  59.0         NaN   1.0         2.0  \n4  2.0  2.0   52.0  40.0         2.0   1.0         2.0  \n5  2.0  2.0  298.0  33.0         NaN   1.0         2.0  \n6  2.0  2.0  168.0  83.0         NaN   1.0         2.0  \n7  2.0  2.0  162.0  80.0         NaN   1.0         2.0  \n8  1.0  2.0   76.0  71.0         2.0   1.0         2.0  \n9  2.0  2.0  225.0  57.0         NaN   1.0         2.0  \n\n[10 rows x 24 columns]",
      "text/html": "<div>\n<style scoped>\n    .dataframe tbody tr th:only-of-type {\n        vertical-align: middle;\n    }\n\n    .dataframe tbody tr th {\n        vertical-align: top;\n    }\n\n    .dataframe thead th {\n        text-align: right;\n    }\n</style>\n<table border=\"1\" class=\"dataframe\">\n  <thead>\n    <tr style=\"text-align: right;\">\n      <th></th>\n      <th>Y</th>\n      <th>AF</th>\n      <th>AQ</th>\n      <th>AY</th>\n      <th>BC</th>\n      <th>BE</th>\n      <th>BG</th>\n      <th>BH</th>\n      <th>BI</th>\n      <th>BL</th>\n      <th>...</th>\n      <th>DE</th>\n      <th>DT</th>\n      <th>DW</th>\n      <th>DX</th>\n      <th>DY</th>\n      <th>EZ</th>\n      <th>Age</th>\n      <th>metastasis</th>\n      <th>dead</th>\n      <th>secondprim</th>\n    </tr>\n  </thead>\n  <tbody>\n    <tr>\n      <th>0</th>\n      <td>1.0</td>\n      <td>1.0</td>\n      <td>4.0</td>\n      <td>NaN</td>\n      <td>NaN</td>\n      <td>NaN</td>\n      <td>2.0</td>\n      <td>1.0</td>\n      <td>1.0</td>\n      <td>NaN</td>\n      <td>...</td>\n      <td>10.0</td>\n      <td>2.0</td>\n      <td>2.0</td>\n      <td>2.0</td>\n      <td>2.0</td>\n      <td>103.0</td>\n      <td>44.0</td>\n      <td>NaN</td>\n      <td>1.0</td>\n      <td>2.0</td>\n    </tr>\n    <tr>\n      <th>1</th>\n      <td>1.0</td>\n      <td>2.0</td>\n      <td>4.0</td>\n      <td>2.0</td>\n      <td>NaN</td>\n      <td>NaN</td>\n      <td>2.0</td>\n      <td>1.0</td>\n      <td>1.0</td>\n      <td>NaN</td>\n      <td>...</td>\n      <td>1.0</td>\n      <td>1.0</td>\n      <td>2.0</td>\n      <td>1.0</td>\n      <td>1.0</td>\n      <td>153.0</td>\n      <td>51.0</td>\n      <td>2.0</td>\n      <td>1.0</td>\n      <td>2.0</td>\n    </tr>\n    <tr>\n      <th>2</th>\n      <td>2.0</td>\n      <td>2.0</td>\n      <td>4.0</td>\n      <td>NaN</td>\n      <td>45.0</td>\n      <td>NaN</td>\n      <td>2.0</td>\n      <td>1.0</td>\n      <td>1.0</td>\n      <td>NaN</td>\n      <td>...</td>\n      <td>1.0</td>\n      <td>2.0</td>\n      <td>2.0</td>\n      <td>2.0</td>\n      <td>2.0</td>\n      <td>160.0</td>\n      <td>53.0</td>\n      <td>2.0</td>\n      <td>1.0</td>\n      <td>2.0</td>\n    </tr>\n    <tr>\n      <th>3</th>\n      <td>2.0</td>\n      <td>2.0</td>\n      <td>2.0</td>\n      <td>3.0</td>\n      <td>NaN</td>\n      <td>NaN</td>\n      <td>2.0</td>\n      <td>1.0</td>\n      <td>1.0</td>\n      <td>NaN</td>\n      <td>...</td>\n      <td>10.0</td>\n      <td>2.0</td>\n      <td>2.0</td>\n      <td>2.0</td>\n      <td>2.0</td>\n      <td>115.0</td>\n      <td>59.0</td>\n      <td>NaN</td>\n      <td>1.0</td>\n      <td>2.0</td>\n    </tr>\n    <tr>\n      <th>4</th>\n      <td>1.0</td>\n      <td>2.0</td>\n      <td>4.0</td>\n      <td>NaN</td>\n      <td>NaN</td>\n      <td>NaN</td>\n      <td>2.0</td>\n      <td>1.0</td>\n      <td>1.0</td>\n      <td>NaN</td>\n      <td>...</td>\n      <td>10.0</td>\n      <td>2.0</td>\n      <td>2.0</td>\n      <td>2.0</td>\n      <td>2.0</td>\n      <td>52.0</td>\n      <td>40.0</td>\n      <td>2.0</td>\n      <td>1.0</td>\n      <td>2.0</td>\n    </tr>\n    <tr>\n      <th>5</th>\n      <td>2.0</td>\n      <td>2.0</td>\n      <td>6.0</td>\n      <td>NaN</td>\n      <td>NaN</td>\n      <td>NaN</td>\n      <td>2.0</td>\n      <td>1.0</td>\n      <td>1.0</td>\n      <td>NaN</td>\n      <td>...</td>\n      <td>10.0</td>\n      <td>2.0</td>\n      <td>2.0</td>\n      <td>2.0</td>\n      <td>2.0</td>\n      <td>298.0</td>\n      <td>33.0</td>\n      <td>NaN</td>\n      <td>1.0</td>\n      <td>2.0</td>\n    </tr>\n    <tr>\n      <th>6</th>\n      <td>2.0</td>\n      <td>2.0</td>\n      <td>2.0</td>\n      <td>2.0</td>\n      <td>NaN</td>\n      <td>NaN</td>\n      <td>1.0</td>\n      <td>1.0</td>\n      <td>2.0</td>\n      <td>1.0</td>\n      <td>...</td>\n      <td>10.0</td>\n      <td>2.0</td>\n      <td>2.0</td>\n      <td>2.0</td>\n      <td>2.0</td>\n      <td>168.0</td>\n      <td>83.0</td>\n      <td>NaN</td>\n      <td>1.0</td>\n      <td>2.0</td>\n    </tr>\n    <tr>\n      <th>7</th>\n      <td>2.0</td>\n      <td>2.0</td>\n      <td>2.0</td>\n      <td>2.0</td>\n      <td>50.0</td>\n      <td>5.0</td>\n      <td>1.0</td>\n      <td>1.0</td>\n      <td>1.0</td>\n      <td>1.0</td>\n      <td>...</td>\n      <td>10.0</td>\n      <td>2.0</td>\n      <td>2.0</td>\n      <td>2.0</td>\n      <td>2.0</td>\n      <td>162.0</td>\n      <td>80.0</td>\n      <td>NaN</td>\n      <td>1.0</td>\n      <td>2.0</td>\n    </tr>\n    <tr>\n      <th>8</th>\n      <td>2.0</td>\n      <td>2.0</td>\n      <td>2.0</td>\n      <td>3.0</td>\n      <td>30.0</td>\n      <td>NaN</td>\n      <td>1.0</td>\n      <td>1.0</td>\n      <td>2.0</td>\n      <td>1.0</td>\n      <td>...</td>\n      <td>1.0</td>\n      <td>1.0</td>\n      <td>1.0</td>\n      <td>1.0</td>\n      <td>2.0</td>\n      <td>76.0</td>\n      <td>71.0</td>\n      <td>2.0</td>\n      <td>1.0</td>\n      <td>2.0</td>\n    </tr>\n    <tr>\n      <th>9</th>\n      <td>1.0</td>\n      <td>2.0</td>\n      <td>NaN</td>\n      <td>NaN</td>\n      <td>NaN</td>\n      <td>NaN</td>\n      <td>2.0</td>\n      <td>1.0</td>\n      <td>1.0</td>\n      <td>NaN</td>\n      <td>...</td>\n      <td>10.0</td>\n      <td>2.0</td>\n      <td>2.0</td>\n      <td>2.0</td>\n      <td>2.0</td>\n      <td>225.0</td>\n      <td>57.0</td>\n      <td>NaN</td>\n      <td>1.0</td>\n      <td>2.0</td>\n    </tr>\n  </tbody>\n</table>\n<p>10 rows × 24 columns</p>\n</div>"
     },
     "execution_count": 2,
     "metadata": {},
     "output_type": "execute_result"
    }
   ],
   "source": [
    "df = pd.read_csv('prepared_with_null_fix_DC.csv')\n",
    "df['BC'] *= 10 # Categorical\n",
    "df.head(10)"
   ]
  },
  {
   "cell_type": "code",
   "execution_count": 3,
   "metadata": {},
   "outputs": [
    {
     "data": {
      "text/plain": "Text(0.5, 1.0, 'dead patients')"
     },
     "execution_count": 3,
     "metadata": {},
     "output_type": "execute_result"
    },
    {
     "data": {
      "text/plain": "<Figure size 432x288 with 1 Axes>",
      "image/png": "[encoded data removed]"
     },
     "metadata": {
      "needs_background": "light"
     },
     "output_type": "display_data"
    }
   ],
   "source": [
    "plt.hist(df[df['dead'] == 1]['EZ'], bins = range(0, 3000, 100))\n",
    "plt.xlabel('survival time after diagnostic')\n",
    "plt.ylabel('number of patients')\n",
    "plt.title('dead patients')"
   ]
  },
  {
   "cell_type": "code",
   "execution_count": 4,
   "metadata": {},
   "outputs": [
    {
     "data": {
      "text/plain": "Text(0.5, 1.0, 'alive patients')"
     },
     "execution_count": 4,
     "metadata": {},
     "output_type": "execute_result"
    },
    {
     "data": {
      "text/plain": "<Figure size 432x288 with 1 Axes>",
      "image/png": "[encoded data removed]"
     },
     "metadata": {
      "needs_background": "light"
     },
     "output_type": "display_data"
    }
   ],
   "source": [
    "plt.hist(df[df['dead'] == 2]['EZ'], bins = range(0, 3000, 100))\n",
    "plt.xlabel('time after diagnostic')\n",
    "plt.ylabel('number of patients')\n",
    "plt.title('alive patients')"
   ]
  },
  {
   "cell_type": "code",
   "execution_count": 5,
   "metadata": {},
   "outputs": [
    {
     "data": {
      "text/plain": "              0\nY            41\nAF           36\nAQ           28\nAY          111\nBC          141\nBE          414\nBG            5\nBH           51\nBI           65\nBL           88\nBM           92\nBP          116\nCY           53\nDC          147\nDE          156\nDT          153\nDW          160\nDX          170\nDY          172\nEZ            0\nAge          23\nmetastasis  230\ndead          0\nsecondprim   59",
      "text/html": "<div>\n<style scoped>\n    .dataframe tbody tr th:only-of-type {\n        vertical-align: middle;\n    }\n\n    .dataframe tbody tr th {\n        vertical-align: top;\n    }\n\n    .dataframe thead th {\n        text-align: right;\n    }\n</style>\n<table border=\"1\" class=\"dataframe\">\n  <thead>\n    <tr style=\"text-align: right;\">\n      <th></th>\n      <th>0</th>\n    </tr>\n  </thead>\n  <tbody>\n    <tr>\n      <th>Y</th>\n      <td>41</td>\n    </tr>\n    <tr>\n      <th>AF</th>\n      <td>36</td>\n    </tr>\n    <tr>\n      <th>AQ</th>\n      <td>28</td>\n    </tr>\n    <tr>\n      <th>AY</th>\n      <td>111</td>\n    </tr>\n    <tr>\n      <th>BC</th>\n      <td>141</td>\n    </tr>\n    <tr>\n      <th>BE</th>\n      <td>414</td>\n    </tr>\n    <tr>\n      <th>BG</th>\n      <td>5</td>\n    </tr>\n    <tr>\n      <th>BH</th>\n      <td>51</td>\n    </tr>\n    <tr>\n      <th>BI</th>\n      <td>65</td>\n    </tr>\n    <tr>\n      <th>BL</th>\n      <td>88</td>\n    </tr>\n    <tr>\n      <th>BM</th>\n      <td>92</td>\n    </tr>\n    <tr>\n      <th>BP</th>\n      <td>116</td>\n    </tr>\n    <tr>\n      <th>CY</th>\n      <td>53</td>\n    </tr>\n    <tr>\n      <th>DC</th>\n      <td>147</td>\n    </tr>\n    <tr>\n      <th>DE</th>\n      <td>156</td>\n    </tr>\n    <tr>\n      <th>DT</th>\n      <td>153</td>\n    </tr>\n    <tr>\n      <th>DW</th>\n      <td>160</td>\n    </tr>\n    <tr>\n      <th>DX</th>\n      <td>170</td>\n    </tr>\n    <tr>\n      <th>DY</th>\n      <td>172</td>\n    </tr>\n    <tr>\n      <th>EZ</th>\n      <td>0</td>\n    </tr>\n    <tr>\n      <th>Age</th>\n      <td>23</td>\n    </tr>\n    <tr>\n      <th>metastasis</th>\n      <td>230</td>\n    </tr>\n    <tr>\n      <th>dead</th>\n      <td>0</td>\n    </tr>\n    <tr>\n      <th>secondprim</th>\n      <td>59</td>\n    </tr>\n  </tbody>\n</table>\n</div>"
     },
     "execution_count": 5,
     "metadata": {},
     "output_type": "execute_result"
    }
   ],
   "source": [
    "# get insight about number of null values\n",
    "pd.DataFrame(df.shape[0] - df.count())"
   ]
  },
  {
   "cell_type": "code",
   "execution_count": 6,
   "metadata": {},
   "outputs": [
    {
     "name": "stdout",
     "output_type": "stream",
     "text": [
      "2.0    431\n",
      "1.0     54\n",
      "Name: Y, dtype: int64\n",
      "2.0    386\n",
      "1.0    104\n",
      "Name: AF, dtype: int64\n",
      "2.0     315\n",
      "1.0      91\n",
      "6.0      37\n",
      "4.0      33\n",
      "3.0       7\n",
      "10.0      5\n",
      "9.0       4\n",
      "5.0       4\n",
      "7.0       1\n",
      "11.0      1\n",
      "Name: AQ, dtype: int64\n",
      "2.0    233\n",
      "3.0    160\n",
      "4.0     22\n",
      "Name: AY, dtype: int64\n",
      "30.0     47\n",
      "20.0     46\n",
      "15.0     37\n",
      "40.0     34\n",
      "10.0     31\n",
      "25.0     27\n",
      "50.0     24\n",
      "35.0     22\n",
      "45.0     13\n",
      "70.0     11\n",
      "60.0     10\n",
      "12.0      8\n",
      "55.0      7\n",
      "5.0       6\n",
      "18.0      5\n",
      "22.0      4\n",
      "17.0      4\n",
      "80.0      4\n",
      "13.0      4\n",
      "7.0       4\n",
      "28.0      3\n",
      "14.0      3\n",
      "100.0     3\n",
      "24.0      3\n",
      "38.0      3\n",
      "41.0      2\n",
      "9.0       2\n",
      "90.0      2\n",
      "32.0      2\n",
      "3.0       2\n",
      "65.0      2\n",
      "8.0       2\n",
      "11.0      1\n",
      "19.0      1\n",
      "37.0      1\n",
      "23.0      1\n",
      "26.0      1\n",
      "46.0      1\n",
      "53.0      1\n",
      "6.0       1\n",
      "Name: BC, dtype: int64\n",
      "1.0     39\n",
      "2.0     27\n",
      "3.0     16\n",
      "4.0      6\n",
      "6.0      6\n",
      "5.0      5\n",
      "7.0      4\n",
      "8.0      3\n",
      "9.0      2\n",
      "12.0     2\n",
      "10.0     1\n",
      "16.0     1\n",
      "Name: BE, dtype: int64\n",
      "1.0    432\n",
      "2.0     89\n",
      "Name: BG, dtype: int64\n",
      "1.0    341\n",
      "2.0    134\n",
      "Name: BH, dtype: int64\n",
      "2.0    295\n",
      "1.0    166\n",
      "Name: BI, dtype: int64\n",
      "1.0    418\n",
      "2.0     20\n",
      "Name: BL, dtype: int64\n",
      "1.0    266\n",
      "2.0    168\n",
      "Name: BM, dtype: int64\n",
      "1.0    322\n",
      "2.0     88\n",
      "Name: BP, dtype: int64\n",
      "1.0    249\n",
      "2.0    224\n",
      "Name: CY, dtype: int64\n",
      "1.0    199\n",
      "2.0    180\n",
      "Name: DC, dtype: int64\n",
      "10.0    180\n",
      "1.0     150\n",
      "2.0      21\n",
      "3.0      18\n",
      "4.0       1\n",
      "Name: DE, dtype: int64\n",
      "2.0    213\n",
      "1.0    160\n",
      "Name: DT, dtype: int64\n",
      "2.0    247\n",
      "1.0    119\n",
      "Name: DW, dtype: int64\n",
      "2.0    287\n",
      "1.0     69\n",
      "Name: DX, dtype: int64\n",
      "2.0    287\n",
      "1.0     67\n",
      "Name: DY, dtype: int64\n",
      "2.0    260\n",
      "1.0     36\n",
      "Name: metastasis, dtype: int64\n",
      "2.0    320\n",
      "1.0    206\n",
      "Name: dead, dtype: int64\n",
      "2.0    462\n",
      "1.0      5\n",
      "Name: secondprim, dtype: int64\n"
     ]
    }
   ],
   "source": [
    "# get insight about different values that our features can acquire\n",
    "\n",
    "cols = list(df.columns)\n",
    "cols.remove('Age')\n",
    "cols.remove('EZ')\n",
    "\n",
    "for col in cols:\n",
    "    print(df[col].value_counts())\n",
    "\n",
    "# Binary = All - Categorical - Numerical\n",
    "# Categorical = AY, DE ---> AQ, DE\n",
    "# Numerical = AY, BC, BE, EZ, Age"
   ]
  },
  {
   "cell_type": "markdown",
   "metadata": {},
   "source": [
    "<font size=4>Fancy Imputer based on KNN </font><br>\n",
    "$k = 10$ is set."
   ]
  },
  {
   "cell_type": "code",
   "execution_count": 7,
   "metadata": {},
   "outputs": [
    {
     "name": "stdout",
     "output_type": "stream",
     "text": [
      "Imputing row 1/526 with 7 missing, elapsed time: 0.113\n",
      "Imputing row 101/526 with 12 missing, elapsed time: 0.120\n",
      "Imputing row 201/526 with 5 missing, elapsed time: 0.127\n",
      "Imputing row 301/526 with 3 missing, elapsed time: 0.138\n",
      "Imputing row 401/526 with 1 missing, elapsed time: 0.147\n",
      "Imputing row 501/526 with 9 missing, elapsed time: 0.156\n"
     ]
    }
   ],
   "source": [
    "imputer = KNN(k=11, orientation='rows', print_interval=100, verbose=True)\n",
    "encode_data = pd.DataFrame(np.round(imputer.fit_transform(df)), columns = df.columns)\n",
    "encode_data['BC'] /= 10\n",
    "imp = encode_data"
   ]
  },
  {
   "cell_type": "code",
   "execution_count": 8,
   "metadata": {},
   "outputs": [
    {
     "data": {
      "text/plain": "     Y   AF   AQ   AY   BC   BE   BG   BH   BI   BL  ...    DE   DT   DW   DX  \\\n0  1.0  1.0  4.0  3.0  6.9  3.0  2.0  1.0  1.0  1.0  ...  10.0  2.0  2.0  2.0   \n1  1.0  2.0  4.0  2.0  4.3  7.0  2.0  1.0  1.0  1.0  ...   1.0  1.0  2.0  1.0   \n2  2.0  2.0  4.0  2.0  4.5  6.0  2.0  1.0  1.0  1.0  ...   1.0  2.0  2.0  2.0   \n3  2.0  2.0  2.0  3.0  5.4  3.0  2.0  1.0  1.0  1.0  ...  10.0  2.0  2.0  2.0   \n4  1.0  2.0  4.0  3.0  3.7  4.0  2.0  1.0  1.0  1.0  ...  10.0  2.0  2.0  2.0   \n5  2.0  2.0  6.0  3.0  2.5  3.0  2.0  1.0  1.0  1.0  ...  10.0  2.0  2.0  2.0   \n6  2.0  2.0  2.0  2.0  3.8  4.0  1.0  1.0  2.0  1.0  ...  10.0  2.0  2.0  2.0   \n7  2.0  2.0  2.0  2.0  5.0  5.0  1.0  1.0  1.0  1.0  ...  10.0  2.0  2.0  2.0   \n8  2.0  2.0  2.0  3.0  3.0  3.0  1.0  1.0  2.0  1.0  ...   1.0  1.0  1.0  1.0   \n9  1.0  2.0  3.0  3.0  3.6  3.0  2.0  1.0  1.0  1.0  ...  10.0  2.0  2.0  2.0   \n\n    DY     EZ   Age  metastasis  dead  secondprim  \n0  2.0  103.0  44.0         2.0   1.0         2.0  \n1  1.0  153.0  51.0         2.0   1.0         2.0  \n2  2.0  160.0  53.0         2.0   1.0         2.0  \n3  2.0  115.0  59.0         2.0   1.0         2.0  \n4  2.0   52.0  40.0         2.0   1.0         2.0  \n5  2.0  298.0  33.0         2.0   1.0         2.0  \n6  2.0  168.0  83.0         2.0   1.0         2.0  \n7  2.0  162.0  80.0         2.0   1.0         2.0  \n8  2.0   76.0  71.0         2.0   1.0         2.0  \n9  2.0  225.0  57.0         2.0   1.0         2.0  \n\n[10 rows x 24 columns]",
      "text/html": "<div>\n<style scoped>\n    .dataframe tbody tr th:only-of-type {\n        vertical-align: middle;\n    }\n\n    .dataframe tbody tr th {\n        vertical-align: top;\n    }\n\n    .dataframe thead th {\n        text-align: right;\n    }\n</style>\n<table border=\"1\" class=\"dataframe\">\n  <thead>\n    <tr style=\"text-align: right;\">\n      <th></th>\n      <th>Y</th>\n      <th>AF</th>\n      <th>AQ</th>\n      <th>AY</th>\n      <th>BC</th>\n      <th>BE</th>\n      <th>BG</th>\n      <th>BH</th>\n      <th>BI</th>\n      <th>BL</th>\n      <th>...</th>\n      <th>DE</th>\n      <th>DT</th>\n      <th>DW</th>\n      <th>DX</th>\n      <th>DY</th>\n      <th>EZ</th>\n      <th>Age</th>\n      <th>metastasis</th>\n      <th>dead</th>\n      <th>secondprim</th>\n    </tr>\n  </thead>\n  <tbody>\n    <tr>\n      <th>0</th>\n      <td>1.0</td>\n      <td>1.0</td>\n      <td>4.0</td>\n      <td>3.0</td>\n      <td>6.9</td>\n      <td>3.0</td>\n      <td>2.0</td>\n      <td>1.0</td>\n      <td>1.0</td>\n      <td>1.0</td>\n      <td>...</td>\n      <td>10.0</td>\n      <td>2.0</td>\n      <td>2.0</td>\n      <td>2.0</td>\n      <td>2.0</td>\n      <td>103.0</td>\n      <td>44.0</td>\n      <td>2.0</td>\n      <td>1.0</td>\n      <td>2.0</td>\n    </tr>\n    <tr>\n      <th>1</th>\n      <td>1.0</td>\n      <td>2.0</td>\n      <td>4.0</td>\n      <td>2.0</td>\n      <td>4.3</td>\n      <td>7.0</td>\n      <td>2.0</td>\n      <td>1.0</td>\n      <td>1.0</td>\n      <td>1.0</td>\n      <td>...</td>\n      <td>1.0</td>\n      <td>1.0</td>\n      <td>2.0</td>\n      <td>1.0</td>\n      <td>1.0</td>\n      <td>153.0</td>\n      <td>51.0</td>\n      <td>2.0</td>\n      <td>1.0</td>\n      <td>2.0</td>\n    </tr>\n    <tr>\n      <th>2</th>\n      <td>2.0</td>\n      <td>2.0</td>\n      <td>4.0</td>\n      <td>2.0</td>\n      <td>4.5</td>\n      <td>6.0</td>\n      <td>2.0</td>\n      <td>1.0</td>\n      <td>1.0</td>\n      <td>1.0</td>\n      <td>...</td>\n      <td>1.0</td>\n      <td>2.0</td>\n      <td>2.0</td>\n      <td>2.0</td>\n      <td>2.0</td>\n      <td>160.0</td>\n      <td>53.0</td>\n      <td>2.0</td>\n      <td>1.0</td>\n      <td>2.0</td>\n    </tr>\n    <tr>\n      <th>3</th>\n      <td>2.0</td>\n      <td>2.0</td>\n      <td>2.0</td>\n      <td>3.0</td>\n      <td>5.4</td>\n      <td>3.0</td>\n      <td>2.0</td>\n      <td>1.0</td>\n      <td>1.0</td>\n      <td>1.0</td>\n      <td>...</td>\n      <td>10.0</td>\n      <td>2.0</td>\n      <td>2.0</td>\n      <td>2.0</td>\n      <td>2.0</td>\n      <td>115.0</td>\n      <td>59.0</td>\n      <td>2.0</td>\n      <td>1.0</td>\n      <td>2.0</td>\n    </tr>\n    <tr>\n      <th>4</th>\n      <td>1.0</td>\n      <td>2.0</td>\n      <td>4.0</td>\n      <td>3.0</td>\n      <td>3.7</td>\n      <td>4.0</td>\n      <td>2.0</td>\n      <td>1.0</td>\n      <td>1.0</td>\n      <td>1.0</td>\n      <td>...</td>\n      <td>10.0</td>\n      <td>2.0</td>\n      <td>2.0</td>\n      <td>2.0</td>\n      <td>2.0</td>\n      <td>52.0</td>\n      <td>40.0</td>\n      <td>2.0</td>\n      <td>1.0</td>\n      <td>2.0</td>\n    </tr>\n    <tr>\n      <th>5</th>\n      <td>2.0</td>\n      <td>2.0</td>\n      <td>6.0</td>\n      <td>3.0</td>\n      <td>2.5</td>\n      <td>3.0</td>\n      <td>2.0</td>\n      <td>1.0</td>\n      <td>1.0</td>\n      <td>1.0</td>\n      <td>...</td>\n      <td>10.0</td>\n      <td>2.0</td>\n      <td>2.0</td>\n      <td>2.0</td>\n      <td>2.0</td>\n      <td>298.0</td>\n      <td>33.0</td>\n      <td>2.0</td>\n      <td>1.0</td>\n      <td>2.0</td>\n    </tr>\n    <tr>\n      <th>6</th>\n      <td>2.0</td>\n      <td>2.0</td>\n      <td>2.0</td>\n      <td>2.0</td>\n      <td>3.8</td>\n      <td>4.0</td>\n      <td>1.0</td>\n      <td>1.0</td>\n      <td>2.0</td>\n      <td>1.0</td>\n      <td>...</td>\n      <td>10.0</td>\n      <td>2.0</td>\n      <td>2.0</td>\n      <td>2.0</td>\n      <td>2.0</td>\n      <td>168.0</td>\n      <td>83.0</td>\n      <td>2.0</td>\n      <td>1.0</td>\n      <td>2.0</td>\n    </tr>\n    <tr>\n      <th>7</th>\n      <td>2.0</td>\n      <td>2.0</td>\n      <td>2.0</td>\n      <td>2.0</td>\n      <td>5.0</td>\n      <td>5.0</td>\n      <td>1.0</td>\n      <td>1.0</td>\n      <td>1.0</td>\n      <td>1.0</td>\n      <td>...</td>\n      <td>10.0</td>\n      <td>2.0</td>\n      <td>2.0</td>\n      <td>2.0</td>\n      <td>2.0</td>\n      <td>162.0</td>\n      <td>80.0</td>\n      <td>2.0</td>\n      <td>1.0</td>\n      <td>2.0</td>\n    </tr>\n    <tr>\n      <th>8</th>\n      <td>2.0</td>\n      <td>2.0</td>\n      <td>2.0</td>\n      <td>3.0</td>\n      <td>3.0</td>\n      <td>3.0</td>\n      <td>1.0</td>\n      <td>1.0</td>\n      <td>2.0</td>\n      <td>1.0</td>\n      <td>...</td>\n      <td>1.0</td>\n      <td>1.0</td>\n      <td>1.0</td>\n      <td>1.0</td>\n      <td>2.0</td>\n      <td>76.0</td>\n      <td>71.0</td>\n      <td>2.0</td>\n      <td>1.0</td>\n      <td>2.0</td>\n    </tr>\n    <tr>\n      <th>9</th>\n      <td>1.0</td>\n      <td>2.0</td>\n      <td>3.0</td>\n      <td>3.0</td>\n      <td>3.6</td>\n      <td>3.0</td>\n      <td>2.0</td>\n      <td>1.0</td>\n      <td>1.0</td>\n      <td>1.0</td>\n      <td>...</td>\n      <td>10.0</td>\n      <td>2.0</td>\n      <td>2.0</td>\n      <td>2.0</td>\n      <td>2.0</td>\n      <td>225.0</td>\n      <td>57.0</td>\n      <td>2.0</td>\n      <td>1.0</td>\n      <td>2.0</td>\n    </tr>\n  </tbody>\n</table>\n<p>10 rows × 24 columns</p>\n</div>"
     },
     "execution_count": 8,
     "metadata": {},
     "output_type": "execute_result"
    }
   ],
   "source": [
    "imp.head(10)"
   ]
  },
  {
   "cell_type": "markdown",
   "metadata": {},
   "source": [
    "get insight about the performence of imputer by comparing distributions in data."
   ]
  },
  {
   "cell_type": "code",
   "execution_count": 9,
   "metadata": {},
   "outputs": [],
   "source": [
    "def get_pie_chart(df, c_name):\n",
    "    col = df[c_name]\n",
    "    s = col.value_counts()\n",
    "    indices = s.index\n",
    "    values = s.to_numpy()\n",
    "    return values, indices"
   ]
  },
  {
   "cell_type": "code",
   "execution_count": 10,
   "metadata": {},
   "outputs": [
    {
     "name": "stdout",
     "output_type": "stream",
     "text": [
      "[431  54]\n"
     ]
    },
    {
     "data": {
      "text/plain": "<Figure size 432x288 with 1 Axes>",
      "image/png": "[encoded data removed]"
     },
     "metadata": {},
     "output_type": "display_data"
    }
   ],
   "source": [
    "data, label = get_pie_chart(df, 'Y')\n",
    "plt.pie(data, labels=label, autopct='%1.00f%%')\n",
    "plt.legend()\n",
    "print(np.array(data))\n",
    "pass"
   ]
  },
  {
   "cell_type": "code",
   "execution_count": 11,
   "metadata": {},
   "outputs": [
    {
     "name": "stdout",
     "output_type": "stream",
     "text": [
      "[467  59]\n"
     ]
    },
    {
     "data": {
      "text/plain": "<Figure size 432x288 with 1 Axes>",
      "image/png": "[encoded data removed]"
     },
     "metadata": {},
     "output_type": "display_data"
    }
   ],
   "source": [
    "data, label = get_pie_chart(imp, 'Y')\n",
    "plt.pie(data, labels=label, autopct='%1.0f%%')\n",
    "plt.legend()\n",
    "print(np.array(data))\n",
    "pass"
   ]
  },
  {
   "cell_type": "code",
   "execution_count": 12,
   "metadata": {},
   "outputs": [],
   "source": [
    "imp.to_csv('prepared_for_rsf_KNN_imputation.csv', index=False)"
   ]
  },
  {
   "cell_type": "code",
   "execution_count": 13,
   "metadata": {},
   "outputs": [
    {
     "data": {
      "text/plain": "     Y   AF   AQ   AY   BC   BE   BG   BH   BI   BL  ...    DE   DT   DW   DX  \\\n0  1.0  1.0  4.0  3.0  3.0  3.0  2.0  1.0  1.0  2.0  ...  10.0  2.0  2.0  2.0   \n1  1.0  2.0  4.0  2.0  3.5  3.0  2.0  1.0  1.0  2.0  ...   1.0  1.0  2.0  1.0   \n2  2.0  2.0  4.0  3.0  4.5  3.0  2.0  1.0  1.0  2.0  ...   1.0  2.0  2.0  2.0   \n3  2.0  2.0  2.0  3.0  3.1  3.0  2.0  1.0  1.0  2.0  ...  10.0  2.0  2.0  2.0   \n4  1.0  2.0  4.0  3.0  3.1  3.0  2.0  1.0  1.0  2.0  ...  10.0  2.0  2.0  2.0   \n5  2.0  2.0  6.0  3.0  3.1  3.0  2.0  1.0  1.0  2.0  ...  10.0  2.0  2.0  2.0   \n6  2.0  2.0  2.0  2.0  3.2  3.0  1.0  1.0  2.0  1.0  ...  10.0  2.0  2.0  2.0   \n7  2.0  2.0  2.0  2.0  5.0  5.0  1.0  1.0  1.0  1.0  ...  10.0  2.0  2.0  2.0   \n8  2.0  2.0  2.0  3.0  3.0  3.0  1.0  1.0  2.0  1.0  ...   1.0  1.0  1.0  1.0   \n9  1.0  2.0  5.0  3.0  3.1  3.0  2.0  1.0  1.0  2.0  ...  10.0  2.0  2.0  2.0   \n\n    DY     EZ   Age  metastasis  dead  secondprim  \n0  2.0  103.0  44.0         2.0   1.0         2.0  \n1  1.0  153.0  51.0         2.0   1.0         2.0  \n2  2.0  160.0  53.0         2.0   1.0         2.0  \n3  2.0  115.0  59.0         2.0   1.0         2.0  \n4  2.0   52.0  40.0         2.0   1.0         2.0  \n5  2.0  298.0  33.0         2.0   1.0         2.0  \n6  2.0  168.0  83.0         2.0   1.0         2.0  \n7  2.0  162.0  80.0         2.0   1.0         2.0  \n8  2.0   76.0  71.0         2.0   1.0         2.0  \n9  2.0  225.0  57.0         2.0   1.0         2.0  \n\n[10 rows x 24 columns]",
      "text/html": "<div>\n<style scoped>\n    .dataframe tbody tr th:only-of-type {\n        vertical-align: middle;\n    }\n\n    .dataframe tbody tr th {\n        vertical-align: top;\n    }\n\n    .dataframe thead th {\n        text-align: right;\n    }\n</style>\n<table border=\"1\" class=\"dataframe\">\n  <thead>\n    <tr style=\"text-align: right;\">\n      <th></th>\n      <th>Y</th>\n      <th>AF</th>\n      <th>AQ</th>\n      <th>AY</th>\n      <th>BC</th>\n      <th>BE</th>\n      <th>BG</th>\n      <th>BH</th>\n      <th>BI</th>\n      <th>BL</th>\n      <th>...</th>\n      <th>DE</th>\n      <th>DT</th>\n      <th>DW</th>\n      <th>DX</th>\n      <th>DY</th>\n      <th>EZ</th>\n      <th>Age</th>\n      <th>metastasis</th>\n      <th>dead</th>\n      <th>secondprim</th>\n    </tr>\n  </thead>\n  <tbody>\n    <tr>\n      <th>0</th>\n      <td>1.0</td>\n      <td>1.0</td>\n      <td>4.0</td>\n      <td>3.0</td>\n      <td>3.0</td>\n      <td>3.0</td>\n      <td>2.0</td>\n      <td>1.0</td>\n      <td>1.0</td>\n      <td>2.0</td>\n      <td>...</td>\n      <td>10.0</td>\n      <td>2.0</td>\n      <td>2.0</td>\n      <td>2.0</td>\n      <td>2.0</td>\n      <td>103.0</td>\n      <td>44.0</td>\n      <td>2.0</td>\n      <td>1.0</td>\n      <td>2.0</td>\n    </tr>\n    <tr>\n      <th>1</th>\n      <td>1.0</td>\n      <td>2.0</td>\n      <td>4.0</td>\n      <td>2.0</td>\n      <td>3.5</td>\n      <td>3.0</td>\n      <td>2.0</td>\n      <td>1.0</td>\n      <td>1.0</td>\n      <td>2.0</td>\n      <td>...</td>\n      <td>1.0</td>\n      <td>1.0</td>\n      <td>2.0</td>\n      <td>1.0</td>\n      <td>1.0</td>\n      <td>153.0</td>\n      <td>51.0</td>\n      <td>2.0</td>\n      <td>1.0</td>\n      <td>2.0</td>\n    </tr>\n    <tr>\n      <th>2</th>\n      <td>2.0</td>\n      <td>2.0</td>\n      <td>4.0</td>\n      <td>3.0</td>\n      <td>4.5</td>\n      <td>3.0</td>\n      <td>2.0</td>\n      <td>1.0</td>\n      <td>1.0</td>\n      <td>2.0</td>\n      <td>...</td>\n      <td>1.0</td>\n      <td>2.0</td>\n      <td>2.0</td>\n      <td>2.0</td>\n      <td>2.0</td>\n      <td>160.0</td>\n      <td>53.0</td>\n      <td>2.0</td>\n      <td>1.0</td>\n      <td>2.0</td>\n    </tr>\n    <tr>\n      <th>3</th>\n      <td>2.0</td>\n      <td>2.0</td>\n      <td>2.0</td>\n      <td>3.0</td>\n      <td>3.1</td>\n      <td>3.0</td>\n      <td>2.0</td>\n      <td>1.0</td>\n      <td>1.0</td>\n      <td>2.0</td>\n      <td>...</td>\n      <td>10.0</td>\n      <td>2.0</td>\n      <td>2.0</td>\n      <td>2.0</td>\n      <td>2.0</td>\n      <td>115.0</td>\n      <td>59.0</td>\n      <td>2.0</td>\n      <td>1.0</td>\n      <td>2.0</td>\n    </tr>\n    <tr>\n      <th>4</th>\n      <td>1.0</td>\n      <td>2.0</td>\n      <td>4.0</td>\n      <td>3.0</td>\n      <td>3.1</td>\n      <td>3.0</td>\n      <td>2.0</td>\n      <td>1.0</td>\n      <td>1.0</td>\n      <td>2.0</td>\n      <td>...</td>\n      <td>10.0</td>\n      <td>2.0</td>\n      <td>2.0</td>\n      <td>2.0</td>\n      <td>2.0</td>\n      <td>52.0</td>\n      <td>40.0</td>\n      <td>2.0</td>\n      <td>1.0</td>\n      <td>2.0</td>\n    </tr>\n    <tr>\n      <th>5</th>\n      <td>2.0</td>\n      <td>2.0</td>\n      <td>6.0</td>\n      <td>3.0</td>\n      <td>3.1</td>\n      <td>3.0</td>\n      <td>2.0</td>\n      <td>1.0</td>\n      <td>1.0</td>\n      <td>2.0</td>\n      <td>...</td>\n      <td>10.0</td>\n      <td>2.0</td>\n      <td>2.0</td>\n      <td>2.0</td>\n      <td>2.0</td>\n      <td>298.0</td>\n      <td>33.0</td>\n      <td>2.0</td>\n      <td>1.0</td>\n      <td>2.0</td>\n    </tr>\n    <tr>\n      <th>6</th>\n      <td>2.0</td>\n      <td>2.0</td>\n      <td>2.0</td>\n      <td>2.0</td>\n      <td>3.2</td>\n      <td>3.0</td>\n      <td>1.0</td>\n      <td>1.0</td>\n      <td>2.0</td>\n      <td>1.0</td>\n      <td>...</td>\n      <td>10.0</td>\n      <td>2.0</td>\n      <td>2.0</td>\n      <td>2.0</td>\n      <td>2.0</td>\n      <td>168.0</td>\n      <td>83.0</td>\n      <td>2.0</td>\n      <td>1.0</td>\n      <td>2.0</td>\n    </tr>\n    <tr>\n      <th>7</th>\n      <td>2.0</td>\n      <td>2.0</td>\n      <td>2.0</td>\n      <td>2.0</td>\n      <td>5.0</td>\n      <td>5.0</td>\n      <td>1.0</td>\n      <td>1.0</td>\n      <td>1.0</td>\n      <td>1.0</td>\n      <td>...</td>\n      <td>10.0</td>\n      <td>2.0</td>\n      <td>2.0</td>\n      <td>2.0</td>\n      <td>2.0</td>\n      <td>162.0</td>\n      <td>80.0</td>\n      <td>2.0</td>\n      <td>1.0</td>\n      <td>2.0</td>\n    </tr>\n    <tr>\n      <th>8</th>\n      <td>2.0</td>\n      <td>2.0</td>\n      <td>2.0</td>\n      <td>3.0</td>\n      <td>3.0</td>\n      <td>3.0</td>\n      <td>1.0</td>\n      <td>1.0</td>\n      <td>2.0</td>\n      <td>1.0</td>\n      <td>...</td>\n      <td>1.0</td>\n      <td>1.0</td>\n      <td>1.0</td>\n      <td>1.0</td>\n      <td>2.0</td>\n      <td>76.0</td>\n      <td>71.0</td>\n      <td>2.0</td>\n      <td>1.0</td>\n      <td>2.0</td>\n    </tr>\n    <tr>\n      <th>9</th>\n      <td>1.0</td>\n      <td>2.0</td>\n      <td>5.0</td>\n      <td>3.0</td>\n      <td>3.1</td>\n      <td>3.0</td>\n      <td>2.0</td>\n      <td>1.0</td>\n      <td>1.0</td>\n      <td>2.0</td>\n      <td>...</td>\n      <td>10.0</td>\n      <td>2.0</td>\n      <td>2.0</td>\n      <td>2.0</td>\n      <td>2.0</td>\n      <td>225.0</td>\n      <td>57.0</td>\n      <td>2.0</td>\n      <td>1.0</td>\n      <td>2.0</td>\n    </tr>\n  </tbody>\n</table>\n<p>10 rows × 24 columns</p>\n</div>"
     },
     "execution_count": 13,
     "metadata": {},
     "output_type": "execute_result"
    }
   ],
   "source": [
    "imputer = IterativeImputer(max_iter=20, random_state=0)\n",
    "numpy_df = df.to_numpy()\n",
    "imputer.fit(numpy_df)\n",
    "imp = pd.DataFrame(np.round(imputer.transform(numpy_df)), columns = df.columns)\n",
    "imp['BC'] /= 10\n",
    "imp.head(10)"
   ]
  },
  {
   "cell_type": "code",
   "execution_count": 14,
   "metadata": {},
   "outputs": [],
   "source": [
    "imp.to_csv('prepared_for_rsf_Iterative_imputation.csv', index=False)"
   ]
  },
  {
   "cell_type": "code",
   "execution_count": null,
   "metadata": {},
   "outputs": [],
   "source": []
  }
 ],
 "metadata": {
  "kernelspec": {
   "display_name": "Python 3",
   "language": "python",
   "name": "python3"
  },
  "language_info": {
   "codemirror_mode": {
    "name": "ipython",
    "version": 3
   },
   "file_extension": ".py",
   "mimetype": "text/x-python",
   "name": "python",
   "nbconvert_exporter": "python",
   "pygments_lexer": "ipython3",
   "version": "3.7.3"
  }
 },
 "nbformat": 4,
 "nbformat_minor": 4
}