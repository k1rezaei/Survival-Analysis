{
 "cells": [
  {
   "cell_type": "code",
   "execution_count": 1,
   "metadata": {
    "collapsed": true
   },
   "outputs": [],
   "source": [
    "import numpy as np\n",
    "import pandas as pd\n",
    "import seaborn as sns\n",
    "import matplotlib.pyplot as plt"
   ]
  },
  {
   "cell_type": "code",
   "execution_count": 2,
   "outputs": [],
   "source": [
    "df = pd.read_csv('prepared_for_rsf_with_null.csv')"
   ],
   "metadata": {
    "collapsed": false,
    "pycharm": {
     "name": "#%%\n"
    }
   }
  },
  {
   "cell_type": "code",
   "execution_count": 3,
   "outputs": [
    {
     "data": {
      "text/plain": "     DC   DE   DT   DW   DX   DY\n0   2.0  NaN  NaN  NaN  NaN  NaN\n1   1.0  1.0  1.0  2.0  1.0  1.0\n2   1.0  1.0  2.0  2.0  2.0  2.0\n3   2.0  NaN  NaN  NaN  NaN  NaN\n4   2.0  NaN  NaN  NaN  NaN  NaN\n5   2.0  NaN  NaN  NaN  NaN  NaN\n6   2.0  NaN  NaN  NaN  NaN  NaN\n7   2.0  NaN  NaN  NaN  NaN  NaN\n8   1.0  1.0  1.0  1.0  1.0  2.0\n9   2.0  NaN  NaN  NaN  NaN  NaN\n10  1.0  1.0  1.0  1.0  2.0  2.0\n11  2.0  NaN  NaN  NaN  NaN  NaN\n12  NaN  NaN  NaN  NaN  NaN  NaN\n13  2.0  NaN  NaN  NaN  NaN  NaN\n14  1.0  1.0  1.0  1.0  1.0  2.0\n15  1.0  1.0  1.0  2.0  1.0  1.0\n16  1.0  1.0  1.0  1.0  1.0  1.0\n17  1.0  1.0  2.0  2.0  2.0  2.0\n18  2.0  NaN  NaN  NaN  NaN  NaN\n19  1.0  1.0  1.0  2.0  1.0  2.0",
      "text/html": "<div>\n<style scoped>\n    .dataframe tbody tr th:only-of-type {\n        vertical-align: middle;\n    }\n\n    .dataframe tbody tr th {\n        vertical-align: top;\n    }\n\n    .dataframe thead th {\n        text-align: right;\n    }\n</style>\n<table border=\"1\" class=\"dataframe\">\n  <thead>\n    <tr style=\"text-align: right;\">\n      <th></th>\n      <th>DC</th>\n      <th>DE</th>\n      <th>DT</th>\n      <th>DW</th>\n      <th>DX</th>\n      <th>DY</th>\n    </tr>\n  </thead>\n  <tbody>\n    <tr>\n      <th>0</th>\n      <td>2.0</td>\n      <td>NaN</td>\n      <td>NaN</td>\n      <td>NaN</td>\n      <td>NaN</td>\n      <td>NaN</td>\n    </tr>\n    <tr>\n      <th>1</th>\n      <td>1.0</td>\n      <td>1.0</td>\n      <td>1.0</td>\n      <td>2.0</td>\n      <td>1.0</td>\n      <td>1.0</td>\n    </tr>\n    <tr>\n      <th>2</th>\n      <td>1.0</td>\n      <td>1.0</td>\n      <td>2.0</td>\n      <td>2.0</td>\n      <td>2.0</td>\n      <td>2.0</td>\n    </tr>\n    <tr>\n      <th>3</th>\n      <td>2.0</td>\n      <td>NaN</td>\n      <td>NaN</td>\n      <td>NaN</td>\n      <td>NaN</td>\n      <td>NaN</td>\n    </tr>\n    <tr>\n      <th>4</th>\n      <td>2.0</td>\n      <td>NaN</td>\n      <td>NaN</td>\n      <td>NaN</td>\n      <td>NaN</td>\n      <td>NaN</td>\n    </tr>\n    <tr>\n      <th>5</th>\n      <td>2.0</td>\n      <td>NaN</td>\n      <td>NaN</td>\n      <td>NaN</td>\n      <td>NaN</td>\n      <td>NaN</td>\n    </tr>\n    <tr>\n      <th>6</th>\n      <td>2.0</td>\n      <td>NaN</td>\n      <td>NaN</td>\n      <td>NaN</td>\n      <td>NaN</td>\n      <td>NaN</td>\n    </tr>\n    <tr>\n      <th>7</th>\n      <td>2.0</td>\n      <td>NaN</td>\n      <td>NaN</td>\n      <td>NaN</td>\n      <td>NaN</td>\n      <td>NaN</td>\n    </tr>\n    <tr>\n      <th>8</th>\n      <td>1.0</td>\n      <td>1.0</td>\n      <td>1.0</td>\n      <td>1.0</td>\n      <td>1.0</td>\n      <td>2.0</td>\n    </tr>\n    <tr>\n      <th>9</th>\n      <td>2.0</td>\n      <td>NaN</td>\n      <td>NaN</td>\n      <td>NaN</td>\n      <td>NaN</td>\n      <td>NaN</td>\n    </tr>\n    <tr>\n      <th>10</th>\n      <td>1.0</td>\n      <td>1.0</td>\n      <td>1.0</td>\n      <td>1.0</td>\n      <td>2.0</td>\n      <td>2.0</td>\n    </tr>\n    <tr>\n      <th>11</th>\n      <td>2.0</td>\n      <td>NaN</td>\n      <td>NaN</td>\n      <td>NaN</td>\n      <td>NaN</td>\n      <td>NaN</td>\n    </tr>\n    <tr>\n      <th>12</th>\n      <td>NaN</td>\n      <td>NaN</td>\n      <td>NaN</td>\n      <td>NaN</td>\n      <td>NaN</td>\n      <td>NaN</td>\n    </tr>\n    <tr>\n      <th>13</th>\n      <td>2.0</td>\n      <td>NaN</td>\n      <td>NaN</td>\n      <td>NaN</td>\n      <td>NaN</td>\n      <td>NaN</td>\n    </tr>\n    <tr>\n      <th>14</th>\n      <td>1.0</td>\n      <td>1.0</td>\n      <td>1.0</td>\n      <td>1.0</td>\n      <td>1.0</td>\n      <td>2.0</td>\n    </tr>\n    <tr>\n      <th>15</th>\n      <td>1.0</td>\n      <td>1.0</td>\n      <td>1.0</td>\n      <td>2.0</td>\n      <td>1.0</td>\n      <td>1.0</td>\n    </tr>\n    <tr>\n      <th>16</th>\n      <td>1.0</td>\n      <td>1.0</td>\n      <td>1.0</td>\n      <td>1.0</td>\n      <td>1.0</td>\n      <td>1.0</td>\n    </tr>\n    <tr>\n      <th>17</th>\n      <td>1.0</td>\n      <td>1.0</td>\n      <td>2.0</td>\n      <td>2.0</td>\n      <td>2.0</td>\n      <td>2.0</td>\n    </tr>\n    <tr>\n      <th>18</th>\n      <td>2.0</td>\n      <td>NaN</td>\n      <td>NaN</td>\n      <td>NaN</td>\n      <td>NaN</td>\n      <td>NaN</td>\n    </tr>\n    <tr>\n      <th>19</th>\n      <td>1.0</td>\n      <td>1.0</td>\n      <td>1.0</td>\n      <td>2.0</td>\n      <td>1.0</td>\n      <td>2.0</td>\n    </tr>\n  </tbody>\n</table>\n</div>"
     },
     "execution_count": 3,
     "metadata": {},
     "output_type": "execute_result"
    }
   ],
   "source": [
    "df[['DC', 'DE', 'DT', 'DW', 'DX', 'DY']].head(20)"
   ],
   "metadata": {
    "collapsed": false,
    "pycharm": {
     "name": "#%%\n"
    }
   }
  },
  {
   "cell_type": "code",
   "execution_count": 4,
   "outputs": [
    {
     "data": {
      "text/plain": "Text(0.5, 1.0, 'dead patients')"
     },
     "execution_count": 4,
     "metadata": {},
     "output_type": "execute_result"
    },
    {
     "data": {
      "text/plain": "<Figure size 432x288 with 1 Axes>",
      "image/png": "[encoded data removed]"
     },
     "metadata": {
      "needs_background": "light"
     },
     "output_type": "display_data"
    }
   ],
   "source": [
    "dead = df[df['dead'] == 1]\n",
    "plt.hist(dead[dead['AY'] == 2]['EZ'], bins = range(0, 3000, 100))\n",
    "plt.xlabel('survival time after diagnostic, $AY=2$')\n",
    "plt.ylabel('number of patients')\n",
    "plt.title('dead patients')"
   ],
   "metadata": {
    "collapsed": false,
    "pycharm": {
     "name": "#%%\n"
    }
   }
  },
  {
   "cell_type": "code",
   "execution_count": 5,
   "outputs": [
    {
     "data": {
      "text/plain": "Text(0.5, 1.0, 'dead patients')"
     },
     "execution_count": 5,
     "metadata": {},
     "output_type": "execute_result"
    },
    {
     "data": {
      "text/plain": "<Figure size 432x288 with 1 Axes>",
      "image/png": "[encoded data removed]"
     },
     "metadata": {
      "needs_background": "light"
     },
     "output_type": "display_data"
    }
   ],
   "source": [
    "plt.hist(dead[dead['AY'] == 3]['EZ'], bins = range(0, 3000, 100))\n",
    "plt.xlabel('survival time after diagnostic, $AY=3$')\n",
    "plt.ylabel('number of patients')\n",
    "plt.title('dead patients')"
   ],
   "metadata": {
    "collapsed": false,
    "pycharm": {
     "name": "#%%\n"
    }
   }
  },
  {
   "cell_type": "code",
   "execution_count": 6,
   "outputs": [
    {
     "data": {
      "text/plain": "Text(0.5, 1.0, 'dead patients')"
     },
     "execution_count": 6,
     "metadata": {},
     "output_type": "execute_result"
    },
    {
     "data": {
      "text/plain": "<Figure size 432x288 with 1 Axes>",
      "image/png": "[encoded data removed]"
     },
     "metadata": {
      "needs_background": "light"
     },
     "output_type": "display_data"
    }
   ],
   "source": [
    "plt.hist(dead[dead['AY'] == 4]['EZ'], bins = range(0, 3000, 100))\n",
    "plt.xlabel('survival time after diagnostic, $AY=4$')\n",
    "plt.ylabel('number of patients')\n",
    "plt.title('dead patients')\n"
   ],
   "metadata": {
    "collapsed": false,
    "pycharm": {
     "name": "#%%\n"
    }
   }
  },
  {
   "cell_type": "code",
   "execution_count": 7,
   "outputs": [
    {
     "data": {
      "text/plain": "Text(0.5, 1.0, 'dead patients')"
     },
     "execution_count": 7,
     "metadata": {},
     "output_type": "execute_result"
    },
    {
     "data": {
      "text/plain": "<Figure size 432x288 with 1 Axes>",
      "image/png": "[encoded data removed]"
     },
     "metadata": {
      "needs_background": "light"
     },
     "output_type": "display_data"
    }
   ],
   "source": [
    "plt.hist(dead[dead['AY'].isnull()]['EZ'], bins = range(0, 3000, 100))\n",
    "plt.xlabel('survival time after diagnostic, $AY=null$')\n",
    "plt.ylabel('number of patients')\n",
    "plt.title('dead patients')"
   ],
   "metadata": {
    "collapsed": false,
    "pycharm": {
     "name": "#%%\n"
    }
   }
  },
  {
   "cell_type": "code",
   "execution_count": 8,
   "outputs": [
    {
     "name": "stdout",
     "output_type": "stream",
     "text": [
      "0\n",
      "3\n",
      "4\n",
      "5\n",
      "6\n",
      "7\n",
      "9\n",
      "11\n",
      "13\n",
      "18\n",
      "20\n",
      "22\n",
      "23\n",
      "33\n",
      "39\n",
      "41\n",
      "42\n",
      "47\n",
      "50\n",
      "52\n",
      "54\n",
      "63\n",
      "76\n",
      "80\n",
      "86\n",
      "88\n",
      "90\n",
      "91\n",
      "102\n",
      "103\n",
      "104\n",
      "109\n",
      "111\n",
      "113\n",
      "116\n",
      "119\n",
      "124\n",
      "125\n",
      "132\n",
      "134\n",
      "136\n",
      "138\n",
      "140\n",
      "142\n",
      "145\n",
      "146\n",
      "149\n",
      "156\n",
      "160\n",
      "161\n",
      "173\n",
      "191\n",
      "203\n",
      "209\n",
      "211\n",
      "213\n",
      "215\n",
      "218\n",
      "219\n",
      "220\n",
      "222\n",
      "227\n",
      "231\n",
      "233\n",
      "234\n",
      "236\n",
      "237\n",
      "239\n",
      "241\n",
      "242\n",
      "243\n",
      "247\n",
      "248\n",
      "250\n",
      "251\n",
      "252\n",
      "255\n",
      "256\n",
      "259\n",
      "265\n",
      "268\n",
      "269\n",
      "271\n",
      "272\n",
      "275\n",
      "280\n",
      "283\n",
      "284\n",
      "289\n",
      "291\n",
      "295\n",
      "296\n",
      "298\n",
      "301\n",
      "302\n",
      "305\n",
      "306\n",
      "309\n",
      "315\n",
      "316\n",
      "320\n",
      "334\n",
      "336\n",
      "337\n",
      "339\n",
      "340\n",
      "342\n",
      "343\n",
      "344\n",
      "345\n",
      "349\n",
      "354\n",
      "355\n",
      "369\n",
      "370\n",
      "373\n",
      "374\n",
      "375\n",
      "376\n",
      "377\n",
      "380\n",
      "381\n",
      "384\n",
      "385\n",
      "387\n",
      "389\n",
      "391\n",
      "393\n",
      "394\n",
      "395\n",
      "397\n",
      "403\n",
      "404\n",
      "406\n",
      "411\n",
      "414\n",
      "415\n",
      "416\n",
      "417\n",
      "419\n",
      "420\n",
      "421\n",
      "424\n",
      "425\n",
      "427\n",
      "428\n",
      "439\n",
      "441\n",
      "442\n",
      "444\n",
      "449\n",
      "450\n",
      "453\n",
      "454\n",
      "457\n",
      "459\n",
      "461\n",
      "463\n",
      "464\n",
      "468\n",
      "470\n",
      "473\n",
      "474\n",
      "479\n",
      "480\n",
      "481\n",
      "486\n",
      "491\n",
      "494\n",
      "495\n",
      "496\n",
      "498\n",
      "499\n",
      "507\n",
      "509\n",
      "510\n",
      "512\n",
      "516\n",
      "523\n",
      "525\n"
     ]
    }
   ],
   "source": [
    "\n",
    "for index, row in df.iterrows():\n",
    "    if row['DC'] == 2:\n",
    "        print(index)\n",
    "        row['DE'] = 10 #10\n",
    "        row['DT'] = row['DW'] = row['DX'] = row['DY'] = 2\n",
    "        df.loc[index] = row\n",
    "    # elif row['DC'] == 1:\n",
    "    #     if row['DT'] == 2:\n",
    "    #         print(row['DC'], row['DE'], row['DT'], row['DW'], row['DX'], row['DY'])"
   ],
   "metadata": {
    "collapsed": false,
    "pycharm": {
     "name": "#%%\n"
    }
   }
  },
  {
   "cell_type": "code",
   "execution_count": 9,
   "outputs": [],
   "source": [
    "df.to_csv('prepared_with_null_fix_DC.csv', index=False)"
   ],
   "metadata": {
    "collapsed": false,
    "pycharm": {
     "name": "#%%\n"
    }
   }
  },
  {
   "cell_type": "code",
   "execution_count": 10,
   "outputs": [
    {
     "data": {
      "text/plain": "     Y   AF   AQ   AY   BC  BE   BG   BH   BI  BL  ...    DE   DT   DW   DX  \\\n0  1.0  1.0  4.0  NaN  NaN NaN  2.0  1.0  1.0 NaN  ...  10.0  2.0  2.0  2.0   \n1  1.0  2.0  4.0  2.0  NaN NaN  2.0  1.0  1.0 NaN  ...   1.0  1.0  2.0  1.0   \n2  2.0  2.0  4.0  NaN  4.5 NaN  2.0  1.0  1.0 NaN  ...   1.0  2.0  2.0  2.0   \n3  2.0  2.0  2.0  3.0  NaN NaN  2.0  1.0  1.0 NaN  ...  10.0  2.0  2.0  2.0   \n4  1.0  2.0  4.0  NaN  NaN NaN  2.0  1.0  1.0 NaN  ...  10.0  2.0  2.0  2.0   \n\n    DY     EZ   Age  metastasis  dead  secondprim  \n0  2.0  103.0  44.0         NaN   1.0         2.0  \n1  1.0  153.0  51.0         2.0   1.0         2.0  \n2  2.0  160.0  53.0         2.0   1.0         2.0  \n3  2.0  115.0  59.0         NaN   1.0         2.0  \n4  2.0   52.0  40.0         2.0   1.0         2.0  \n\n[5 rows x 24 columns]",
      "text/html": "<div>\n<style scoped>\n    .dataframe tbody tr th:only-of-type {\n        vertical-align: middle;\n    }\n\n    .dataframe tbody tr th {\n        vertical-align: top;\n    }\n\n    .dataframe thead th {\n        text-align: right;\n    }\n</style>\n<table border=\"1\" class=\"dataframe\">\n  <thead>\n    <tr style=\"text-align: right;\">\n      <th></th>\n      <th>Y</th>\n      <th>AF</th>\n      <th>AQ</th>\n      <th>AY</th>\n      <th>BC</th>\n      <th>BE</th>\n      <th>BG</th>\n      <th>BH</th>\n      <th>BI</th>\n      <th>BL</th>\n      <th>...</th>\n      <th>DE</th>\n      <th>DT</th>\n      <th>DW</th>\n      <th>DX</th>\n      <th>DY</th>\n      <th>EZ</th>\n      <th>Age</th>\n      <th>metastasis</th>\n      <th>dead</th>\n      <th>secondprim</th>\n    </tr>\n  </thead>\n  <tbody>\n    <tr>\n      <th>0</th>\n      <td>1.0</td>\n      <td>1.0</td>\n      <td>4.0</td>\n      <td>NaN</td>\n      <td>NaN</td>\n      <td>NaN</td>\n      <td>2.0</td>\n      <td>1.0</td>\n      <td>1.0</td>\n      <td>NaN</td>\n      <td>...</td>\n      <td>10.0</td>\n      <td>2.0</td>\n      <td>2.0</td>\n      <td>2.0</td>\n      <td>2.0</td>\n      <td>103.0</td>\n      <td>44.0</td>\n      <td>NaN</td>\n      <td>1.0</td>\n      <td>2.0</td>\n    </tr>\n    <tr>\n      <th>1</th>\n      <td>1.0</td>\n      <td>2.0</td>\n      <td>4.0</td>\n      <td>2.0</td>\n      <td>NaN</td>\n      <td>NaN</td>\n      <td>2.0</td>\n      <td>1.0</td>\n      <td>1.0</td>\n      <td>NaN</td>\n      <td>...</td>\n      <td>1.0</td>\n      <td>1.0</td>\n      <td>2.0</td>\n      <td>1.0</td>\n      <td>1.0</td>\n      <td>153.0</td>\n      <td>51.0</td>\n      <td>2.0</td>\n      <td>1.0</td>\n      <td>2.0</td>\n    </tr>\n    <tr>\n      <th>2</th>\n      <td>2.0</td>\n      <td>2.0</td>\n      <td>4.0</td>\n      <td>NaN</td>\n      <td>4.5</td>\n      <td>NaN</td>\n      <td>2.0</td>\n      <td>1.0</td>\n      <td>1.0</td>\n      <td>NaN</td>\n      <td>...</td>\n      <td>1.0</td>\n      <td>2.0</td>\n      <td>2.0</td>\n      <td>2.0</td>\n      <td>2.0</td>\n      <td>160.0</td>\n      <td>53.0</td>\n      <td>2.0</td>\n      <td>1.0</td>\n      <td>2.0</td>\n    </tr>\n    <tr>\n      <th>3</th>\n      <td>2.0</td>\n      <td>2.0</td>\n      <td>2.0</td>\n      <td>3.0</td>\n      <td>NaN</td>\n      <td>NaN</td>\n      <td>2.0</td>\n      <td>1.0</td>\n      <td>1.0</td>\n      <td>NaN</td>\n      <td>...</td>\n      <td>10.0</td>\n      <td>2.0</td>\n      <td>2.0</td>\n      <td>2.0</td>\n      <td>2.0</td>\n      <td>115.0</td>\n      <td>59.0</td>\n      <td>NaN</td>\n      <td>1.0</td>\n      <td>2.0</td>\n    </tr>\n    <tr>\n      <th>4</th>\n      <td>1.0</td>\n      <td>2.0</td>\n      <td>4.0</td>\n      <td>NaN</td>\n      <td>NaN</td>\n      <td>NaN</td>\n      <td>2.0</td>\n      <td>1.0</td>\n      <td>1.0</td>\n      <td>NaN</td>\n      <td>...</td>\n      <td>10.0</td>\n      <td>2.0</td>\n      <td>2.0</td>\n      <td>2.0</td>\n      <td>2.0</td>\n      <td>52.0</td>\n      <td>40.0</td>\n      <td>2.0</td>\n      <td>1.0</td>\n      <td>2.0</td>\n    </tr>\n  </tbody>\n</table>\n<p>5 rows × 24 columns</p>\n</div>"
     },
     "execution_count": 10,
     "metadata": {},
     "output_type": "execute_result"
    }
   ],
   "source": [
    "df.head()\n"
   ],
   "metadata": {
    "collapsed": false,
    "pycharm": {
     "name": "#%%\n"
    }
   }
  },
  {
   "cell_type": "code",
   "execution_count": null,
   "outputs": [],
   "source": [],
   "metadata": {
    "collapsed": false,
    "pycharm": {
     "name": "#%%\n"
    }
   }
  }
 ],
 "metadata": {
  "kernelspec": {
   "display_name": "Python 3",
   "language": "python",
   "name": "python3"
  },
  "language_info": {
   "codemirror_mode": {
    "name": "ipython",
    "version": 2
   },
   "file_extension": ".py",
   "mimetype": "text/x-python",
   "name": "python",
   "nbconvert_exporter": "python",
   "pygments_lexer": "ipython2",
   "version": "2.7.6"
  }
 },
 "nbformat": 4,
 "nbformat_minor": 0
}